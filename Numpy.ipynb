{
  "nbformat": 4,
  "nbformat_minor": 0,
  "metadata": {
    "colab": {
      "name": "Numpy.ipynb",
      "provenance": [],
      "collapsed_sections": [],
      "toc_visible": true,
      "include_colab_link": true
    },
    "kernelspec": {
      "name": "python3",
      "display_name": "Python 3"
    }
  },
  "cells": [
    {
      "cell_type": "markdown",
      "metadata": {
        "id": "view-in-github",
        "colab_type": "text"
      },
      "source": [
        "<a href=\"https://colab.research.google.com/github/shenzhun/machine-learning-brushup/blob/master/Numpy.ipynb\" target=\"_parent\"><img src=\"https://colab.research.google.com/assets/colab-badge.svg\" alt=\"Open In Colab\"/></a>"
      ]
    },
    {
      "cell_type": "code",
      "metadata": {
        "id": "ZL17CWpQpdCW",
        "colab_type": "code",
        "colab": {}
      },
      "source": [
        "import numpy as np"
      ],
      "execution_count": 0,
      "outputs": []
    },
    {
      "cell_type": "markdown",
      "metadata": {
        "id": "H-p__fb5CcCu",
        "colab_type": "text"
      },
      "source": [
        "#Array"
      ]
    },
    {
      "cell_type": "code",
      "metadata": {
        "id": "cqrdMeWhBFmG",
        "colab_type": "code",
        "outputId": "723cb78e-9af7-47c0-d690-0cc1d50635da",
        "colab": {
          "base_uri": "https://localhost:8080/",
          "height": 85
        }
      },
      "source": [
        "A = np.array([1, 2, 3])\n",
        "for i in A:\n",
        "  print(i)\n",
        "\n",
        "A.shape\n",
        "\n",
        "B = np.array([[1], [2], [3]])\n",
        "B.shape"
      ],
      "execution_count": 0,
      "outputs": [
        {
          "output_type": "stream",
          "text": [
            "1\n",
            "2\n",
            "3\n"
          ],
          "name": "stdout"
        },
        {
          "output_type": "execute_result",
          "data": {
            "text/plain": [
              "(3, 1)"
            ]
          },
          "metadata": {
            "tags": []
          },
          "execution_count": 20
        }
      ]
    },
    {
      "cell_type": "code",
      "metadata": {
        "id": "Rrvsz-9sB5gX",
        "colab_type": "code",
        "outputId": "9ef3cbaf-51d4-4c0d-f76e-8420a48718ca",
        "colab": {
          "base_uri": "https://localhost:8080/",
          "height": 34
        }
      },
      "source": [
        "2 * A"
      ],
      "execution_count": 0,
      "outputs": [
        {
          "output_type": "execute_result",
          "data": {
            "text/plain": [
              "array([2, 4, 6])"
            ]
          },
          "metadata": {
            "tags": []
          },
          "execution_count": 4
        }
      ]
    },
    {
      "cell_type": "code",
      "metadata": {
        "id": "fGCjbQeaB-c_",
        "colab_type": "code",
        "outputId": "cabe76d8-3944-4444-b771-081a03df8d78",
        "colab": {
          "base_uri": "https://localhost:8080/",
          "height": 34
        }
      },
      "source": [
        "A ** 2\n",
        "np.sqrt(A)"
      ],
      "execution_count": 0,
      "outputs": [
        {
          "output_type": "execute_result",
          "data": {
            "text/plain": [
              "array([1.        , 1.41421356, 1.73205081])"
            ]
          },
          "metadata": {
            "tags": []
          },
          "execution_count": 6
        }
      ]
    },
    {
      "cell_type": "markdown",
      "metadata": {
        "id": "R7TWG9P9FiWr",
        "colab_type": "text"
      },
      "source": [
        "## Indexing"
      ]
    },
    {
      "cell_type": "code",
      "metadata": {
        "id": "G6HwOmlCFlms",
        "colab_type": "code",
        "outputId": "0c7a812c-4c40-4e24-d0b9-f0a6f32dfab9",
        "colab": {
          "base_uri": "https://localhost:8080/",
          "height": 119
        }
      },
      "source": [
        "a = np.array([[1,2,3,4], [5,6,7,8], [9,10,11,12]])\n",
        "row_r1 = a[1, :]\n",
        "row_r2 = a[1:2, :]\n",
        "print(row_r1, row_r1.shape)\n",
        "print(row_r2, row_r2.shape)\n",
        "\n",
        "col_r1 = a[:, 1]\n",
        "col_r2 = a[:, 1:2]\n",
        "print(col_r1, col_r1.shape)\n",
        "print(col_r2, col_r2.shape)"
      ],
      "execution_count": 0,
      "outputs": [
        {
          "output_type": "stream",
          "text": [
            "[5 6 7 8] (4,)\n",
            "[[5 6 7 8]] (1, 4)\n",
            "[ 2  6 10] (3,)\n",
            "[[ 2]\n",
            " [ 6]\n",
            " [10]] (3, 1)\n"
          ],
          "name": "stdout"
        }
      ]
    },
    {
      "cell_type": "markdown",
      "metadata": {
        "id": "rhteLDgJCeoG",
        "colab_type": "text"
      },
      "source": [
        "# Dot Product"
      ]
    },
    {
      "cell_type": "code",
      "metadata": {
        "id": "piH19_L9ClMs",
        "colab_type": "code",
        "outputId": "b080dc11-8d51-4240-e1ed-1b7168f21b6b",
        "colab": {
          "base_uri": "https://localhost:8080/",
          "height": 68
        }
      },
      "source": [
        "a = np.array([1,2])\n",
        "b = np.array([2,1])\n",
        "dot = a * b\n",
        "print(dot)\n",
        "print(np.sum(a*b), (a*b).sum())\n",
        "np.dot(a, b)\n",
        "a.dot(b)\n",
        "b.dot(a)\n",
        "\n",
        "np.linalg.norm(a)"
      ],
      "execution_count": 0,
      "outputs": [
        {
          "output_type": "stream",
          "text": [
            "[2 2]\n",
            "4 4\n"
          ],
          "name": "stdout"
        },
        {
          "output_type": "execute_result",
          "data": {
            "text/plain": [
              "2.23606797749979"
            ]
          },
          "metadata": {
            "tags": []
          },
          "execution_count": 12
        }
      ]
    },
    {
      "cell_type": "markdown",
      "metadata": {
        "id": "qMUrT61yEJwo",
        "colab_type": "text"
      },
      "source": [
        "# Vector and Matrix"
      ]
    },
    {
      "cell_type": "code",
      "metadata": {
        "id": "ghqi1C4DEGb4",
        "colab_type": "code",
        "outputId": "5eedeb26-d621-4d10-e580-bb3c9dc3e267",
        "colab": {
          "base_uri": "https://localhost:8080/",
          "height": 51
        }
      },
      "source": [
        "M = np.array([[1,2], [3, 4]])\n",
        "L = [[1,2], [3, 4]]\n",
        "L[0]\n",
        "L[0][0]\n",
        "M[0][0]\n",
        "M[0, 0]\n",
        "\n",
        "M.T"
      ],
      "execution_count": 0,
      "outputs": [
        {
          "output_type": "execute_result",
          "data": {
            "text/plain": [
              "array([[1, 3],\n",
              "       [2, 4]])"
            ]
          },
          "metadata": {
            "tags": []
          },
          "execution_count": 17
        }
      ]
    },
    {
      "cell_type": "markdown",
      "metadata": {
        "id": "0p3DG205IVA_",
        "colab_type": "text"
      },
      "source": [
        "## Filtering"
      ]
    },
    {
      "cell_type": "code",
      "metadata": {
        "id": "gU5wlrTwP6Hn",
        "colab_type": "code",
        "colab": {}
      },
      "source": [
        ""
      ],
      "execution_count": 0,
      "outputs": []
    },
    {
      "cell_type": "markdown",
      "metadata": {
        "id": "8nJZ_XAsP6b4",
        "colab_type": "text"
      },
      "source": [
        "# Generating Matrices"
      ]
    },
    {
      "cell_type": "code",
      "metadata": {
        "id": "76a22cqOQB6r",
        "colab_type": "code",
        "colab": {
          "base_uri": "https://localhost:8080/",
          "height": 204
        },
        "outputId": "087ff829-cfcb-43fa-abc9-600c9d25aee4"
      },
      "source": [
        "Z = np.zeros(10)\n",
        "print(Z)\n",
        "\n",
        "Z = np.zeros((10, 10))\n",
        "print(Z)"
      ],
      "execution_count": 6,
      "outputs": [
        {
          "output_type": "stream",
          "text": [
            "[0. 0. 0. 0. 0. 0. 0. 0. 0. 0.]\n",
            "[[0. 0. 0. 0. 0. 0. 0. 0. 0. 0.]\n",
            " [0. 0. 0. 0. 0. 0. 0. 0. 0. 0.]\n",
            " [0. 0. 0. 0. 0. 0. 0. 0. 0. 0.]\n",
            " [0. 0. 0. 0. 0. 0. 0. 0. 0. 0.]\n",
            " [0. 0. 0. 0. 0. 0. 0. 0. 0. 0.]\n",
            " [0. 0. 0. 0. 0. 0. 0. 0. 0. 0.]\n",
            " [0. 0. 0. 0. 0. 0. 0. 0. 0. 0.]\n",
            " [0. 0. 0. 0. 0. 0. 0. 0. 0. 0.]\n",
            " [0. 0. 0. 0. 0. 0. 0. 0. 0. 0.]\n",
            " [0. 0. 0. 0. 0. 0. 0. 0. 0. 0.]]\n"
          ],
          "name": "stdout"
        }
      ]
    },
    {
      "cell_type": "code",
      "metadata": {
        "id": "DSvGUXoLQYEl",
        "colab_type": "code",
        "colab": {
          "base_uri": "https://localhost:8080/",
          "height": 187
        },
        "outputId": "ad4eeaab-a8b6-464d-ab95-7cbb26740640"
      },
      "source": [
        "np.ones((10, 10))"
      ],
      "execution_count": 7,
      "outputs": [
        {
          "output_type": "execute_result",
          "data": {
            "text/plain": [
              "array([[1., 1., 1., 1., 1., 1., 1., 1., 1., 1.],\n",
              "       [1., 1., 1., 1., 1., 1., 1., 1., 1., 1.],\n",
              "       [1., 1., 1., 1., 1., 1., 1., 1., 1., 1.],\n",
              "       [1., 1., 1., 1., 1., 1., 1., 1., 1., 1.],\n",
              "       [1., 1., 1., 1., 1., 1., 1., 1., 1., 1.],\n",
              "       [1., 1., 1., 1., 1., 1., 1., 1., 1., 1.],\n",
              "       [1., 1., 1., 1., 1., 1., 1., 1., 1., 1.],\n",
              "       [1., 1., 1., 1., 1., 1., 1., 1., 1., 1.],\n",
              "       [1., 1., 1., 1., 1., 1., 1., 1., 1., 1.],\n",
              "       [1., 1., 1., 1., 1., 1., 1., 1., 1., 1.]])"
            ]
          },
          "metadata": {
            "tags": []
          },
          "execution_count": 7
        }
      ]
    },
    {
      "cell_type": "code",
      "metadata": {
        "id": "jWZTeEFiQc8n",
        "colab_type": "code",
        "colab": {
          "base_uri": "https://localhost:8080/",
          "height": 357
        },
        "outputId": "d7ae5765-45d6-47d0-d0c0-f738e0212cb8"
      },
      "source": [
        "np.random.random((10, 10))"
      ],
      "execution_count": 9,
      "outputs": [
        {
          "output_type": "execute_result",
          "data": {
            "text/plain": [
              "array([[0.32108714, 0.9871256 , 0.03394738, 0.94913969, 0.75456768,\n",
              "        0.68990812, 0.29779663, 0.3362326 , 0.28277077, 0.01963986],\n",
              "       [0.14608894, 0.01984178, 0.04083589, 0.33999674, 0.41404978,\n",
              "        0.42596016, 0.44272689, 0.22690105, 0.82530216, 0.63755427],\n",
              "       [0.75219351, 0.21440846, 0.00916578, 0.75043872, 0.93881645,\n",
              "        0.50914506, 0.41432537, 0.03349775, 0.91086495, 0.60869792],\n",
              "       [0.80407249, 0.47938034, 0.70433889, 0.77845948, 0.36751809,\n",
              "        0.01676428, 0.28506869, 0.10829477, 0.50955047, 0.338198  ],\n",
              "       [0.02416267, 0.87431808, 0.25411729, 0.26197707, 0.7882777 ,\n",
              "        0.74573534, 0.70688086, 0.0691838 , 0.1387246 , 0.66406717],\n",
              "       [0.22921546, 0.25632342, 0.84400971, 0.38283172, 0.36745642,\n",
              "        0.52663953, 0.98863517, 0.51857481, 0.39958532, 0.1308098 ],\n",
              "       [0.368471  , 0.10823888, 0.1447138 , 0.78750076, 0.02654921,\n",
              "        0.06710264, 0.5664729 , 0.71007407, 0.23298807, 0.86999465],\n",
              "       [0.50689661, 0.3976454 , 0.23897304, 0.137476  , 0.17233178,\n",
              "        0.36839365, 0.61913799, 0.36153116, 0.73071843, 0.20037385],\n",
              "       [0.36346285, 0.43308222, 0.23578853, 0.33283347, 0.86123262,\n",
              "        0.29720784, 0.45160412, 0.89969263, 0.58550233, 0.12178722],\n",
              "       [0.36659525, 0.2793369 , 0.35414567, 0.55649563, 0.30933912,\n",
              "        0.57432284, 0.82020308, 0.70229885, 0.57519034, 0.71603885]])"
            ]
          },
          "metadata": {
            "tags": []
          },
          "execution_count": 9
        }
      ]
    },
    {
      "cell_type": "code",
      "metadata": {
        "id": "IBR48MRpQmME",
        "colab_type": "code",
        "colab": {
          "base_uri": "https://localhost:8080/",
          "height": 34
        },
        "outputId": "c37f2a0b-5668-4bf2-b8de-b864ed10c610"
      },
      "source": [
        "# gaussin \n",
        "G = np.random.randn(10, 10)\n",
        "G = np.random.standard_normal((10, 10))\n",
        "G.mean()\n",
        "G.var()"
      ],
      "execution_count": 13,
      "outputs": [
        {
          "output_type": "execute_result",
          "data": {
            "text/plain": [
              "1.1537734863704017"
            ]
          },
          "metadata": {
            "tags": []
          },
          "execution_count": 13
        }
      ]
    },
    {
      "cell_type": "code",
      "metadata": {
        "id": "bLX1QOH8SFbO",
        "colab_type": "code",
        "colab": {
          "base_uri": "https://localhost:8080/",
          "height": 51
        },
        "outputId": "146dbc79-33ee-407f-a24e-1c204ca1a4f4"
      },
      "source": [
        "A = np.array([[5, 6], [7, 8]])\n",
        "B = np.array([[1, 2], [3, 4]])\n",
        "\n",
        "# element wise\n",
        "A * B \n",
        "\n",
        "# matrix product, dot product\n",
        "A.dot(B)\n"
      ],
      "execution_count": 19,
      "outputs": [
        {
          "output_type": "execute_result",
          "data": {
            "text/plain": [
              "array([[23, 34],\n",
              "       [31, 46]])"
            ]
          },
          "metadata": {
            "tags": []
          },
          "execution_count": 19
        }
      ]
    },
    {
      "cell_type": "code",
      "metadata": {
        "id": "BaBvE3sNU7aq",
        "colab_type": "code",
        "colab": {
          "base_uri": "https://localhost:8080/",
          "height": 85
        },
        "outputId": "dfa6d509-c0d8-42ea-d0d0-19b6387295ac"
      },
      "source": [
        "A = np.array([[1,2], [3, 4]])\n",
        "Ainv = np.linalg.inv(A)\n",
        "print(Ainv)\n",
        "\n",
        "Ainv.dot(A)"
      ],
      "execution_count": 23,
      "outputs": [
        {
          "output_type": "stream",
          "text": [
            "[[-2.   1. ]\n",
            " [ 1.5 -0.5]]\n"
          ],
          "name": "stdout"
        },
        {
          "output_type": "execute_result",
          "data": {
            "text/plain": [
              "array([[1.00000000e+00, 0.00000000e+00],\n",
              "       [1.11022302e-16, 1.00000000e+00]])"
            ]
          },
          "metadata": {
            "tags": []
          },
          "execution_count": 23
        }
      ]
    },
    {
      "cell_type": "code",
      "metadata": {
        "id": "XY4k7MvUWqto",
        "colab_type": "code",
        "colab": {
          "base_uri": "https://localhost:8080/",
          "height": 34
        },
        "outputId": "e1484de3-b950-416d-d1bc-bf29300f90e1"
      },
      "source": [
        "np.linalg.det(A)"
      ],
      "execution_count": 24,
      "outputs": [
        {
          "output_type": "execute_result",
          "data": {
            "text/plain": [
              "-2.0000000000000004"
            ]
          },
          "metadata": {
            "tags": []
          },
          "execution_count": 24
        }
      ]
    },
    {
      "cell_type": "code",
      "metadata": {
        "id": "pRJloIs0W0M7",
        "colab_type": "code",
        "colab": {
          "base_uri": "https://localhost:8080/",
          "height": 51
        },
        "outputId": "2f1b8caa-6c1a-470e-f580-706829e36aed"
      },
      "source": [
        "np.diag(A)\n",
        "np.diag([1, 2])"
      ],
      "execution_count": 26,
      "outputs": [
        {
          "output_type": "execute_result",
          "data": {
            "text/plain": [
              "array([[1, 0],\n",
              "       [0, 2]])"
            ]
          },
          "metadata": {
            "tags": []
          },
          "execution_count": 26
        }
      ]
    },
    {
      "cell_type": "markdown",
      "metadata": {
        "id": "uJUGqycsXMC3",
        "colab_type": "text"
      },
      "source": [
        "# Outer Product\n",
        "https://docs.scipy.org/doc/numpy/reference/generated/numpy.outer.html"
      ]
    },
    {
      "cell_type": "code",
      "metadata": {
        "id": "4VDOIaDOXLdJ",
        "colab_type": "code",
        "colab": {
          "base_uri": "https://localhost:8080/",
          "height": 51
        },
        "outputId": "20bf6fdc-ad4d-4c6f-aeb8-b60df6a45e32"
      },
      "source": [
        "a = np.array([1, 2])\n",
        "b = np.array([3, 4])\n",
        "np.outer(a, b)"
      ],
      "execution_count": 27,
      "outputs": [
        {
          "output_type": "execute_result",
          "data": {
            "text/plain": [
              "array([[3, 4],\n",
              "       [6, 8]])"
            ]
          },
          "metadata": {
            "tags": []
          },
          "execution_count": 27
        }
      ]
    },
    {
      "cell_type": "markdown",
      "metadata": {
        "id": "lNduDhUrXeJ6",
        "colab_type": "text"
      },
      "source": [
        "# Inner Product"
      ]
    },
    {
      "cell_type": "code",
      "metadata": {
        "id": "FDtMpf9XXLgR",
        "colab_type": "code",
        "colab": {
          "base_uri": "https://localhost:8080/",
          "height": 34
        },
        "outputId": "b35f346e-c65e-43eb-86c5-296c92a6b744"
      },
      "source": [
        "a.dot(b)"
      ],
      "execution_count": 28,
      "outputs": [
        {
          "output_type": "execute_result",
          "data": {
            "text/plain": [
              "11"
            ]
          },
          "metadata": {
            "tags": []
          },
          "execution_count": 28
        }
      ]
    },
    {
      "cell_type": "code",
      "metadata": {
        "id": "78B59I-RYPal",
        "colab_type": "code",
        "colab": {
          "base_uri": "https://localhost:8080/",
          "height": 68
        },
        "outputId": "04ef8c44-87ad-44b9-a49e-60f78da8b449"
      },
      "source": [
        "a = np.eye(3)\n",
        "np.trace(a)\n",
        "print(a)"
      ],
      "execution_count": 32,
      "outputs": [
        {
          "output_type": "stream",
          "text": [
            "[[1. 0. 0.]\n",
            " [0. 1. 0.]\n",
            " [0. 0. 1.]]\n"
          ],
          "name": "stdout"
        }
      ]
    },
    {
      "cell_type": "markdown",
      "metadata": {
        "id": "H3tSlTwjqVUp",
        "colab_type": "text"
      },
      "source": [
        "# Nana"
      ]
    },
    {
      "cell_type": "code",
      "metadata": {
        "id": "LbysbQl7puii",
        "colab_type": "code",
        "outputId": "a074560c-d1a6-47b7-8380-cc0b12eefb63",
        "colab": {
          "base_uri": "https://localhost:8080/",
          "height": 232
        }
      },
      "source": [
        "arr = np.array([np.nan, 1, 2])\n",
        "print(repr(arr))\n",
        "\n",
        "arr = np.array([np.nan, 'abc'])\n",
        "print(repr(arr))\n",
        "\n",
        "np.array([np.nan, 1, 2], dtype=np.int32)\n"
      ],
      "execution_count": 0,
      "outputs": [
        {
          "output_type": "stream",
          "text": [
            "array([nan,  1.,  2.])\n",
            "array(['nan', 'abc'], dtype='<U32')\n"
          ],
          "name": "stdout"
        },
        {
          "output_type": "error",
          "ename": "ValueError",
          "evalue": "ignored",
          "traceback": [
            "\u001b[0;31m---------------------------------------------------------------------------\u001b[0m",
            "\u001b[0;31mValueError\u001b[0m                                Traceback (most recent call last)",
            "\u001b[0;32m<ipython-input-5-6de8330da8b8>\u001b[0m in \u001b[0;36m<module>\u001b[0;34m()\u001b[0m\n\u001b[1;32m      5\u001b[0m \u001b[0mprint\u001b[0m\u001b[0;34m(\u001b[0m\u001b[0mrepr\u001b[0m\u001b[0;34m(\u001b[0m\u001b[0marr\u001b[0m\u001b[0;34m)\u001b[0m\u001b[0;34m)\u001b[0m\u001b[0;34m\u001b[0m\u001b[0;34m\u001b[0m\u001b[0m\n\u001b[1;32m      6\u001b[0m \u001b[0;34m\u001b[0m\u001b[0m\n\u001b[0;32m----> 7\u001b[0;31m \u001b[0mnp\u001b[0m\u001b[0;34m.\u001b[0m\u001b[0marray\u001b[0m\u001b[0;34m(\u001b[0m\u001b[0;34m[\u001b[0m\u001b[0mnp\u001b[0m\u001b[0;34m.\u001b[0m\u001b[0mnan\u001b[0m\u001b[0;34m,\u001b[0m \u001b[0;36m1\u001b[0m\u001b[0;34m,\u001b[0m \u001b[0;36m2\u001b[0m\u001b[0;34m]\u001b[0m\u001b[0;34m,\u001b[0m \u001b[0mdtype\u001b[0m\u001b[0;34m=\u001b[0m\u001b[0mnp\u001b[0m\u001b[0;34m.\u001b[0m\u001b[0mint32\u001b[0m\u001b[0;34m)\u001b[0m\u001b[0;34m\u001b[0m\u001b[0;34m\u001b[0m\u001b[0m\n\u001b[0m",
            "\u001b[0;31mValueError\u001b[0m: cannot convert float NaN to integer"
          ]
        }
      ]
    },
    {
      "cell_type": "markdown",
      "metadata": {
        "id": "KICSfiiHqba3",
        "colab_type": "text"
      },
      "source": [
        "# Infinity"
      ]
    },
    {
      "cell_type": "code",
      "metadata": {
        "id": "iRN_M179qZxR",
        "colab_type": "code",
        "outputId": "debf95f3-d272-466b-e8cc-d26738d37e52",
        "colab": {
          "base_uri": "https://localhost:8080/",
          "height": 249
        }
      },
      "source": [
        "print(np.inf > 1000000)\n",
        "\n",
        "arr = np.array([np.inf, 5])\n",
        "print(repr(arr))\n",
        "\n",
        "arr = np.array([-np.inf, 5])\n",
        "print(repr(arr))\n",
        "\n",
        "np.array([np.inf, 3], dtype=np.int32)"
      ],
      "execution_count": 0,
      "outputs": [
        {
          "output_type": "stream",
          "text": [
            "True\n",
            "array([inf,  5.])\n",
            "array([-inf,   5.])\n"
          ],
          "name": "stdout"
        },
        {
          "output_type": "error",
          "ename": "OverflowError",
          "evalue": "ignored",
          "traceback": [
            "\u001b[0;31m---------------------------------------------------------------------------\u001b[0m",
            "\u001b[0;31mOverflowError\u001b[0m                             Traceback (most recent call last)",
            "\u001b[0;32m<ipython-input-6-80e1d7cde38c>\u001b[0m in \u001b[0;36m<module>\u001b[0;34m()\u001b[0m\n\u001b[1;32m      7\u001b[0m \u001b[0mprint\u001b[0m\u001b[0;34m(\u001b[0m\u001b[0mrepr\u001b[0m\u001b[0;34m(\u001b[0m\u001b[0marr\u001b[0m\u001b[0;34m)\u001b[0m\u001b[0;34m)\u001b[0m\u001b[0;34m\u001b[0m\u001b[0;34m\u001b[0m\u001b[0m\n\u001b[1;32m      8\u001b[0m \u001b[0;34m\u001b[0m\u001b[0m\n\u001b[0;32m----> 9\u001b[0;31m \u001b[0mnp\u001b[0m\u001b[0;34m.\u001b[0m\u001b[0marray\u001b[0m\u001b[0;34m(\u001b[0m\u001b[0;34m[\u001b[0m\u001b[0mnp\u001b[0m\u001b[0;34m.\u001b[0m\u001b[0minf\u001b[0m\u001b[0;34m,\u001b[0m \u001b[0;36m3\u001b[0m\u001b[0;34m]\u001b[0m\u001b[0;34m,\u001b[0m \u001b[0mdtype\u001b[0m\u001b[0;34m=\u001b[0m\u001b[0mnp\u001b[0m\u001b[0;34m.\u001b[0m\u001b[0mint32\u001b[0m\u001b[0;34m)\u001b[0m\u001b[0;34m\u001b[0m\u001b[0;34m\u001b[0m\u001b[0m\n\u001b[0m",
            "\u001b[0;31mOverflowError\u001b[0m: cannot convert float infinity to integer"
          ]
        }
      ]
    }
  ]
}