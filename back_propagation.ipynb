{
  "nbformat": 4,
  "nbformat_minor": 0,
  "metadata": {
    "colab": {
      "name": "back_propagation.ipynb",
      "provenance": [],
      "include_colab_link": true
    },
    "kernelspec": {
      "name": "python3",
      "display_name": "Python 3"
    },
    "accelerator": "GPU"
  },
  "cells": [
    {
      "cell_type": "markdown",
      "metadata": {
        "id": "view-in-github",
        "colab_type": "text"
      },
      "source": [
        "<a href=\"https://colab.research.google.com/github/shenzhun/CSCI-561/blob/master/back_propagation.ipynb\" target=\"_parent\"><img src=\"https://colab.research.google.com/assets/colab-badge.svg\" alt=\"Open In Colab\"/></a>"
      ]
    },
    {
      "cell_type": "code",
      "metadata": {
        "id": "JBlZOlRgVorm",
        "colab_type": "code",
        "colab": {}
      },
      "source": [
        "import torch\n",
        "from torch import nn, tensor"
      ],
      "execution_count": 0,
      "outputs": []
    },
    {
      "cell_type": "code",
      "metadata": {
        "id": "_V-0czK6WjME",
        "colab_type": "code",
        "colab": {}
      },
      "source": [
        "x = tensor([[1.], [2.], [3.]])\n",
        "y = tensor([[2.], [3.], [6.]])\n",
        "w = nn.Parameter(tensor([1., 1., 1.]))"
      ],
      "execution_count": 0,
      "outputs": []
    },
    {
      "cell_type": "code",
      "metadata": {
        "id": "ez4tiRJzqgCt",
        "colab_type": "code",
        "colab": {}
      },
      "source": [
        "def forward(x):\n",
        "  return x ** 2 * w[0] + x * w[1] + w[2]\n",
        "  # return x * w"
      ],
      "execution_count": 0,
      "outputs": []
    },
    {
      "cell_type": "code",
      "metadata": {
        "id": "jObJo5L5XZvB",
        "colab_type": "code",
        "colab": {}
      },
      "source": [
        "def mse(y_hat, y):\n",
        "  return (y_hat - y) ** 2"
      ],
      "execution_count": 0,
      "outputs": []
    },
    {
      "cell_type": "code",
      "metadata": {
        "id": "xsx2axAYXlye",
        "colab_type": "code",
        "colab": {
          "base_uri": "https://localhost:8080/",
          "height": 1000
        },
        "outputId": "4fbf8e4a-3bc2-4e48-ffbd-f29c1cf59c30"
      },
      "source": [
        "print(\"predict (before)\", 4, forward(4))\n",
        "for epoch in range(10):\n",
        "  for x_val, y_val in zip(x, y):\n",
        "    print('w', w.data)\n",
        "    y_hat = forward(x_val)\n",
        "    loss = mse(y_hat, y_val)\n",
        "    loss.backward()\n",
        "    # if epoch % 10 == 0:\n",
        "    print(\"\\tgrad\", x_val, y_val, w.grad.data)\n",
        "    \n",
        "    with torch.no_grad():\n",
        "      w.sub_(0.01 * w.grad)\n",
        "      w.grad.zero_()\n",
        "  print(\"progress:\", epoch, loss.data[0])\n",
        "\n",
        "print(\"predict (after)\", 4, forward(4))\n"
      ],
      "execution_count": 100,
      "outputs": [
        {
          "output_type": "stream",
          "text": [
            "predict (before) 4 tensor(21., grad_fn=<AddBackward0>)\n",
            "w tensor([1., 1., 1.])\n",
            "\tgrad tensor([1.]) tensor([2.]) tensor([2., 2., 2.])\n",
            "w tensor([0.9800, 0.9800, 0.9800])\n",
            "\tgrad tensor([2.]) tensor([3.]) tensor([30.8800, 15.4400,  7.7200])\n",
            "w tensor([0.6712, 0.8256, 0.9028])\n",
            "\tgrad tensor([3.]) tensor([6.]) tensor([61.5672, 20.5224,  6.8408])\n",
            "progress: 0 tensor(11.6991)\n",
            "w tensor([0.0555, 0.6204, 0.8344])\n",
            "\tgrad tensor([1.]) tensor([2.]) tensor([-0.9794, -0.9794, -0.9794])\n",
            "w tensor([0.0653, 0.6302, 0.8442])\n",
            "\tgrad tensor([2.]) tensor([3.]) tensor([-5.0735, -2.5367, -1.2684])\n",
            "w tensor([0.1161, 0.6555, 0.8569])\n",
            "\tgrad tensor([3.]) tensor([6.]) tensor([-38.3761, -12.7920,  -4.2640])\n",
            "progress: 1 tensor(4.5454)\n",
            "w tensor([0.4998, 0.7835, 0.8995])\n",
            "\tgrad tensor([1.]) tensor([2.]) tensor([0.3656, 0.3656, 0.3656])\n",
            "w tensor([0.4962, 0.7798, 0.8959])\n",
            "\tgrad tensor([2.]) tensor([3.]) tensor([11.5209,  5.7604,  2.8802])\n",
            "w tensor([0.3810, 0.7222, 0.8671])\n",
            "\tgrad tensor([3.]) tensor([6.]) tensor([8.3201, 2.7734, 0.9245])\n",
            "progress: 2 tensor(0.2137)\n",
            "w tensor([0.2978, 0.6945, 0.8578])\n",
            "\tgrad tensor([1.]) tensor([2.]) tensor([-0.3000, -0.3000, -0.3000])\n",
            "w tensor([0.3008, 0.6975, 0.8608])\n",
            "\tgrad tensor([2.]) tensor([3.]) tensor([3.6699, 1.8350, 0.9175])\n",
            "w tensor([0.2641, 0.6791, 0.8516])\n",
            "\tgrad tensor([3.]) tensor([6.]) tensor([-13.2219,  -4.4073,  -1.4691])\n",
            "progress: 3 tensor(0.5396)\n",
            "w tensor([0.3963, 0.7232, 0.8663])\n",
            "\tgrad tensor([1.]) tensor([2.]) tensor([-0.0284, -0.0284, -0.0284])\n",
            "w tensor([0.3966, 0.7235, 0.8666])\n",
            "\tgrad tensor([2.]) tensor([3.]) tensor([7.1982, 3.5991, 1.7996])\n",
            "w tensor([0.3246, 0.6875, 0.8486])\n",
            "\tgrad tensor([3.]) tensor([6.]) tensor([-3.0200, -1.0067, -0.3356])\n",
            "progress: 4 tensor(0.0281)\n",
            "w tensor([0.3548, 0.6975, 0.8520])\n",
            "\tgrad tensor([1.]) tensor([2.]) tensor([-0.1914, -0.1914, -0.1914])\n",
            "w tensor([0.3567, 0.6995, 0.8539])\n",
            "\tgrad tensor([2.]) tensor([3.]) tensor([5.4365, 2.7182, 1.3591])\n",
            "w tensor([0.3023, 0.6723, 0.8403])\n",
            "\tgrad tensor([3.]) tensor([6.]) tensor([-7.5952, -2.5317, -0.8439])\n",
            "progress: 5 tensor(0.1780)\n",
            "w tensor([0.3783, 0.6976, 0.8487])\n",
            "\tgrad tensor([1.]) tensor([2.]) tensor([-0.1508, -0.1508, -0.1508])\n",
            "w tensor([0.3798, 0.6991, 0.8502])\n",
            "\tgrad tensor([2.]) tensor([3.]) tensor([6.1407, 3.0703, 1.5352])\n",
            "w tensor([0.3184, 0.6684, 0.8349])\n",
            "\tgrad tensor([3.]) tensor([6.]) tensor([-5.3012, -1.7671, -0.5890])\n",
            "progress: 6 tensor(0.0867)\n",
            "w tensor([0.3714, 0.6861, 0.8408])\n",
            "\tgrad tensor([1.]) tensor([2.]) tensor([-0.2035, -0.2035, -0.2035])\n",
            "w tensor([0.3734, 0.6881, 0.8428])\n",
            "\tgrad tensor([2.]) tensor([3.]) tensor([5.7018, 2.8509, 1.4255])\n",
            "w tensor([0.3164, 0.6596, 0.8286])\n",
            "\tgrad tensor([3.]) tensor([6.]) tensor([-6.2097, -2.0699, -0.6900])\n",
            "progress: 7 tensor(0.1190)\n",
            "w tensor([0.3785, 0.6803, 0.8355])\n",
            "\tgrad tensor([1.]) tensor([2.]) tensor([-0.2115, -0.2115, -0.2115])\n",
            "w tensor([0.3806, 0.6824, 0.8376])\n",
            "\tgrad tensor([2.]) tensor([3.]) tensor([5.7990, 2.8995, 1.4497])\n",
            "w tensor([0.3226, 0.6534, 0.8231])\n",
            "\tgrad tensor([3.]) tensor([6.]) tensor([-5.6342, -1.8781, -0.6260])\n",
            "progress: 8 tensor(0.0980)\n",
            "w tensor([0.3790, 0.6722, 0.8293])\n",
            "\tgrad tensor([1.]) tensor([2.]) tensor([-0.2390, -0.2390, -0.2390])\n",
            "w tensor([0.3814, 0.6746, 0.8317])\n",
            "\tgrad tensor([2.]) tensor([3.]) tensor([5.6507, 2.8254, 1.4127])\n",
            "w tensor([0.3249, 0.6463, 0.8176])\n",
            "\tgrad tensor([3.]) tensor([6.]) tensor([-5.7549, -1.9183, -0.6394])\n",
            "progress: 9 tensor(0.1022)\n",
            "predict (after) 4 tensor(9.6045, grad_fn=<AddBackward0>)\n"
          ],
          "name": "stdout"
        }
      ]
    }
  ]
}