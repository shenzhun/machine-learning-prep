{
  "nbformat": 4,
  "nbformat_minor": 0,
  "metadata": {
    "colab": {
      "name": "day27_model_deploying_using_tensorflow-serving.ipynb",
      "provenance": [],
      "authorship_tag": "ABX9TyNUzCGSeLymgg8VvArTtKaO",
      "include_colab_link": true
    },
    "kernelspec": {
      "name": "python3",
      "display_name": "Python 3"
    }
  },
  "cells": [
    {
      "cell_type": "markdown",
      "metadata": {
        "id": "view-in-github",
        "colab_type": "text"
      },
      "source": [
        "<a href=\"https://colab.research.google.com/github/shenzhun/machine-learning-prep/blob/master/tensorflow/day27_model_deploying_using_tensorflow_serving.ipynb\" target=\"_parent\"><img src=\"https://colab.research.google.com/assets/colab-badge.svg\" alt=\"Open In Colab\"/></a>"
      ]
    },
    {
      "cell_type": "code",
      "metadata": {
        "colab": {
          "base_uri": "https://localhost:8080/"
        },
        "id": "0bYmkfZb7Pdz",
        "outputId": "fac23436-6d63-4890-a62b-f331e4297a18"
      },
      "source": [
        "%tensorflow_version 2.x\n",
        "import tensorflow as tf\n",
        "print(tf.__version__)\n",
        "from tensorflow.keras import *"
      ],
      "execution_count": 1,
      "outputs": [
        {
          "output_type": "stream",
          "text": [
            "2.4.0\n"
          ],
          "name": "stdout"
        }
      ]
    },
    {
      "cell_type": "code",
      "metadata": {
        "colab": {
          "base_uri": "https://localhost:8080/"
        },
        "id": "Evf_WhxR705D",
        "outputId": "add7270a-3883-4919-c06e-ba08b41a0270"
      },
      "source": [
        "import tensorflow as tf\n",
        "from tensorflow.keras import models, layers, optimizers\n",
        "\n",
        "n = 800\n",
        "\n",
        "X = tf.random.uniform([n, 2], minval=-10, maxval=10)\n",
        "w0 = tf.constant([[2.0], [-1.0]])\n",
        "b0 = tf.constant(3.0)\n",
        "\n",
        "Y = X@w0 + b0 + tf.random.normal([n, 1], mean=0.0, stddev=2.0)\n",
        "\n",
        "tf.keras.backend.clear_session()\n",
        "inputs = layers.Input(shape=(2,), name=\"inputs\")\n",
        "outputs = layers.Dense(1, name=\"outputs\")(inputs)\n",
        "linear = models.Model(inputs=inputs, outputs=outputs)\n",
        "linear.summary()\n",
        "\n",
        "# training with fit method\n",
        "linear.compile(optimizer='rmsprop', loss='mse', metrics=['mae'])\n",
        "linear.fit(X, Y, batch_size=8, epochs=100)\n",
        "\n",
        "tf.print(\"w = \", linear.layers[1].kernel)\n",
        "tf.print(\"b = \", linear.layers[1].bias)\n",
        "\n",
        "export_path = \"../data/linear_model/\"\n",
        "version = \"1\"\n",
        "linear.save(export_path+version, save_format=\"tf\")"
      ],
      "execution_count": 3,
      "outputs": [
        {
          "output_type": "stream",
          "text": [
            "Model: \"model\"\n",
            "_________________________________________________________________\n",
            "Layer (type)                 Output Shape              Param #   \n",
            "=================================================================\n",
            "inputs (InputLayer)          [(None, 2)]               0         \n",
            "_________________________________________________________________\n",
            "outputs (Dense)              (None, 1)                 3         \n",
            "=================================================================\n",
            "Total params: 3\n",
            "Trainable params: 3\n",
            "Non-trainable params: 0\n",
            "_________________________________________________________________\n",
            "Epoch 1/100\n",
            "100/100 [==============================] - 1s 799us/step - loss: 255.2355 - mae: 13.0679\n",
            "Epoch 2/100\n",
            "100/100 [==============================] - 0s 779us/step - loss: 250.7670 - mae: 13.0620\n",
            "Epoch 3/100\n",
            "100/100 [==============================] - 0s 785us/step - loss: 217.6545 - mae: 12.0560\n",
            "Epoch 4/100\n",
            "100/100 [==============================] - 0s 786us/step - loss: 199.6380 - mae: 11.5615\n",
            "Epoch 5/100\n",
            "100/100 [==============================] - 0s 842us/step - loss: 170.5205 - mae: 10.6403\n",
            "Epoch 6/100\n",
            "100/100 [==============================] - 0s 802us/step - loss: 175.1915 - mae: 10.6938\n",
            "Epoch 7/100\n",
            "100/100 [==============================] - 0s 793us/step - loss: 132.4690 - mae: 9.3384\n",
            "Epoch 8/100\n",
            "100/100 [==============================] - 0s 783us/step - loss: 130.0397 - mae: 9.3498\n",
            "Epoch 9/100\n",
            "100/100 [==============================] - 0s 820us/step - loss: 118.8774 - mae: 8.9262\n",
            "Epoch 10/100\n",
            "100/100 [==============================] - 0s 822us/step - loss: 102.6524 - mae: 8.3877\n",
            "Epoch 11/100\n",
            "100/100 [==============================] - 0s 840us/step - loss: 94.0907 - mae: 8.0187\n",
            "Epoch 12/100\n",
            "100/100 [==============================] - 0s 794us/step - loss: 75.0085 - mae: 6.9298\n",
            "Epoch 13/100\n",
            "100/100 [==============================] - 0s 765us/step - loss: 67.9147 - mae: 6.7467\n",
            "Epoch 14/100\n",
            "100/100 [==============================] - 0s 774us/step - loss: 58.8482 - mae: 6.3298\n",
            "Epoch 15/100\n",
            "100/100 [==============================] - 0s 876us/step - loss: 48.3128 - mae: 5.6354\n",
            "Epoch 16/100\n",
            "100/100 [==============================] - 0s 855us/step - loss: 39.6636 - mae: 5.1693\n",
            "Epoch 17/100\n",
            "100/100 [==============================] - 0s 780us/step - loss: 30.9054 - mae: 4.5100\n",
            "Epoch 18/100\n",
            "100/100 [==============================] - 0s 755us/step - loss: 27.4374 - mae: 4.3059\n",
            "Epoch 19/100\n",
            "100/100 [==============================] - 0s 750us/step - loss: 22.5141 - mae: 3.8819\n",
            "Epoch 20/100\n",
            "100/100 [==============================] - 0s 799us/step - loss: 16.7235 - mae: 3.3031\n",
            "Epoch 21/100\n",
            "100/100 [==============================] - 0s 818us/step - loss: 13.4450 - mae: 3.0120\n",
            "Epoch 22/100\n",
            "100/100 [==============================] - 0s 774us/step - loss: 10.5875 - mae: 2.6453\n",
            "Epoch 23/100\n",
            "100/100 [==============================] - 0s 796us/step - loss: 9.6293 - mae: 2.5572\n",
            "Epoch 24/100\n",
            "100/100 [==============================] - 0s 853us/step - loss: 7.6396 - mae: 2.2551\n",
            "Epoch 25/100\n",
            "100/100 [==============================] - 0s 783us/step - loss: 6.3488 - mae: 2.0061\n",
            "Epoch 26/100\n",
            "100/100 [==============================] - 0s 782us/step - loss: 6.0145 - mae: 1.9860\n",
            "Epoch 27/100\n",
            "100/100 [==============================] - 0s 904us/step - loss: 5.8644 - mae: 1.9090\n",
            "Epoch 28/100\n",
            "100/100 [==============================] - 0s 817us/step - loss: 5.2426 - mae: 1.8305\n",
            "Epoch 29/100\n",
            "100/100 [==============================] - 0s 812us/step - loss: 5.2099 - mae: 1.8282\n",
            "Epoch 30/100\n",
            "100/100 [==============================] - 0s 794us/step - loss: 4.7102 - mae: 1.6927\n",
            "Epoch 31/100\n",
            "100/100 [==============================] - 0s 830us/step - loss: 4.9030 - mae: 1.7218\n",
            "Epoch 32/100\n",
            "100/100 [==============================] - 0s 833us/step - loss: 4.7274 - mae: 1.6880\n",
            "Epoch 33/100\n",
            "100/100 [==============================] - 0s 834us/step - loss: 4.3639 - mae: 1.6617\n",
            "Epoch 34/100\n",
            "100/100 [==============================] - 0s 800us/step - loss: 4.4080 - mae: 1.6653\n",
            "Epoch 35/100\n",
            "100/100 [==============================] - 0s 785us/step - loss: 3.9088 - mae: 1.5612\n",
            "Epoch 36/100\n",
            "100/100 [==============================] - 0s 807us/step - loss: 4.0153 - mae: 1.5873\n",
            "Epoch 37/100\n",
            "100/100 [==============================] - 0s 813us/step - loss: 3.8562 - mae: 1.5412\n",
            "Epoch 38/100\n",
            "100/100 [==============================] - 0s 786us/step - loss: 4.3029 - mae: 1.6305\n",
            "Epoch 39/100\n",
            "100/100 [==============================] - 0s 786us/step - loss: 3.9942 - mae: 1.5612\n",
            "Epoch 40/100\n",
            "100/100 [==============================] - 0s 980us/step - loss: 3.7785 - mae: 1.5186\n",
            "Epoch 41/100\n",
            "100/100 [==============================] - 0s 777us/step - loss: 4.0737 - mae: 1.5818\n",
            "Epoch 42/100\n",
            "100/100 [==============================] - 0s 819us/step - loss: 3.7125 - mae: 1.5005\n",
            "Epoch 43/100\n",
            "100/100 [==============================] - 0s 811us/step - loss: 3.7893 - mae: 1.5131\n",
            "Epoch 44/100\n",
            "100/100 [==============================] - 0s 989us/step - loss: 3.9102 - mae: 1.5568\n",
            "Epoch 45/100\n",
            "100/100 [==============================] - 0s 790us/step - loss: 3.9144 - mae: 1.5864\n",
            "Epoch 46/100\n",
            "100/100 [==============================] - 0s 829us/step - loss: 4.0209 - mae: 1.5866\n",
            "Epoch 47/100\n",
            "100/100 [==============================] - 0s 806us/step - loss: 3.9045 - mae: 1.5572\n",
            "Epoch 48/100\n",
            "100/100 [==============================] - 0s 804us/step - loss: 3.9967 - mae: 1.5974\n",
            "Epoch 49/100\n",
            "100/100 [==============================] - 0s 806us/step - loss: 3.4969 - mae: 1.4556\n",
            "Epoch 50/100\n",
            "100/100 [==============================] - 0s 828us/step - loss: 3.7813 - mae: 1.5602\n",
            "Epoch 51/100\n",
            "100/100 [==============================] - 0s 887us/step - loss: 3.9240 - mae: 1.5809\n",
            "Epoch 52/100\n",
            "100/100 [==============================] - 0s 857us/step - loss: 3.8717 - mae: 1.5465\n",
            "Epoch 53/100\n",
            "100/100 [==============================] - 0s 836us/step - loss: 4.0548 - mae: 1.6122\n",
            "Epoch 54/100\n",
            "100/100 [==============================] - 0s 812us/step - loss: 3.8376 - mae: 1.5521\n",
            "Epoch 55/100\n",
            "100/100 [==============================] - 0s 827us/step - loss: 3.9103 - mae: 1.5668\n",
            "Epoch 56/100\n",
            "100/100 [==============================] - 0s 816us/step - loss: 3.9818 - mae: 1.5878\n",
            "Epoch 57/100\n",
            "100/100 [==============================] - 0s 898us/step - loss: 3.7762 - mae: 1.5494\n",
            "Epoch 58/100\n",
            "100/100 [==============================] - 0s 951us/step - loss: 3.6765 - mae: 1.5181\n",
            "Epoch 59/100\n",
            "100/100 [==============================] - 0s 977us/step - loss: 3.7494 - mae: 1.5217\n",
            "Epoch 60/100\n",
            "100/100 [==============================] - 0s 852us/step - loss: 3.6912 - mae: 1.5392\n",
            "Epoch 61/100\n",
            "100/100 [==============================] - 0s 801us/step - loss: 3.8695 - mae: 1.5526\n",
            "Epoch 62/100\n",
            "100/100 [==============================] - 0s 831us/step - loss: 3.8391 - mae: 1.5664\n",
            "Epoch 63/100\n",
            "100/100 [==============================] - 0s 839us/step - loss: 3.7640 - mae: 1.5506\n",
            "Epoch 64/100\n",
            "100/100 [==============================] - 0s 878us/step - loss: 4.0165 - mae: 1.5852\n",
            "Epoch 65/100\n",
            "100/100 [==============================] - 0s 830us/step - loss: 3.7943 - mae: 1.5539\n",
            "Epoch 66/100\n",
            "100/100 [==============================] - 0s 800us/step - loss: 3.8724 - mae: 1.5548\n",
            "Epoch 67/100\n",
            "100/100 [==============================] - 0s 826us/step - loss: 3.8644 - mae: 1.5639\n",
            "Epoch 68/100\n",
            "100/100 [==============================] - 0s 812us/step - loss: 3.9481 - mae: 1.5772\n",
            "Epoch 69/100\n",
            "100/100 [==============================] - 0s 809us/step - loss: 3.7187 - mae: 1.5227\n",
            "Epoch 70/100\n",
            "100/100 [==============================] - 0s 799us/step - loss: 3.7969 - mae: 1.5382\n",
            "Epoch 71/100\n",
            "100/100 [==============================] - 0s 840us/step - loss: 3.8100 - mae: 1.5634\n",
            "Epoch 72/100\n",
            "100/100 [==============================] - 0s 819us/step - loss: 3.4833 - mae: 1.4809\n",
            "Epoch 73/100\n",
            "100/100 [==============================] - 0s 822us/step - loss: 3.7622 - mae: 1.5075\n",
            "Epoch 74/100\n",
            "100/100 [==============================] - 0s 848us/step - loss: 3.7447 - mae: 1.5495\n",
            "Epoch 75/100\n",
            "100/100 [==============================] - 0s 805us/step - loss: 3.7515 - mae: 1.5539\n",
            "Epoch 76/100\n",
            "100/100 [==============================] - 0s 785us/step - loss: 3.7919 - mae: 1.5417\n",
            "Epoch 77/100\n",
            "100/100 [==============================] - 0s 825us/step - loss: 3.9292 - mae: 1.5665\n",
            "Epoch 78/100\n",
            "100/100 [==============================] - 0s 820us/step - loss: 4.0689 - mae: 1.5759\n",
            "Epoch 79/100\n",
            "100/100 [==============================] - 0s 788us/step - loss: 4.0747 - mae: 1.5933\n",
            "Epoch 80/100\n",
            "100/100 [==============================] - 0s 825us/step - loss: 3.8510 - mae: 1.5383\n",
            "Epoch 81/100\n",
            "100/100 [==============================] - 0s 863us/step - loss: 3.9672 - mae: 1.5992\n",
            "Epoch 82/100\n",
            "100/100 [==============================] - 0s 829us/step - loss: 3.7313 - mae: 1.5193\n",
            "Epoch 83/100\n",
            "100/100 [==============================] - 0s 789us/step - loss: 3.5933 - mae: 1.4933\n",
            "Epoch 84/100\n",
            "100/100 [==============================] - 0s 906us/step - loss: 3.5502 - mae: 1.5006\n",
            "Epoch 85/100\n",
            "100/100 [==============================] - 0s 896us/step - loss: 3.6560 - mae: 1.5190\n",
            "Epoch 86/100\n",
            "100/100 [==============================] - 0s 940us/step - loss: 3.4889 - mae: 1.4665\n",
            "Epoch 87/100\n",
            "100/100 [==============================] - 0s 802us/step - loss: 3.7793 - mae: 1.5128\n",
            "Epoch 88/100\n",
            "100/100 [==============================] - 0s 821us/step - loss: 4.1005 - mae: 1.6386\n",
            "Epoch 89/100\n",
            "100/100 [==============================] - 0s 802us/step - loss: 3.6931 - mae: 1.5292\n",
            "Epoch 90/100\n",
            "100/100 [==============================] - 0s 842us/step - loss: 4.0570 - mae: 1.6172\n",
            "Epoch 91/100\n",
            "100/100 [==============================] - 0s 886us/step - loss: 3.6928 - mae: 1.5121\n",
            "Epoch 92/100\n",
            "100/100 [==============================] - 0s 880us/step - loss: 3.9059 - mae: 1.5736\n",
            "Epoch 93/100\n",
            "100/100 [==============================] - 0s 970us/step - loss: 3.6829 - mae: 1.5242\n",
            "Epoch 94/100\n",
            "100/100 [==============================] - 0s 872us/step - loss: 3.9371 - mae: 1.5794\n",
            "Epoch 95/100\n",
            "100/100 [==============================] - 0s 852us/step - loss: 3.8780 - mae: 1.5549\n",
            "Epoch 96/100\n",
            "100/100 [==============================] - 0s 835us/step - loss: 3.9243 - mae: 1.5888\n",
            "Epoch 97/100\n",
            "100/100 [==============================] - 0s 934us/step - loss: 3.6262 - mae: 1.5164\n",
            "Epoch 98/100\n",
            "100/100 [==============================] - 0s 857us/step - loss: 3.6154 - mae: 1.4924\n",
            "Epoch 99/100\n",
            "100/100 [==============================] - 0s 899us/step - loss: 3.8909 - mae: 1.5585\n",
            "Epoch 100/100\n",
            "100/100 [==============================] - 0s 883us/step - loss: 3.7053 - mae: 1.5224\n",
            "w =  [[1.99861348]\n",
            " [-1.01708925]]\n",
            "b =  [2.99753189]\n",
            "INFO:tensorflow:Assets written to: ../data/linear_model/1/assets\n"
          ],
          "name": "stdout"
        }
      ]
    },
    {
      "cell_type": "code",
      "metadata": {
        "colab": {
          "base_uri": "https://localhost:8080/"
        },
        "id": "LBDN3_vZ9ygE",
        "outputId": "9c8b5ea8-bccd-4ce2-aa24-516c0e1c7c93"
      },
      "source": [
        "!ls {export_path+version}"
      ],
      "execution_count": 4,
      "outputs": [
        {
          "output_type": "stream",
          "text": [
            "assets\tsaved_model.pb\tvariables\n"
          ],
          "name": "stdout"
        }
      ]
    },
    {
      "cell_type": "code",
      "metadata": {
        "colab": {
          "base_uri": "https://localhost:8080/"
        },
        "id": "F37-qUNb93Qi",
        "outputId": "c28b0382-bcf3-4b7e-d4fa-ab7b67492a0d"
      },
      "source": [
        "!saved_model_cli show --dir {export_path+str(version)} --all"
      ],
      "execution_count": 6,
      "outputs": [
        {
          "output_type": "stream",
          "text": [
            "\n",
            "MetaGraphDef with tag-set: 'serve' contains the following SignatureDefs:\n",
            "\n",
            "signature_def['__saved_model_init_op']:\n",
            "  The given SavedModel SignatureDef contains the following input(s):\n",
            "  The given SavedModel SignatureDef contains the following output(s):\n",
            "    outputs['__saved_model_init_op'] tensor_info:\n",
            "        dtype: DT_INVALID\n",
            "        shape: unknown_rank\n",
            "        name: NoOp\n",
            "  Method name is: \n",
            "\n",
            "signature_def['serving_default']:\n",
            "  The given SavedModel SignatureDef contains the following input(s):\n",
            "    inputs['inputs'] tensor_info:\n",
            "        dtype: DT_FLOAT\n",
            "        shape: (-1, 2)\n",
            "        name: serving_default_inputs:0\n",
            "  The given SavedModel SignatureDef contains the following output(s):\n",
            "    outputs['outputs'] tensor_info:\n",
            "        dtype: DT_FLOAT\n",
            "        shape: (-1, 1)\n",
            "        name: StatefulPartitionedCall:0\n",
            "  Method name is: tensorflow/serving/predict\n",
            "WARNING: Logging before flag parsing goes to stderr.\n",
            "W1229 05:28:35.296317 139864148289408 deprecation.py:506] From /usr/local/lib/python2.7/dist-packages/tensorflow_core/python/ops/resource_variable_ops.py:1786: calling __init__ (from tensorflow.python.ops.resource_variable_ops) with constraint is deprecated and will be removed in a future version.\n",
            "Instructions for updating:\n",
            "If using Keras pass *_constraint arguments to layers.\n",
            "\n",
            "Defined Functions:\n",
            "  Function Name: '__call__'\n",
            "    Option #1\n",
            "      Callable with:\n",
            "        Argument #1\n",
            "          inputs: TensorSpec(shape=(None, 2), dtype=tf.float32, name=u'inputs')\n",
            "        Argument #2\n",
            "          DType: bool\n",
            "          Value: False\n",
            "        Argument #3\n",
            "          DType: NoneType\n",
            "          Value: None\n",
            "    Option #2\n",
            "      Callable with:\n",
            "        Argument #1\n",
            "          inputs: TensorSpec(shape=(None, 2), dtype=tf.float32, name=u'inputs')\n",
            "        Argument #2\n",
            "          DType: bool\n",
            "          Value: True\n",
            "        Argument #3\n",
            "          DType: NoneType\n",
            "          Value: None\n",
            "\n",
            "  Function Name: '_default_save_signature'\n",
            "    Option #1\n",
            "      Callable with:\n",
            "        Argument #1\n",
            "          inputs: TensorSpec(shape=(None, 2), dtype=tf.float32, name=u'inputs')\n",
            "\n",
            "  Function Name: 'call_and_return_all_conditional_losses'\n",
            "    Option #1\n",
            "      Callable with:\n",
            "        Argument #1\n",
            "          inputs: TensorSpec(shape=(None, 2), dtype=tf.float32, name=u'inputs')\n",
            "        Argument #2\n",
            "          DType: bool\n",
            "          Value: False\n",
            "        Argument #3\n",
            "          DType: NoneType\n",
            "          Value: None\n",
            "    Option #2\n",
            "      Callable with:\n",
            "        Argument #1\n",
            "          inputs: TensorSpec(shape=(None, 2), dtype=tf.float32, name=u'inputs')\n",
            "        Argument #2\n",
            "          DType: bool\n",
            "          Value: True\n",
            "        Argument #3\n",
            "          DType: NoneType\n",
            "          Value: None\n"
          ],
          "name": "stdout"
        }
      ]
    },
    {
      "cell_type": "code",
      "metadata": {
        "colab": {
          "base_uri": "https://localhost:8080/"
        },
        "id": "KqPa_aft-NHv",
        "outputId": "a4bd1f5a-95ce-4472-f9ba-0e9aabe77610"
      },
      "source": [
        "!echo \"deb http://storage.googleapis.com/tensorflow-serving-apt stable tensorflow-model-server tensorflow-model-server-universal\" | tee /etc/apt/sources.list.d/tensorflow-serving.list && \\\n",
        "curl https://storage.googleapis.com/tensorflow-serving-apt/tensorflow-serving.release.pub.gpg | apt-key add -\n",
        "!apt update"
      ],
      "execution_count": 9,
      "outputs": [
        {
          "output_type": "stream",
          "text": [
            "deb http://storage.googleapis.com/tensorflow-serving-apt stable tensorflow-model-server tensorflow-model-server-universal\n",
            "  % Total    % Received % Xferd  Average Speed   Time    Time     Time  Current\n",
            "                                 Dload  Upload   Total   Spent    Left  Speed\n",
            "100  2943  100  2943    0     0  13882      0 --:--:-- --:--:-- --:--:-- 13882\n",
            "OK\n",
            "Get:1 https://cloud.r-project.org/bin/linux/ubuntu bionic-cran40/ InRelease [3,626 B]\n",
            "Get:2 http://storage.googleapis.com/tensorflow-serving-apt stable InRelease [3,012 B]\n",
            "Ign:3 https://developer.download.nvidia.com/compute/cuda/repos/ubuntu1804/x86_64  InRelease\n",
            "Get:4 https://cloud.r-project.org/bin/linux/ubuntu bionic-cran40/ Packages [41.5 kB]\n",
            "Get:5 http://security.ubuntu.com/ubuntu bionic-security InRelease [88.7 kB]\n",
            "Ign:6 https://developer.download.nvidia.com/compute/machine-learning/repos/ubuntu1804/x86_64  InRelease\n",
            "Hit:7 https://developer.download.nvidia.com/compute/cuda/repos/ubuntu1804/x86_64  Release\n",
            "Hit:8 https://developer.download.nvidia.com/compute/machine-learning/repos/ubuntu1804/x86_64  Release\n",
            "Hit:9 http://archive.ubuntu.com/ubuntu bionic InRelease\n",
            "Get:10 http://ppa.launchpad.net/c2d4u.team/c2d4u4.0+/ubuntu bionic InRelease [15.9 kB]\n",
            "Get:11 http://storage.googleapis.com/tensorflow-serving-apt stable/tensorflow-model-server amd64 Packages [340 B]\n",
            "Get:12 http://archive.ubuntu.com/ubuntu bionic-updates InRelease [88.7 kB]\n",
            "Get:14 http://storage.googleapis.com/tensorflow-serving-apt stable/tensorflow-model-server-universal amd64 Packages [346 B]\n",
            "Hit:16 http://ppa.launchpad.net/cran/libgit2/ubuntu bionic InRelease\n",
            "Get:17 http://archive.ubuntu.com/ubuntu bionic-backports InRelease [74.6 kB]\n",
            "Hit:18 http://ppa.launchpad.net/graphics-drivers/ppa/ubuntu bionic InRelease\n",
            "Get:19 http://ppa.launchpad.net/c2d4u.team/c2d4u4.0+/ubuntu bionic/main Sources [1,703 kB]\n",
            "Get:20 http://ppa.launchpad.net/c2d4u.team/c2d4u4.0+/ubuntu bionic/main amd64 Packages [872 kB]\n",
            "Fetched 2,892 kB in 6s (521 kB/s)\n",
            "Reading package lists... Done\n",
            "Building dependency tree       \n",
            "Reading state information... Done\n",
            "17 packages can be upgraded. Run 'apt list --upgradable' to see them.\n"
          ],
          "name": "stdout"
        }
      ]
    },
    {
      "cell_type": "code",
      "metadata": {
        "colab": {
          "base_uri": "https://localhost:8080/"
        },
        "id": "_xKzDOZH_ag3",
        "outputId": "ea0c561f-aa8b-4d97-d33c-ad519f5b9325"
      },
      "source": [
        "!apt-get install tensorflow-model-server"
      ],
      "execution_count": 10,
      "outputs": [
        {
          "output_type": "stream",
          "text": [
            "Reading package lists... Done\n",
            "Building dependency tree       \n",
            "Reading state information... Done\n",
            "The following NEW packages will be installed:\n",
            "  tensorflow-model-server\n",
            "0 upgraded, 1 newly installed, 0 to remove and 17 not upgraded.\n",
            "Need to get 223 MB of archives.\n",
            "After this operation, 0 B of additional disk space will be used.\n",
            "Get:1 http://storage.googleapis.com/tensorflow-serving-apt stable/tensorflow-model-server amd64 tensorflow-model-server all 2.4.0 [223 MB]\n",
            "Fetched 223 MB in 3s (67.0 MB/s)\n",
            "Selecting previously unselected package tensorflow-model-server.\n",
            "(Reading database ... 145487 files and directories currently installed.)\n",
            "Preparing to unpack .../tensorflow-model-server_2.4.0_all.deb ...\n",
            "Unpacking tensorflow-model-server (2.4.0) ...\n",
            "Setting up tensorflow-model-server (2.4.0) ...\n"
          ],
          "name": "stdout"
        }
      ]
    },
    {
      "cell_type": "code",
      "metadata": {
        "colab": {
          "base_uri": "https://localhost:8080/"
        },
        "id": "mJ_Rfx_0ADdh",
        "outputId": "33588120-5f2f-40b7-c4d4-1b262d29a8c1"
      },
      "source": [
        "!nohup tensorflow_model_server --rest_api_port=8501 --model_name=linear_model --model_base_path=/data/linear_model/ > server.log 2>&1"
      ],
      "execution_count": 12,
      "outputs": [
        {
          "output_type": "stream",
          "text": [
            "^C\n"
          ],
          "name": "stdout"
        }
      ]
    },
    {
      "cell_type": "code",
      "metadata": {
        "colab": {
          "base_uri": "https://localhost:8080/"
        },
        "id": "8VTP-LJUAetM",
        "outputId": "9c625ba0-28a2-4074-bbd1-c7de6e406fc8"
      },
      "source": [
        "!curl -d '{\"instances\": [1.0, 2.0, 5.0]}' \\\n",
        "    -X POST http://localhost:8501/v1/models/linear_model:predict"
      ],
      "execution_count": 13,
      "outputs": [
        {
          "output_type": "stream",
          "text": [
            "curl: (7) Failed to connect to localhost port 8501: Connection refused\n"
          ],
          "name": "stdout"
        }
      ]
    },
    {
      "cell_type": "code",
      "metadata": {
        "colab": {
          "base_uri": "https://localhost:8080/",
          "height": 681
        },
        "id": "SPz9PM8UAyVq",
        "outputId": "f954bba9-b240-4450-e1fb-d074887a92cf"
      },
      "source": [
        "import json, requests\n",
        "\n",
        "data = json.dumps({\"signature_name\": \"serving_default\",\n",
        "                   \"instances\": [[1.0, 2.0], [5.0, 7.0]]})\n",
        "headers = {\"content-type\": \"application/json\"}\n",
        "json_response = requests.post(\"http://localhost:8501/v1/models/linear_model:predict\",\n",
        "                              data=data,\n",
        "                              headers=headers)\n",
        "predications = json.loads(json_response.text)[\"predications\"]\n",
        "print(predications)"
      ],
      "execution_count": 14,
      "outputs": [
        {
          "output_type": "error",
          "ename": "ConnectionError",
          "evalue": "ignored",
          "traceback": [
            "\u001b[0;31m---------------------------------------------------------------------------\u001b[0m",
            "\u001b[0;31mConnectionRefusedError\u001b[0m                    Traceback (most recent call last)",
            "\u001b[0;32m/usr/local/lib/python3.6/dist-packages/urllib3/connection.py\u001b[0m in \u001b[0;36m_new_conn\u001b[0;34m(self)\u001b[0m\n\u001b[1;32m    158\u001b[0m             conn = connection.create_connection(\n\u001b[0;32m--> 159\u001b[0;31m                 (self._dns_host, self.port), self.timeout, **extra_kw)\n\u001b[0m\u001b[1;32m    160\u001b[0m \u001b[0;34m\u001b[0m\u001b[0m\n",
            "\u001b[0;32m/usr/local/lib/python3.6/dist-packages/urllib3/util/connection.py\u001b[0m in \u001b[0;36mcreate_connection\u001b[0;34m(address, timeout, source_address, socket_options)\u001b[0m\n\u001b[1;32m     79\u001b[0m     \u001b[0;32mif\u001b[0m \u001b[0merr\u001b[0m \u001b[0;32mis\u001b[0m \u001b[0;32mnot\u001b[0m \u001b[0;32mNone\u001b[0m\u001b[0;34m:\u001b[0m\u001b[0;34m\u001b[0m\u001b[0;34m\u001b[0m\u001b[0m\n\u001b[0;32m---> 80\u001b[0;31m         \u001b[0;32mraise\u001b[0m \u001b[0merr\u001b[0m\u001b[0;34m\u001b[0m\u001b[0;34m\u001b[0m\u001b[0m\n\u001b[0m\u001b[1;32m     81\u001b[0m \u001b[0;34m\u001b[0m\u001b[0m\n",
            "\u001b[0;32m/usr/local/lib/python3.6/dist-packages/urllib3/util/connection.py\u001b[0m in \u001b[0;36mcreate_connection\u001b[0;34m(address, timeout, source_address, socket_options)\u001b[0m\n\u001b[1;32m     69\u001b[0m                 \u001b[0msock\u001b[0m\u001b[0;34m.\u001b[0m\u001b[0mbind\u001b[0m\u001b[0;34m(\u001b[0m\u001b[0msource_address\u001b[0m\u001b[0;34m)\u001b[0m\u001b[0;34m\u001b[0m\u001b[0;34m\u001b[0m\u001b[0m\n\u001b[0;32m---> 70\u001b[0;31m             \u001b[0msock\u001b[0m\u001b[0;34m.\u001b[0m\u001b[0mconnect\u001b[0m\u001b[0;34m(\u001b[0m\u001b[0msa\u001b[0m\u001b[0;34m)\u001b[0m\u001b[0;34m\u001b[0m\u001b[0;34m\u001b[0m\u001b[0m\n\u001b[0m\u001b[1;32m     71\u001b[0m             \u001b[0;32mreturn\u001b[0m \u001b[0msock\u001b[0m\u001b[0;34m\u001b[0m\u001b[0;34m\u001b[0m\u001b[0m\n",
            "\u001b[0;31mConnectionRefusedError\u001b[0m: [Errno 111] Connection refused",
            "\nDuring handling of the above exception, another exception occurred:\n",
            "\u001b[0;31mNewConnectionError\u001b[0m                        Traceback (most recent call last)",
            "\u001b[0;32m/usr/local/lib/python3.6/dist-packages/urllib3/connectionpool.py\u001b[0m in \u001b[0;36murlopen\u001b[0;34m(self, method, url, body, headers, retries, redirect, assert_same_host, timeout, pool_timeout, release_conn, chunked, body_pos, **response_kw)\u001b[0m\n\u001b[1;32m    599\u001b[0m                                                   \u001b[0mbody\u001b[0m\u001b[0;34m=\u001b[0m\u001b[0mbody\u001b[0m\u001b[0;34m,\u001b[0m \u001b[0mheaders\u001b[0m\u001b[0;34m=\u001b[0m\u001b[0mheaders\u001b[0m\u001b[0;34m,\u001b[0m\u001b[0;34m\u001b[0m\u001b[0;34m\u001b[0m\u001b[0m\n\u001b[0;32m--> 600\u001b[0;31m                                                   chunked=chunked)\n\u001b[0m\u001b[1;32m    601\u001b[0m \u001b[0;34m\u001b[0m\u001b[0m\n",
            "\u001b[0;32m/usr/local/lib/python3.6/dist-packages/urllib3/connectionpool.py\u001b[0m in \u001b[0;36m_make_request\u001b[0;34m(self, conn, method, url, timeout, chunked, **httplib_request_kw)\u001b[0m\n\u001b[1;32m    353\u001b[0m         \u001b[0;32melse\u001b[0m\u001b[0;34m:\u001b[0m\u001b[0;34m\u001b[0m\u001b[0;34m\u001b[0m\u001b[0m\n\u001b[0;32m--> 354\u001b[0;31m             \u001b[0mconn\u001b[0m\u001b[0;34m.\u001b[0m\u001b[0mrequest\u001b[0m\u001b[0;34m(\u001b[0m\u001b[0mmethod\u001b[0m\u001b[0;34m,\u001b[0m \u001b[0murl\u001b[0m\u001b[0;34m,\u001b[0m \u001b[0;34m**\u001b[0m\u001b[0mhttplib_request_kw\u001b[0m\u001b[0;34m)\u001b[0m\u001b[0;34m\u001b[0m\u001b[0;34m\u001b[0m\u001b[0m\n\u001b[0m\u001b[1;32m    355\u001b[0m \u001b[0;34m\u001b[0m\u001b[0m\n",
            "\u001b[0;32m/usr/lib/python3.6/http/client.py\u001b[0m in \u001b[0;36mrequest\u001b[0;34m(self, method, url, body, headers, encode_chunked)\u001b[0m\n\u001b[1;32m   1280\u001b[0m         \u001b[0;34m\"\"\"Send a complete request to the server.\"\"\"\u001b[0m\u001b[0;34m\u001b[0m\u001b[0;34m\u001b[0m\u001b[0m\n\u001b[0;32m-> 1281\u001b[0;31m         \u001b[0mself\u001b[0m\u001b[0;34m.\u001b[0m\u001b[0m_send_request\u001b[0m\u001b[0;34m(\u001b[0m\u001b[0mmethod\u001b[0m\u001b[0;34m,\u001b[0m \u001b[0murl\u001b[0m\u001b[0;34m,\u001b[0m \u001b[0mbody\u001b[0m\u001b[0;34m,\u001b[0m \u001b[0mheaders\u001b[0m\u001b[0;34m,\u001b[0m \u001b[0mencode_chunked\u001b[0m\u001b[0;34m)\u001b[0m\u001b[0;34m\u001b[0m\u001b[0;34m\u001b[0m\u001b[0m\n\u001b[0m\u001b[1;32m   1282\u001b[0m \u001b[0;34m\u001b[0m\u001b[0m\n",
            "\u001b[0;32m/usr/lib/python3.6/http/client.py\u001b[0m in \u001b[0;36m_send_request\u001b[0;34m(self, method, url, body, headers, encode_chunked)\u001b[0m\n\u001b[1;32m   1326\u001b[0m             \u001b[0mbody\u001b[0m \u001b[0;34m=\u001b[0m \u001b[0m_encode\u001b[0m\u001b[0;34m(\u001b[0m\u001b[0mbody\u001b[0m\u001b[0;34m,\u001b[0m \u001b[0;34m'body'\u001b[0m\u001b[0;34m)\u001b[0m\u001b[0;34m\u001b[0m\u001b[0;34m\u001b[0m\u001b[0m\n\u001b[0;32m-> 1327\u001b[0;31m         \u001b[0mself\u001b[0m\u001b[0;34m.\u001b[0m\u001b[0mendheaders\u001b[0m\u001b[0;34m(\u001b[0m\u001b[0mbody\u001b[0m\u001b[0;34m,\u001b[0m \u001b[0mencode_chunked\u001b[0m\u001b[0;34m=\u001b[0m\u001b[0mencode_chunked\u001b[0m\u001b[0;34m)\u001b[0m\u001b[0;34m\u001b[0m\u001b[0;34m\u001b[0m\u001b[0m\n\u001b[0m\u001b[1;32m   1328\u001b[0m \u001b[0;34m\u001b[0m\u001b[0m\n",
            "\u001b[0;32m/usr/lib/python3.6/http/client.py\u001b[0m in \u001b[0;36mendheaders\u001b[0;34m(self, message_body, encode_chunked)\u001b[0m\n\u001b[1;32m   1275\u001b[0m             \u001b[0;32mraise\u001b[0m \u001b[0mCannotSendHeader\u001b[0m\u001b[0;34m(\u001b[0m\u001b[0;34m)\u001b[0m\u001b[0;34m\u001b[0m\u001b[0;34m\u001b[0m\u001b[0m\n\u001b[0;32m-> 1276\u001b[0;31m         \u001b[0mself\u001b[0m\u001b[0;34m.\u001b[0m\u001b[0m_send_output\u001b[0m\u001b[0;34m(\u001b[0m\u001b[0mmessage_body\u001b[0m\u001b[0;34m,\u001b[0m \u001b[0mencode_chunked\u001b[0m\u001b[0;34m=\u001b[0m\u001b[0mencode_chunked\u001b[0m\u001b[0;34m)\u001b[0m\u001b[0;34m\u001b[0m\u001b[0;34m\u001b[0m\u001b[0m\n\u001b[0m\u001b[1;32m   1277\u001b[0m \u001b[0;34m\u001b[0m\u001b[0m\n",
            "\u001b[0;32m/usr/lib/python3.6/http/client.py\u001b[0m in \u001b[0;36m_send_output\u001b[0;34m(self, message_body, encode_chunked)\u001b[0m\n\u001b[1;32m   1041\u001b[0m         \u001b[0;32mdel\u001b[0m \u001b[0mself\u001b[0m\u001b[0;34m.\u001b[0m\u001b[0m_buffer\u001b[0m\u001b[0;34m[\u001b[0m\u001b[0;34m:\u001b[0m\u001b[0;34m]\u001b[0m\u001b[0;34m\u001b[0m\u001b[0;34m\u001b[0m\u001b[0m\n\u001b[0;32m-> 1042\u001b[0;31m         \u001b[0mself\u001b[0m\u001b[0;34m.\u001b[0m\u001b[0msend\u001b[0m\u001b[0;34m(\u001b[0m\u001b[0mmsg\u001b[0m\u001b[0;34m)\u001b[0m\u001b[0;34m\u001b[0m\u001b[0;34m\u001b[0m\u001b[0m\n\u001b[0m\u001b[1;32m   1043\u001b[0m \u001b[0;34m\u001b[0m\u001b[0m\n",
            "\u001b[0;32m/usr/lib/python3.6/http/client.py\u001b[0m in \u001b[0;36msend\u001b[0;34m(self, data)\u001b[0m\n\u001b[1;32m    979\u001b[0m             \u001b[0;32mif\u001b[0m \u001b[0mself\u001b[0m\u001b[0;34m.\u001b[0m\u001b[0mauto_open\u001b[0m\u001b[0;34m:\u001b[0m\u001b[0;34m\u001b[0m\u001b[0;34m\u001b[0m\u001b[0m\n\u001b[0;32m--> 980\u001b[0;31m                 \u001b[0mself\u001b[0m\u001b[0;34m.\u001b[0m\u001b[0mconnect\u001b[0m\u001b[0;34m(\u001b[0m\u001b[0;34m)\u001b[0m\u001b[0;34m\u001b[0m\u001b[0;34m\u001b[0m\u001b[0m\n\u001b[0m\u001b[1;32m    981\u001b[0m             \u001b[0;32melse\u001b[0m\u001b[0;34m:\u001b[0m\u001b[0;34m\u001b[0m\u001b[0;34m\u001b[0m\u001b[0m\n",
            "\u001b[0;32m/usr/local/lib/python3.6/dist-packages/urllib3/connection.py\u001b[0m in \u001b[0;36mconnect\u001b[0;34m(self)\u001b[0m\n\u001b[1;32m    180\u001b[0m     \u001b[0;32mdef\u001b[0m \u001b[0mconnect\u001b[0m\u001b[0;34m(\u001b[0m\u001b[0mself\u001b[0m\u001b[0;34m)\u001b[0m\u001b[0;34m:\u001b[0m\u001b[0;34m\u001b[0m\u001b[0;34m\u001b[0m\u001b[0m\n\u001b[0;32m--> 181\u001b[0;31m         \u001b[0mconn\u001b[0m \u001b[0;34m=\u001b[0m \u001b[0mself\u001b[0m\u001b[0;34m.\u001b[0m\u001b[0m_new_conn\u001b[0m\u001b[0;34m(\u001b[0m\u001b[0;34m)\u001b[0m\u001b[0;34m\u001b[0m\u001b[0;34m\u001b[0m\u001b[0m\n\u001b[0m\u001b[1;32m    182\u001b[0m         \u001b[0mself\u001b[0m\u001b[0;34m.\u001b[0m\u001b[0m_prepare_conn\u001b[0m\u001b[0;34m(\u001b[0m\u001b[0mconn\u001b[0m\u001b[0;34m)\u001b[0m\u001b[0;34m\u001b[0m\u001b[0;34m\u001b[0m\u001b[0m\n",
            "\u001b[0;32m/usr/local/lib/python3.6/dist-packages/urllib3/connection.py\u001b[0m in \u001b[0;36m_new_conn\u001b[0;34m(self)\u001b[0m\n\u001b[1;32m    167\u001b[0m             raise NewConnectionError(\n\u001b[0;32m--> 168\u001b[0;31m                 self, \"Failed to establish a new connection: %s\" % e)\n\u001b[0m\u001b[1;32m    169\u001b[0m \u001b[0;34m\u001b[0m\u001b[0m\n",
            "\u001b[0;31mNewConnectionError\u001b[0m: <urllib3.connection.HTTPConnection object at 0x7f88832bbfd0>: Failed to establish a new connection: [Errno 111] Connection refused",
            "\nDuring handling of the above exception, another exception occurred:\n",
            "\u001b[0;31mMaxRetryError\u001b[0m                             Traceback (most recent call last)",
            "\u001b[0;32m/usr/local/lib/python3.6/dist-packages/requests/adapters.py\u001b[0m in \u001b[0;36msend\u001b[0;34m(self, request, stream, timeout, verify, cert, proxies)\u001b[0m\n\u001b[1;32m    448\u001b[0m                     \u001b[0mretries\u001b[0m\u001b[0;34m=\u001b[0m\u001b[0mself\u001b[0m\u001b[0;34m.\u001b[0m\u001b[0mmax_retries\u001b[0m\u001b[0;34m,\u001b[0m\u001b[0;34m\u001b[0m\u001b[0;34m\u001b[0m\u001b[0m\n\u001b[0;32m--> 449\u001b[0;31m                     \u001b[0mtimeout\u001b[0m\u001b[0;34m=\u001b[0m\u001b[0mtimeout\u001b[0m\u001b[0;34m\u001b[0m\u001b[0;34m\u001b[0m\u001b[0m\n\u001b[0m\u001b[1;32m    450\u001b[0m                 )\n",
            "\u001b[0;32m/usr/local/lib/python3.6/dist-packages/urllib3/connectionpool.py\u001b[0m in \u001b[0;36murlopen\u001b[0;34m(self, method, url, body, headers, retries, redirect, assert_same_host, timeout, pool_timeout, release_conn, chunked, body_pos, **response_kw)\u001b[0m\n\u001b[1;32m    637\u001b[0m             retries = retries.increment(method, url, error=e, _pool=self,\n\u001b[0;32m--> 638\u001b[0;31m                                         _stacktrace=sys.exc_info()[2])\n\u001b[0m\u001b[1;32m    639\u001b[0m             \u001b[0mretries\u001b[0m\u001b[0;34m.\u001b[0m\u001b[0msleep\u001b[0m\u001b[0;34m(\u001b[0m\u001b[0;34m)\u001b[0m\u001b[0;34m\u001b[0m\u001b[0;34m\u001b[0m\u001b[0m\n",
            "\u001b[0;32m/usr/local/lib/python3.6/dist-packages/urllib3/util/retry.py\u001b[0m in \u001b[0;36mincrement\u001b[0;34m(self, method, url, response, error, _pool, _stacktrace)\u001b[0m\n\u001b[1;32m    398\u001b[0m         \u001b[0;32mif\u001b[0m \u001b[0mnew_retry\u001b[0m\u001b[0;34m.\u001b[0m\u001b[0mis_exhausted\u001b[0m\u001b[0;34m(\u001b[0m\u001b[0;34m)\u001b[0m\u001b[0;34m:\u001b[0m\u001b[0;34m\u001b[0m\u001b[0;34m\u001b[0m\u001b[0m\n\u001b[0;32m--> 399\u001b[0;31m             \u001b[0;32mraise\u001b[0m \u001b[0mMaxRetryError\u001b[0m\u001b[0;34m(\u001b[0m\u001b[0m_pool\u001b[0m\u001b[0;34m,\u001b[0m \u001b[0murl\u001b[0m\u001b[0;34m,\u001b[0m \u001b[0merror\u001b[0m \u001b[0;32mor\u001b[0m \u001b[0mResponseError\u001b[0m\u001b[0;34m(\u001b[0m\u001b[0mcause\u001b[0m\u001b[0;34m)\u001b[0m\u001b[0;34m)\u001b[0m\u001b[0;34m\u001b[0m\u001b[0;34m\u001b[0m\u001b[0m\n\u001b[0m\u001b[1;32m    400\u001b[0m \u001b[0;34m\u001b[0m\u001b[0m\n",
            "\u001b[0;31mMaxRetryError\u001b[0m: HTTPConnectionPool(host='localhost', port=8501): Max retries exceeded with url: /v1/models/linear_model:predict (Caused by NewConnectionError('<urllib3.connection.HTTPConnection object at 0x7f88832bbfd0>: Failed to establish a new connection: [Errno 111] Connection refused',))",
            "\nDuring handling of the above exception, another exception occurred:\n",
            "\u001b[0;31mConnectionError\u001b[0m                           Traceback (most recent call last)",
            "\u001b[0;32m<ipython-input-14-b8ed594bb201>\u001b[0m in \u001b[0;36m<module>\u001b[0;34m()\u001b[0m\n\u001b[1;32m      6\u001b[0m json_response = requests.post(\"http://localhost:8501/v1/models/linear_model:predict\",\n\u001b[1;32m      7\u001b[0m                               \u001b[0mdata\u001b[0m\u001b[0;34m=\u001b[0m\u001b[0mdata\u001b[0m\u001b[0;34m,\u001b[0m\u001b[0;34m\u001b[0m\u001b[0;34m\u001b[0m\u001b[0m\n\u001b[0;32m----> 8\u001b[0;31m                               headers=headers)\n\u001b[0m\u001b[1;32m      9\u001b[0m \u001b[0mpredications\u001b[0m \u001b[0;34m=\u001b[0m \u001b[0mjson\u001b[0m\u001b[0;34m.\u001b[0m\u001b[0mloads\u001b[0m\u001b[0;34m(\u001b[0m\u001b[0mjson_response\u001b[0m\u001b[0;34m.\u001b[0m\u001b[0mtext\u001b[0m\u001b[0;34m)\u001b[0m\u001b[0;34m[\u001b[0m\u001b[0;34m\"predications\"\u001b[0m\u001b[0;34m]\u001b[0m\u001b[0;34m\u001b[0m\u001b[0;34m\u001b[0m\u001b[0m\n\u001b[1;32m     10\u001b[0m \u001b[0mprint\u001b[0m\u001b[0;34m(\u001b[0m\u001b[0mpredications\u001b[0m\u001b[0;34m)\u001b[0m\u001b[0;34m\u001b[0m\u001b[0;34m\u001b[0m\u001b[0m\n",
            "\u001b[0;32m/usr/local/lib/python3.6/dist-packages/requests/api.py\u001b[0m in \u001b[0;36mpost\u001b[0;34m(url, data, json, **kwargs)\u001b[0m\n\u001b[1;32m    117\u001b[0m     \"\"\"\n\u001b[1;32m    118\u001b[0m \u001b[0;34m\u001b[0m\u001b[0m\n\u001b[0;32m--> 119\u001b[0;31m     \u001b[0;32mreturn\u001b[0m \u001b[0mrequest\u001b[0m\u001b[0;34m(\u001b[0m\u001b[0;34m'post'\u001b[0m\u001b[0;34m,\u001b[0m \u001b[0murl\u001b[0m\u001b[0;34m,\u001b[0m \u001b[0mdata\u001b[0m\u001b[0;34m=\u001b[0m\u001b[0mdata\u001b[0m\u001b[0;34m,\u001b[0m \u001b[0mjson\u001b[0m\u001b[0;34m=\u001b[0m\u001b[0mjson\u001b[0m\u001b[0;34m,\u001b[0m \u001b[0;34m**\u001b[0m\u001b[0mkwargs\u001b[0m\u001b[0;34m)\u001b[0m\u001b[0;34m\u001b[0m\u001b[0;34m\u001b[0m\u001b[0m\n\u001b[0m\u001b[1;32m    120\u001b[0m \u001b[0;34m\u001b[0m\u001b[0m\n\u001b[1;32m    121\u001b[0m \u001b[0;34m\u001b[0m\u001b[0m\n",
            "\u001b[0;32m/usr/local/lib/python3.6/dist-packages/requests/api.py\u001b[0m in \u001b[0;36mrequest\u001b[0;34m(method, url, **kwargs)\u001b[0m\n\u001b[1;32m     59\u001b[0m     \u001b[0;31m# cases, and look like a memory leak in others.\u001b[0m\u001b[0;34m\u001b[0m\u001b[0;34m\u001b[0m\u001b[0;34m\u001b[0m\u001b[0m\n\u001b[1;32m     60\u001b[0m     \u001b[0;32mwith\u001b[0m \u001b[0msessions\u001b[0m\u001b[0;34m.\u001b[0m\u001b[0mSession\u001b[0m\u001b[0;34m(\u001b[0m\u001b[0;34m)\u001b[0m \u001b[0;32mas\u001b[0m \u001b[0msession\u001b[0m\u001b[0;34m:\u001b[0m\u001b[0;34m\u001b[0m\u001b[0;34m\u001b[0m\u001b[0m\n\u001b[0;32m---> 61\u001b[0;31m         \u001b[0;32mreturn\u001b[0m \u001b[0msession\u001b[0m\u001b[0;34m.\u001b[0m\u001b[0mrequest\u001b[0m\u001b[0;34m(\u001b[0m\u001b[0mmethod\u001b[0m\u001b[0;34m=\u001b[0m\u001b[0mmethod\u001b[0m\u001b[0;34m,\u001b[0m \u001b[0murl\u001b[0m\u001b[0;34m=\u001b[0m\u001b[0murl\u001b[0m\u001b[0;34m,\u001b[0m \u001b[0;34m**\u001b[0m\u001b[0mkwargs\u001b[0m\u001b[0;34m)\u001b[0m\u001b[0;34m\u001b[0m\u001b[0;34m\u001b[0m\u001b[0m\n\u001b[0m\u001b[1;32m     62\u001b[0m \u001b[0;34m\u001b[0m\u001b[0m\n\u001b[1;32m     63\u001b[0m \u001b[0;34m\u001b[0m\u001b[0m\n",
            "\u001b[0;32m/usr/local/lib/python3.6/dist-packages/requests/sessions.py\u001b[0m in \u001b[0;36mrequest\u001b[0;34m(self, method, url, params, data, headers, cookies, files, auth, timeout, allow_redirects, proxies, hooks, stream, verify, cert, json)\u001b[0m\n\u001b[1;32m    528\u001b[0m         }\n\u001b[1;32m    529\u001b[0m         \u001b[0msend_kwargs\u001b[0m\u001b[0;34m.\u001b[0m\u001b[0mupdate\u001b[0m\u001b[0;34m(\u001b[0m\u001b[0msettings\u001b[0m\u001b[0;34m)\u001b[0m\u001b[0;34m\u001b[0m\u001b[0;34m\u001b[0m\u001b[0m\n\u001b[0;32m--> 530\u001b[0;31m         \u001b[0mresp\u001b[0m \u001b[0;34m=\u001b[0m \u001b[0mself\u001b[0m\u001b[0;34m.\u001b[0m\u001b[0msend\u001b[0m\u001b[0;34m(\u001b[0m\u001b[0mprep\u001b[0m\u001b[0;34m,\u001b[0m \u001b[0;34m**\u001b[0m\u001b[0msend_kwargs\u001b[0m\u001b[0;34m)\u001b[0m\u001b[0;34m\u001b[0m\u001b[0;34m\u001b[0m\u001b[0m\n\u001b[0m\u001b[1;32m    531\u001b[0m \u001b[0;34m\u001b[0m\u001b[0m\n\u001b[1;32m    532\u001b[0m         \u001b[0;32mreturn\u001b[0m \u001b[0mresp\u001b[0m\u001b[0;34m\u001b[0m\u001b[0;34m\u001b[0m\u001b[0m\n",
            "\u001b[0;32m/usr/local/lib/python3.6/dist-packages/requests/sessions.py\u001b[0m in \u001b[0;36msend\u001b[0;34m(self, request, **kwargs)\u001b[0m\n\u001b[1;32m    641\u001b[0m \u001b[0;34m\u001b[0m\u001b[0m\n\u001b[1;32m    642\u001b[0m         \u001b[0;31m# Send the request\u001b[0m\u001b[0;34m\u001b[0m\u001b[0;34m\u001b[0m\u001b[0;34m\u001b[0m\u001b[0m\n\u001b[0;32m--> 643\u001b[0;31m         \u001b[0mr\u001b[0m \u001b[0;34m=\u001b[0m \u001b[0madapter\u001b[0m\u001b[0;34m.\u001b[0m\u001b[0msend\u001b[0m\u001b[0;34m(\u001b[0m\u001b[0mrequest\u001b[0m\u001b[0;34m,\u001b[0m \u001b[0;34m**\u001b[0m\u001b[0mkwargs\u001b[0m\u001b[0;34m)\u001b[0m\u001b[0;34m\u001b[0m\u001b[0;34m\u001b[0m\u001b[0m\n\u001b[0m\u001b[1;32m    644\u001b[0m \u001b[0;34m\u001b[0m\u001b[0m\n\u001b[1;32m    645\u001b[0m         \u001b[0;31m# Total elapsed time of the request (approximately)\u001b[0m\u001b[0;34m\u001b[0m\u001b[0;34m\u001b[0m\u001b[0;34m\u001b[0m\u001b[0m\n",
            "\u001b[0;32m/usr/local/lib/python3.6/dist-packages/requests/adapters.py\u001b[0m in \u001b[0;36msend\u001b[0;34m(self, request, stream, timeout, verify, cert, proxies)\u001b[0m\n\u001b[1;32m    514\u001b[0m                 \u001b[0;32mraise\u001b[0m \u001b[0mSSLError\u001b[0m\u001b[0;34m(\u001b[0m\u001b[0me\u001b[0m\u001b[0;34m,\u001b[0m \u001b[0mrequest\u001b[0m\u001b[0;34m=\u001b[0m\u001b[0mrequest\u001b[0m\u001b[0;34m)\u001b[0m\u001b[0;34m\u001b[0m\u001b[0;34m\u001b[0m\u001b[0m\n\u001b[1;32m    515\u001b[0m \u001b[0;34m\u001b[0m\u001b[0m\n\u001b[0;32m--> 516\u001b[0;31m             \u001b[0;32mraise\u001b[0m \u001b[0mConnectionError\u001b[0m\u001b[0;34m(\u001b[0m\u001b[0me\u001b[0m\u001b[0;34m,\u001b[0m \u001b[0mrequest\u001b[0m\u001b[0;34m=\u001b[0m\u001b[0mrequest\u001b[0m\u001b[0;34m)\u001b[0m\u001b[0;34m\u001b[0m\u001b[0;34m\u001b[0m\u001b[0m\n\u001b[0m\u001b[1;32m    517\u001b[0m \u001b[0;34m\u001b[0m\u001b[0m\n\u001b[1;32m    518\u001b[0m         \u001b[0;32mexcept\u001b[0m \u001b[0mClosedPoolError\u001b[0m \u001b[0;32mas\u001b[0m \u001b[0me\u001b[0m\u001b[0;34m:\u001b[0m\u001b[0;34m\u001b[0m\u001b[0;34m\u001b[0m\u001b[0m\n",
            "\u001b[0;31mConnectionError\u001b[0m: HTTPConnectionPool(host='localhost', port=8501): Max retries exceeded with url: /v1/models/linear_model:predict (Caused by NewConnectionError('<urllib3.connection.HTTPConnection object at 0x7f88832bbfd0>: Failed to establish a new connection: [Errno 111] Connection refused',))"
          ]
        }
      ]
    }
  ]
}