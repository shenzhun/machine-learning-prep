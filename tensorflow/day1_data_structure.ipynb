{
  "nbformat": 4,
  "nbformat_minor": 0,
  "metadata": {
    "colab": {
      "name": "data_structure.ipynb",
      "provenance": [],
      "authorship_tag": "ABX9TyPrTsiRiDFNY2wPDaJ+oQO6",
      "include_colab_link": true
    },
    "kernelspec": {
      "name": "python3",
      "display_name": "Python 3"
    }
  },
  "cells": [
    {
      "cell_type": "markdown",
      "metadata": {
        "id": "view-in-github",
        "colab_type": "text"
      },
      "source": [
        "<a href=\"https://colab.research.google.com/github/shenzhun/machine-learning-prep/blob/master/tensorflow/day1_data_structure.ipynb\" target=\"_parent\"><img src=\"https://colab.research.google.com/assets/colab-badge.svg\" alt=\"Open In Colab\"/></a>"
      ]
    },
    {
      "cell_type": "code",
      "metadata": {
        "id": "fb_dNIIbyqlX"
      },
      "source": [
        "import numpy as np\n",
        "import tensorflow as tf"
      ],
      "execution_count": 1,
      "outputs": []
    },
    {
      "cell_type": "code",
      "metadata": {
        "id": "v_gf0rwhy0Xg"
      },
      "source": [
        "i = tf.constant(1)\n",
        "l = tf.constant(1, dtype=tf.int64)\n",
        "f = tf.constant(1.23)\n",
        "d = tf.constant(3.14, dtype = tf.double)\n",
        "s = tf.constant(\"hello world\")\n",
        "b = tf.constant(True)"
      ],
      "execution_count": 2,
      "outputs": []
    },
    {
      "cell_type": "code",
      "metadata": {
        "colab": {
          "base_uri": "https://localhost:8080/"
        },
        "id": "anTm69m6zWd0",
        "outputId": "baaf3232-f5dd-4f74-a1c6-ccb8b5683fad"
      },
      "source": [
        "print(tf.int64 == np.int64)\n",
        "print(tf.bool == np.bool)\n",
        "print(tf.double == np.float64)\n",
        "print(tf.string == np.unicode)"
      ],
      "execution_count": 3,
      "outputs": [
        {
          "output_type": "stream",
          "text": [
            "True\n",
            "True\n",
            "True\n",
            "False\n"
          ],
          "name": "stdout"
        }
      ]
    },
    {
      "cell_type": "code",
      "metadata": {
        "colab": {
          "base_uri": "https://localhost:8080/"
        },
        "id": "pwKfHTh8zqKZ",
        "outputId": "5b0d74b5-9845-4ec1-fcb6-d77ed7948da2"
      },
      "source": [
        "scalar = tf.constant(True)\n",
        "\n",
        "print(tf.rank(scalar), scalar.numpy().ndim)"
      ],
      "execution_count": 6,
      "outputs": [
        {
          "output_type": "stream",
          "text": [
            "tf.Tensor(0, shape=(), dtype=int32) 0\n"
          ],
          "name": "stdout"
        }
      ]
    },
    {
      "cell_type": "code",
      "metadata": {
        "colab": {
          "base_uri": "https://localhost:8080/"
        },
        "id": "2B-XkL830AmH",
        "outputId": "1f7a1771-6ae3-4313-8976-5bd9abdbb81e"
      },
      "source": [
        "vector = tf.constant([1.0, 2.0, 3.0, 4.0])\n",
        "print(tf.rank(vector), np.ndim(vector.numpy()))"
      ],
      "execution_count": 7,
      "outputs": [
        {
          "output_type": "stream",
          "text": [
            "tf.Tensor(1, shape=(), dtype=int32) 1\n"
          ],
          "name": "stdout"
        }
      ]
    },
    {
      "cell_type": "code",
      "metadata": {
        "colab": {
          "base_uri": "https://localhost:8080/"
        },
        "id": "hbAPdvZu0Pw4",
        "outputId": "67300225-7bb9-4433-87a4-fb708a9c24bd"
      },
      "source": [
        "matrix = tf.constant([[1.0, 2.0], [3.0, 4.0]])\n",
        "print(tf.rank(matrix).numpy(), np.ndim(matrix))"
      ],
      "execution_count": 9,
      "outputs": [
        {
          "output_type": "stream",
          "text": [
            "2 2\n"
          ],
          "name": "stdout"
        }
      ]
    },
    {
      "cell_type": "code",
      "metadata": {
        "colab": {
          "base_uri": "https://localhost:8080/"
        },
        "id": "OC3rcMaD0lpp",
        "outputId": "85f3b395-469a-4f3e-e995-f0dc8c5d8231"
      },
      "source": [
        "tensor3 = tf.constant([[[1.0, 2.0], [3.0, 4.0]], [[5.0, 6.0], [7.0, 8.0]]])\n",
        "print(tensor3, tf.rank(tensor3))"
      ],
      "execution_count": 11,
      "outputs": [
        {
          "output_type": "stream",
          "text": [
            "tf.Tensor(\n",
            "[[[1. 2.]\n",
            "  [3. 4.]]\n",
            "\n",
            " [[5. 6.]\n",
            "  [7. 8.]]], shape=(2, 2, 2), dtype=float32) tf.Tensor(3, shape=(), dtype=int32)\n"
          ],
          "name": "stdout"
        }
      ]
    },
    {
      "cell_type": "code",
      "metadata": {
        "colab": {
          "base_uri": "https://localhost:8080/"
        },
        "id": "HeFgnKk81EOj",
        "outputId": "ded7b83f-dbf7-4603-8a18-f4c08caa7224"
      },
      "source": [
        "tensor4 = tf.constant([[[[1.0, .0], [2.0, 2.0]], [[3.0, 3.0], [4.0, 4.0]]]])\n",
        "print(tensor4, tf.rank(tensor4))"
      ],
      "execution_count": 13,
      "outputs": [
        {
          "output_type": "stream",
          "text": [
            "tf.Tensor(\n",
            "[[[[1. 0.]\n",
            "   [2. 2.]]\n",
            "\n",
            "  [[3. 3.]\n",
            "   [4. 4.]]]], shape=(1, 2, 2, 2), dtype=float32) tf.Tensor(4, shape=(), dtype=int32)\n"
          ],
          "name": "stdout"
        }
      ]
    },
    {
      "cell_type": "markdown",
      "metadata": {
        "id": "kiNJjQI71kR5"
      },
      "source": [
        "Cast"
      ]
    },
    {
      "cell_type": "code",
      "metadata": {
        "colab": {
          "base_uri": "https://localhost:8080/"
        },
        "id": "ERGVqX1k1jjJ",
        "outputId": "c10cbb5a-fee4-49b6-800e-0e34c7255636"
      },
      "source": [
        "h = tf.constant([123, 456], dtype=tf.int32)\n",
        "f = tf.cast(h, tf.float32)\n",
        "print(h.dtype, f.dtype)"
      ],
      "execution_count": 14,
      "outputs": [
        {
          "output_type": "stream",
          "text": [
            "<dtype: 'int32'> <dtype: 'float32'>\n"
          ],
          "name": "stdout"
        }
      ]
    },
    {
      "cell_type": "code",
      "metadata": {
        "colab": {
          "base_uri": "https://localhost:8080/"
        },
        "id": "A7JVRzCt12j-",
        "outputId": "1bb6ebe9-22c4-4097-c196-574844eda4f2"
      },
      "source": [
        "y = tf.constant([[1.0, 2.0], [3.0, 4.0]])\n",
        "print(y.numpy(), y.shape)"
      ],
      "execution_count": 15,
      "outputs": [
        {
          "output_type": "stream",
          "text": [
            "[[1. 2.]\n",
            " [3. 4.]] (2, 2)\n"
          ],
          "name": "stdout"
        }
      ]
    },
    {
      "cell_type": "code",
      "metadata": {
        "colab": {
          "base_uri": "https://localhost:8080/"
        },
        "id": "e358tqTw2FZC",
        "outputId": "3beac37a-e774-4abf-dc30-ef8f79bbc579"
      },
      "source": [
        "u = tf.constant(u\"Hello World\")\n",
        "print(u.numpy(), u.numpy().decode(\"utf-8\"))"
      ],
      "execution_count": 16,
      "outputs": [
        {
          "output_type": "stream",
          "text": [
            "b'Hello World' Hello World\n"
          ],
          "name": "stdout"
        }
      ]
    }
  ]
}