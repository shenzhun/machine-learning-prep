{
  "nbformat": 4,
  "nbformat_minor": 0,
  "metadata": {
    "colab": {
      "name": "day16_layers.ipynb",
      "provenance": [],
      "authorship_tag": "ABX9TyN7h3fcR9TDCdnyBm7p7gIp",
      "include_colab_link": true
    },
    "kernelspec": {
      "name": "python3",
      "display_name": "Python 3"
    }
  },
  "cells": [
    {
      "cell_type": "markdown",
      "metadata": {
        "id": "view-in-github",
        "colab_type": "text"
      },
      "source": [
        "<a href=\"https://colab.research.google.com/github/shenzhun/machine-learning-prep/blob/master/tensorflow/day16_layers.ipynb\" target=\"_parent\"><img src=\"https://colab.research.google.com/assets/colab-badge.svg\" alt=\"Open In Colab\"/></a>"
      ]
    },
    {
      "cell_type": "code",
      "metadata": {
        "id": "orcHN4RiA9EB"
      },
      "source": [
        "import tensorflow as tf\n",
        "from tensorflow.keras import layers, models, regularizers"
      ],
      "execution_count": 15,
      "outputs": []
    },
    {
      "cell_type": "code",
      "metadata": {
        "colab": {
          "base_uri": "https://localhost:8080/"
        },
        "id": "wa1moL5IB8C-",
        "outputId": "524d7438-861c-421a-b7af-3953a4490e39"
      },
      "source": [
        "mypower = layers.Lambda(lambda x: tf.math.pow(x, 2))\n",
        "mypower(tf.range(5))"
      ],
      "execution_count": 16,
      "outputs": [
        {
          "output_type": "execute_result",
          "data": {
            "text/plain": [
              "<tf.Tensor: shape=(5,), dtype=int32, numpy=array([ 0,  1,  4,  9, 16], dtype=int32)>"
            ]
          },
          "metadata": {
            "tags": []
          },
          "execution_count": 16
        }
      ]
    },
    {
      "cell_type": "code",
      "metadata": {
        "id": "YVek-8FoCGWg"
      },
      "source": [
        "class Linear(layers.Layer):\n",
        "  def __init__(self, units=32, **kwargs):\n",
        "    super(Linear, self).__init__(**kwargs)\n",
        "    self.units = units\n",
        "  \n",
        "  def build(self, input_shape):\n",
        "    self.w = self.add_weight(\"w\", \n",
        "                             shape=(input_shape[-1], self.units), \n",
        "                             initializer='random_normal', \n",
        "                             trainable=True)\n",
        "    self.b = self.add_weight(\"b\", shape=(self.units,),\n",
        "                             initializer='random_normal',\n",
        "                             trainable=True)\n",
        "    super(Linear, self).build(input_shape)\n",
        "  \n",
        "  @tf.function\n",
        "  def call(self, inputs):\n",
        "    return tf.matmul(inputs, self.w) + self.b\n",
        "  \n",
        "  def get_config(self):\n",
        "    config = super(Linear, self).get_config()\n",
        "    config.update({'units': self.units})\n",
        "    return config"
      ],
      "execution_count": 17,
      "outputs": []
    },
    {
      "cell_type": "code",
      "metadata": {
        "colab": {
          "base_uri": "https://localhost:8080/"
        },
        "id": "ijAoT8vJDdHP",
        "outputId": "4805e62f-86ae-4879-d3c8-125b0e03abde"
      },
      "source": [
        "linear = Linear(units=8)\n",
        "print(linear.built)\n",
        "\n",
        "linear.build(input_shape= (None, 16))\n",
        "print(linear.built)"
      ],
      "execution_count": 18,
      "outputs": [
        {
          "output_type": "stream",
          "text": [
            "False\n",
            "True\n"
          ],
          "name": "stdout"
        }
      ]
    },
    {
      "cell_type": "code",
      "metadata": {
        "colab": {
          "base_uri": "https://localhost:8080/"
        },
        "id": "M0g6lq_-DsKb",
        "outputId": "b2ac30e7-3b1a-49ef-b02d-38878e1c9109"
      },
      "source": [
        "linear = Linear(units=8)\n",
        "print(linear.built)\n",
        "\n",
        "linear.build(input_shape=(None, 16))\n",
        "print(linear.compute_output_shape(input_shape=(None, 16)))"
      ],
      "execution_count": 25,
      "outputs": [
        {
          "output_type": "stream",
          "text": [
            "False\n",
            "(None, 8)\n"
          ],
          "name": "stdout"
        }
      ]
    },
    {
      "cell_type": "code",
      "metadata": {
        "colab": {
          "base_uri": "https://localhost:8080/"
        },
        "id": "LBcUzkG0EpC7",
        "outputId": "df722b7c-9234-431e-93f4-58820dfb3249"
      },
      "source": [
        "linear = Linear(units=16)\n",
        "print(linear.built)\n",
        "\n",
        "linear(tf.random.uniform((100, 64)))\n",
        "print(linear.built)\n",
        "config = linear.get_config()\n",
        "print(config)"
      ],
      "execution_count": 26,
      "outputs": [
        {
          "output_type": "stream",
          "text": [
            "False\n",
            "True\n",
            "{'name': 'linear_2', 'trainable': True, 'dtype': 'float32', 'units': 16}\n"
          ],
          "name": "stdout"
        }
      ]
    },
    {
      "cell_type": "code",
      "metadata": {
        "colab": {
          "base_uri": "https://localhost:8080/"
        },
        "id": "MWqbFyJUFBos",
        "outputId": "cf027a3b-bd5b-4e40-bb35-f15e1f82e057"
      },
      "source": [
        "tf.keras.backend.clear_session()\n",
        "model = models.Sequential()\n",
        "model.add(Linear(units=1, input_shape=(2,)))\n",
        "print(\"model.input_shape: \", model.input_shape)\n",
        "print(\"model.output_shape: \", model.output_shape)\n",
        "model.summary()"
      ],
      "execution_count": 21,
      "outputs": [
        {
          "output_type": "stream",
          "text": [
            "model.input_shape:  (None, 2)\n",
            "model.output_shape:  (None, 1)\n",
            "Model: \"sequential\"\n",
            "_________________________________________________________________\n",
            "Layer (type)                 Output Shape              Param #   \n",
            "=================================================================\n",
            "linear (Linear)              (None, 1)                 3         \n",
            "=================================================================\n",
            "Total params: 3\n",
            "Trainable params: 3\n",
            "Non-trainable params: 0\n",
            "_________________________________________________________________\n"
          ],
          "name": "stdout"
        }
      ]
    },
    {
      "cell_type": "code",
      "metadata": {
        "colab": {
          "base_uri": "https://localhost:8080/"
        },
        "id": "mskczLylFeSW",
        "outputId": "dda65344-2124-4455-f135-c391d22faf88"
      },
      "source": [
        "model.compile(optimizer='sgd', loss='mse', metrics=['mae'])\n",
        "print(model.predict(tf.constant([[3.0, 2.0], [4.0, 5.0]])))\n",
        "\n",
        "model.save(\"../data/linear_model.h5\", save_format=\"h5\")\n",
        "model_loaded_keras = tf.keras.models.load_model(\n",
        "    \"../data/linear_model.h5\", custom_objects={\"Linear\": Linear}\n",
        ")\n",
        "print(model_loaded_keras.predict(tf.constant([[3.0, 2.0], [4.0, 5.0]])))\n",
        "\n",
        "# save as tf formatted model\n",
        "model.save(\"../data/linear_model\", save_format=\"tf\")\n",
        "model_loaded_tf = tf.keras.models.load_model(\"../data/linear_model\")\n",
        "print(model_loaded_tf.predict(tf.constant([[3.0, 2.0], [4.0, 5.0]])))"
      ],
      "execution_count": 24,
      "outputs": [
        {
          "output_type": "stream",
          "text": [
            "WARNING:tensorflow:5 out of the last 5 calls to <function Model.make_predict_function.<locals>.predict_function at 0x7fcdf42c6598> triggered tf.function retracing. Tracing is expensive and the excessive number of tracings could be due to (1) creating @tf.function repeatedly in a loop, (2) passing tensors with different shapes, (3) passing Python objects instead of tensors. For (1), please define your @tf.function outside of the loop. For (2), @tf.function has experimental_relax_shapes=True option that relaxes argument shapes that can avoid unnecessary retracing. For (3), please refer to https://www.tensorflow.org/guide/function#controlling_retracing and https://www.tensorflow.org/api_docs/python/tf/function for  more details.\n",
            "[[0.372566  ]\n",
            " [0.52775025]]\n",
            "WARNING:tensorflow:6 out of the last 6 calls to <function Model.make_predict_function.<locals>.predict_function at 0x7fcdf29e7f28> triggered tf.function retracing. Tracing is expensive and the excessive number of tracings could be due to (1) creating @tf.function repeatedly in a loop, (2) passing tensors with different shapes, (3) passing Python objects instead of tensors. For (1), please define your @tf.function outside of the loop. For (2), @tf.function has experimental_relax_shapes=True option that relaxes argument shapes that can avoid unnecessary retracing. For (3), please refer to https://www.tensorflow.org/guide/function#controlling_retracing and https://www.tensorflow.org/api_docs/python/tf/function for  more details.\n",
            "[[0.372566  ]\n",
            " [0.52775025]]\n",
            "INFO:tensorflow:Assets written to: ../data/linear_model/assets\n",
            "WARNING:tensorflow:7 out of the last 7 calls to <function Model.make_predict_function.<locals>.predict_function at 0x7fcdf6339f28> triggered tf.function retracing. Tracing is expensive and the excessive number of tracings could be due to (1) creating @tf.function repeatedly in a loop, (2) passing tensors with different shapes, (3) passing Python objects instead of tensors. For (1), please define your @tf.function outside of the loop. For (2), @tf.function has experimental_relax_shapes=True option that relaxes argument shapes that can avoid unnecessary retracing. For (3), please refer to https://www.tensorflow.org/guide/function#controlling_retracing and https://www.tensorflow.org/api_docs/python/tf/function for  more details.\n",
            "[[0.372566  ]\n",
            " [0.52775025]]\n"
          ],
          "name": "stdout"
        }
      ]
    }
  ]
}