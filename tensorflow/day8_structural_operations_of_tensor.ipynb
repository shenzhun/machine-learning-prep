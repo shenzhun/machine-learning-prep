{
  "nbformat": 4,
  "nbformat_minor": 0,
  "metadata": {
    "colab": {
      "name": "day8_structural_operations_of_tensor.ipynb",
      "provenance": [],
      "authorship_tag": "ABX9TyOLWrMDmx3fOYJ9eSYXS+mV",
      "include_colab_link": true
    },
    "kernelspec": {
      "name": "python3",
      "display_name": "Python 3"
    }
  },
  "cells": [
    {
      "cell_type": "markdown",
      "metadata": {
        "id": "view-in-github",
        "colab_type": "text"
      },
      "source": [
        "<a href=\"https://colab.research.google.com/github/shenzhun/machine-learning-prep/blob/master/tensorflow/day8_structural_operations_of_tensor.ipynb\" target=\"_parent\"><img src=\"https://colab.research.google.com/assets/colab-badge.svg\" alt=\"Open In Colab\"/></a>"
      ]
    },
    {
      "cell_type": "code",
      "metadata": {
        "id": "hMpYktV-zY0f"
      },
      "source": [
        "import tensorflow as tf\n",
        "import numpy as np"
      ],
      "execution_count": 1,
      "outputs": []
    },
    {
      "cell_type": "code",
      "metadata": {
        "colab": {
          "base_uri": "https://localhost:8080/"
        },
        "id": "uNoK5A_uz6wA",
        "outputId": "d1590599-bab9-4f93-a3d2-ef13e11dc5d3"
      },
      "source": [
        "a = tf.constant([1, 2, 3], dtype=tf.float32)\n",
        "tf.print(a)"
      ],
      "execution_count": 2,
      "outputs": [
        {
          "output_type": "stream",
          "text": [
            "[1 2 3]\n"
          ],
          "name": "stdout"
        }
      ]
    },
    {
      "cell_type": "code",
      "metadata": {
        "colab": {
          "base_uri": "https://localhost:8080/"
        },
        "id": "WLzx29vk0EiZ",
        "outputId": "5ec6b8bd-47ac-4749-a63b-9abfacfae988"
      },
      "source": [
        "b = tf.range(1, 10, delta=2)\n",
        "tf.print(b)"
      ],
      "execution_count": 3,
      "outputs": [
        {
          "output_type": "stream",
          "text": [
            "[1 3 5 7 9]\n"
          ],
          "name": "stdout"
        }
      ]
    },
    {
      "cell_type": "code",
      "metadata": {
        "colab": {
          "base_uri": "https://localhost:8080/"
        },
        "id": "WInlPeUK0JVT",
        "outputId": "b81a3d36-d287-4f53-ac1c-b321fab564d5"
      },
      "source": [
        "c = tf.linspace(0.0, 2*3.14, 100)\n",
        "tf.print(c)"
      ],
      "execution_count": 4,
      "outputs": [
        {
          "output_type": "stream",
          "text": [
            "[0 0.0634343475 0.126868695 ... 6.15313148 6.21656609 6.28]\n"
          ],
          "name": "stdout"
        }
      ]
    },
    {
      "cell_type": "code",
      "metadata": {
        "colab": {
          "base_uri": "https://localhost:8080/"
        },
        "id": "0QeBWoUx0eBh",
        "outputId": "861e5dd4-2af3-4736-8447-3818c1aab079"
      },
      "source": [
        "d = tf.zeros([3, 3])\n",
        "tf.print(d)"
      ],
      "execution_count": 5,
      "outputs": [
        {
          "output_type": "stream",
          "text": [
            "[[0 0 0]\n",
            " [0 0 0]\n",
            " [0 0 0]]\n"
          ],
          "name": "stdout"
        }
      ]
    },
    {
      "cell_type": "code",
      "metadata": {
        "colab": {
          "base_uri": "https://localhost:8080/"
        },
        "id": "JLQvpXtq0jHU",
        "outputId": "75a42ae6-28be-480c-960e-ee2b7fbaad5a"
      },
      "source": [
        "a = tf.ones([3, 3])\n",
        "b = tf.zeros_like(a, dtype=tf.float32)\n",
        "tf.print(a)\n",
        "tf.print(b)"
      ],
      "execution_count": 6,
      "outputs": [
        {
          "output_type": "stream",
          "text": [
            "[[1 1 1]\n",
            " [1 1 1]\n",
            " [1 1 1]]\n",
            "[[0 0 0]\n",
            " [0 0 0]\n",
            " [0 0 0]]\n"
          ],
          "name": "stdout"
        }
      ]
    },
    {
      "cell_type": "code",
      "metadata": {
        "colab": {
          "base_uri": "https://localhost:8080/"
        },
        "id": "FFxt99Fx0z-1",
        "outputId": "610c1e3e-341f-4dc9-99e6-ac780156b936"
      },
      "source": [
        "b = tf.fill([3, 2], 5)\n",
        "tf.print(b)"
      ],
      "execution_count": 7,
      "outputs": [
        {
          "output_type": "stream",
          "text": [
            "[[5 5]\n",
            " [5 5]\n",
            " [5 5]]\n"
          ],
          "name": "stdout"
        }
      ]
    },
    {
      "cell_type": "code",
      "metadata": {
        "colab": {
          "base_uri": "https://localhost:8080/"
        },
        "id": "vES0EapE085D",
        "outputId": "96e9fb93-ee2a-491a-c083-b82284d60f34"
      },
      "source": [
        "#random numbers with uniform distribution\n",
        "tf.random.set_seed(1.0)\n",
        "a = tf.random.uniform([5], minval=0, maxval=0)\n",
        "tf.print(a)"
      ],
      "execution_count": 8,
      "outputs": [
        {
          "output_type": "stream",
          "text": [
            "[0 0 0 0 0]\n"
          ],
          "name": "stdout"
        }
      ]
    },
    {
      "cell_type": "code",
      "metadata": {
        "colab": {
          "base_uri": "https://localhost:8080/"
        },
        "id": "eQwPPJYQ1RUe",
        "outputId": "bbadf8d3-1762-47be-8e47-384fd1f7d025"
      },
      "source": [
        "# random numbers with normal distribution\n",
        "b = tf.random.normal([3,3], mean=0.0, stddev=1.0)\n",
        "tf.print(b)"
      ],
      "execution_count": 9,
      "outputs": [
        {
          "output_type": "stream",
          "text": [
            "[[0.403087884 -1.0880208 -0.0630953535]\n",
            " [1.33655667 0.711760104 -0.489286453]\n",
            " [-0.764221311 -1.03724861 -1.25193381]]\n"
          ],
          "name": "stdout"
        }
      ]
    },
    {
      "cell_type": "code",
      "metadata": {
        "colab": {
          "base_uri": "https://localhost:8080/"
        },
        "id": "2LkoIoAy1d2N",
        "outputId": "095324af-d2f7-41d4-a94d-53f58eab9850"
      },
      "source": [
        "# random numbers with normal distribution and trucate within the range 2X standard deviation\n",
        "c = tf.random.truncated_normal((5,5), mean=0.0, stddev=1.0, dtype=tf.float32)\n",
        "tf.print(c)"
      ],
      "execution_count": 10,
      "outputs": [
        {
          "output_type": "stream",
          "text": [
            "[[-0.457012236 -0.406867266 0.728577733 -0.892977774 -0.369404584]\n",
            " [0.323488563 1.19383323 0.888299048 1.25985599 -1.95951891]\n",
            " [-0.202244401 0.294496894 -0.468728036 1.29494202 1.48142183]\n",
            " [0.0810953453 1.63843894 0.556645 0.977199793 -1.17777884]\n",
            " [1.67368948 0.0647980496 -0.705142677 -0.281972528 0.126546144]]\n"
          ],
          "name": "stdout"
        }
      ]
    },
    {
      "cell_type": "code",
      "metadata": {
        "colab": {
          "base_uri": "https://localhost:8080/"
        },
        "id": "rtU_uoz214dR",
        "outputId": "51405dda-a67e-4aab-cec0-aee8dda562a7"
      },
      "source": [
        "# special matrix\n",
        "I = tf.eye(3, 3)\n",
        "tf.print(I)\n",
        "tf.print(\" \")\n",
        "t = tf.linalg.diag([1, 2, 3])\n",
        "tf.print(t)"
      ],
      "execution_count": 11,
      "outputs": [
        {
          "output_type": "stream",
          "text": [
            "[[1 0 0]\n",
            " [0 1 0]\n",
            " [0 0 1]]\n",
            " \n",
            "[[1 0 0]\n",
            " [0 2 0]\n",
            " [0 0 3]]\n"
          ],
          "name": "stdout"
        }
      ]
    },
    {
      "cell_type": "markdown",
      "metadata": {
        "id": "xkMPs3al2Ka1"
      },
      "source": [
        "Indexing and Slicing"
      ]
    },
    {
      "cell_type": "code",
      "metadata": {
        "colab": {
          "base_uri": "https://localhost:8080/"
        },
        "id": "jxSkpfgG2Mr9",
        "outputId": "2707e230-49c0-496b-c1a7-937a94ba2341"
      },
      "source": [
        "tf.random.set_seed(3)\n",
        "t = tf.random.uniform([5,5],minval=0,maxval=10,dtype=tf.int32)\n",
        "tf.print(t)"
      ],
      "execution_count": 13,
      "outputs": [
        {
          "output_type": "stream",
          "text": [
            "[[4 7 4 2 9]\n",
            " [9 1 2 4 7]\n",
            " [7 2 7 4 0]\n",
            " [9 6 9 7 2]\n",
            " [3 7 0 0 3]]\n"
          ],
          "name": "stdout"
        }
      ]
    },
    {
      "cell_type": "code",
      "metadata": {
        "colab": {
          "base_uri": "https://localhost:8080/"
        },
        "id": "AVjlCUd_2gtR",
        "outputId": "8d3d642e-dcae-4f2a-f412-536ca11d5449"
      },
      "source": [
        "# row 0\n",
        "tf.print(t[0])"
      ],
      "execution_count": 14,
      "outputs": [
        {
          "output_type": "stream",
          "text": [
            "[4 7 4 2 9]\n"
          ],
          "name": "stdout"
        }
      ]
    },
    {
      "cell_type": "code",
      "metadata": {
        "colab": {
          "base_uri": "https://localhost:8080/"
        },
        "id": "IvA-WTzb2l_L",
        "outputId": "fa4fca17-09b6-4701-8f4f-b5b72e960dfc"
      },
      "source": [
        "# last row\n",
        "tf.print(t[-1])"
      ],
      "execution_count": 15,
      "outputs": [
        {
          "output_type": "stream",
          "text": [
            "[3 7 0 0 3]\n"
          ],
          "name": "stdout"
        }
      ]
    },
    {
      "cell_type": "code",
      "metadata": {
        "colab": {
          "base_uri": "https://localhost:8080/"
        },
        "id": "B3xXD9lX2rK3",
        "outputId": "c02da354-5006-4dcc-8772-b8dc8b4cf394"
      },
      "source": [
        "# row 1 column 3\n",
        "tf.print(t[1, 3])\n",
        "tf.print(t[1][3])"
      ],
      "execution_count": 16,
      "outputs": [
        {
          "output_type": "stream",
          "text": [
            "4\n",
            "4\n"
          ],
          "name": "stdout"
        }
      ]
    },
    {
      "cell_type": "code",
      "metadata": {
        "colab": {
          "base_uri": "https://localhost:8080/"
        },
        "id": "zkPomg-K217S",
        "outputId": "b2a3590c-d173-45fd-b282-43f0b229dca8"
      },
      "source": [
        "# From row 1 to row 3\n",
        "tf.print(t[1:4, :])\n",
        "tf.print(tf.slice(t, [1, 0], [2,5]))"
      ],
      "execution_count": 20,
      "outputs": [
        {
          "output_type": "stream",
          "text": [
            "[[9 1 2 4 7]\n",
            " [7 2 7 4 0]\n",
            " [9 6 9 7 2]]\n",
            "[[9 1 2 4 7]\n",
            " [7 2 7 4 0]]\n"
          ],
          "name": "stdout"
        }
      ]
    },
    {
      "cell_type": "code",
      "metadata": {
        "colab": {
          "base_uri": "https://localhost:8080/"
        },
        "id": "d_nfXYBl3dwR",
        "outputId": "47a28543-2f8c-4de3-f8bb-0cbf0e3158c2"
      },
      "source": [
        "tf.print(t[1:4, :4:2])"
      ],
      "execution_count": 21,
      "outputs": [
        {
          "output_type": "stream",
          "text": [
            "[[9 2]\n",
            " [7 7]\n",
            " [9 9]]\n"
          ],
          "name": "stdout"
        }
      ]
    },
    {
      "cell_type": "code",
      "metadata": {
        "colab": {
          "base_uri": "https://localhost:8080/"
        },
        "id": "5tVHZ6I-3pfV",
        "outputId": "890aebea-02e5-4078-a7e5-2fa028a2b103"
      },
      "source": [
        "x = tf.Variable([[1,2], [3,4]], dtype=tf.float32)\n",
        "tf.print(x[1,:])\n",
        "x[1,:].assign(tf.constant([0.0, 0.0]))"
      ],
      "execution_count": 24,
      "outputs": [
        {
          "output_type": "stream",
          "text": [
            "[3 4]\n"
          ],
          "name": "stdout"
        },
        {
          "output_type": "execute_result",
          "data": {
            "text/plain": [
              "<tf.Variable 'UnreadVariable' shape=(2, 2) dtype=float32, numpy=\n",
              "array([[1., 2.],\n",
              "       [0., 0.]], dtype=float32)>"
            ]
          },
          "metadata": {
            "tags": []
          },
          "execution_count": 24
        }
      ]
    },
    {
      "cell_type": "code",
      "metadata": {
        "colab": {
          "base_uri": "https://localhost:8080/"
        },
        "id": "ys-Wx6c-4HXp",
        "outputId": "c8754605-3187-43fe-f4af-22f7aaf91cc3"
      },
      "source": [
        "a = tf.random.uniform([3,3,3], minval=0, maxval=10, dtype=tf.int32)\n",
        "tf.print(a)"
      ],
      "execution_count": 25,
      "outputs": [
        {
          "output_type": "stream",
          "text": [
            "[[[7 3 9]\n",
            "  [9 0 7]\n",
            "  [9 6 7]]\n",
            "\n",
            " [[1 3 3]\n",
            "  [0 8 1]\n",
            "  [3 1 0]]\n",
            "\n",
            " [[4 0 6]\n",
            "  [6 2 2]\n",
            "  [7 9 5]]]\n"
          ],
          "name": "stdout"
        }
      ]
    },
    {
      "cell_type": "code",
      "metadata": {
        "colab": {
          "base_uri": "https://localhost:8080/"
        },
        "id": "jNy7od-R4YtB",
        "outputId": "912f0868-6b3d-4a6a-dc1c-e2e60f244ae3"
      },
      "source": [
        "# Ellipsis represents multiple colons\n",
        "tf.print(a[..., 1])\n",
        "\n",
        "# This is equal to\n",
        "tf.print(a[:, :, 1])"
      ],
      "execution_count": 26,
      "outputs": [
        {
          "output_type": "stream",
          "text": [
            "[[3 0 6]\n",
            " [3 8 1]\n",
            " [0 2 9]]\n",
            "[[3 0 6]\n",
            " [3 8 1]\n",
            " [0 2 9]]\n"
          ],
          "name": "stdout"
        }
      ]
    },
    {
      "cell_type": "code",
      "metadata": {
        "colab": {
          "base_uri": "https://localhost:8080/"
        },
        "id": "y75bS1Nh45X-",
        "outputId": "e90eca28-c744-4c7f-80cf-4275e820fc9a"
      },
      "source": [
        "scores = tf.random.uniform((4,10,7), minval=0, maxval=100, dtype=tf.int32)\n",
        "tf.print(scores)"
      ],
      "execution_count": 27,
      "outputs": [
        {
          "output_type": "stream",
          "text": [
            "[[[52 82 66 ... 17 86 14]\n",
            "  [8 36 94 ... 13 78 41]\n",
            "  [77 53 51 ... 22 91 56]\n",
            "  ...\n",
            "  [11 19 26 ... 89 86 68]\n",
            "  [60 72 0 ... 11 26 15]\n",
            "  [24 99 38 ... 97 44 74]]\n",
            "\n",
            " [[79 73 73 ... 35 3 81]\n",
            "  [83 36 31 ... 75 38 85]\n",
            "  [54 26 67 ... 60 68 98]\n",
            "  ...\n",
            "  [20 5 18 ... 32 45 3]\n",
            "  [72 52 81 ... 88 41 20]\n",
            "  [0 21 89 ... 53 10 90]]\n",
            "\n",
            " [[52 80 22 ... 29 25 60]\n",
            "  [78 71 54 ... 43 98 81]\n",
            "  [21 66 53 ... 97 75 77]\n",
            "  ...\n",
            "  [6 74 3 ... 53 65 43]\n",
            "  [98 36 72 ... 33 36 81]\n",
            "  [61 78 70 ... 7 59 21]]\n",
            "\n",
            " [[56 57 45 ... 23 15 3]\n",
            "  [35 8 82 ... 11 59 97]\n",
            "  [44 6 99 ... 81 60 27]\n",
            "  ...\n",
            "  [76 26 35 ... 51 8 17]\n",
            "  [33 52 53 ... 78 37 31]\n",
            "  [71 27 44 ... 0 52 16]]]\n"
          ],
          "name": "stdout"
        }
      ]
    },
    {
      "cell_type": "code",
      "metadata": {
        "colab": {
          "base_uri": "https://localhost:8080/"
        },
        "id": "5zMMttg45P54",
        "outputId": "04200b36-ef7a-4615-83bd-ef7d437630d7"
      },
      "source": [
        "p = tf.gather(scores, [0,5,9], axis=1)\n",
        "tf.print(p)"
      ],
      "execution_count": 28,
      "outputs": [
        {
          "output_type": "stream",
          "text": [
            "[[[52 82 66 ... 17 86 14]\n",
            "  [24 80 70 ... 72 63 96]\n",
            "  [24 99 38 ... 97 44 74]]\n",
            "\n",
            " [[79 73 73 ... 35 3 81]\n",
            "  [46 10 94 ... 23 18 92]\n",
            "  [0 21 89 ... 53 10 90]]\n",
            "\n",
            " [[52 80 22 ... 29 25 60]\n",
            "  [19 12 23 ... 87 86 25]\n",
            "  [61 78 70 ... 7 59 21]]\n",
            "\n",
            " [[56 57 45 ... 23 15 3]\n",
            "  [6 41 79 ... 97 43 13]\n",
            "  [71 27 44 ... 0 52 16]]]\n"
          ],
          "name": "stdout"
        }
      ]
    },
    {
      "cell_type": "code",
      "metadata": {
        "colab": {
          "base_uri": "https://localhost:8080/"
        },
        "id": "8NNJUiRx5dUs",
        "outputId": "60b34cfb-96b6-471b-9278-590fcb91475a"
      },
      "source": [
        "# Extract the grades of the 1st, 3rd and 6th courses of the 0th, 5th and 9th students in each class\n",
        "q = tf.gather(tf.gather(scores, [0,5,9], axis=1), [1,3,6], axis=2)\n",
        "tf.print(q)"
      ],
      "execution_count": 29,
      "outputs": [
        {
          "output_type": "stream",
          "text": [
            "[[[82 55 14]\n",
            "  [80 46 96]\n",
            "  [99 58 74]]\n",
            "\n",
            " [[73 48 81]\n",
            "  [10 38 92]\n",
            "  [21 86 90]]\n",
            "\n",
            " [[80 57 60]\n",
            "  [12 34 25]\n",
            "  [78 71 21]]\n",
            "\n",
            " [[57 75 3]\n",
            "  [41 47 13]\n",
            "  [27 96 16]]]\n"
          ],
          "name": "stdout"
        }
      ]
    },
    {
      "cell_type": "code",
      "metadata": {
        "colab": {
          "base_uri": "https://localhost:8080/"
        },
        "id": "9LLqgywX5-3D",
        "outputId": "74175238-7fd4-4b29-b431-efed246acf0e"
      },
      "source": [
        "s = tf.gather_nd(scores, indices = [(0,0), (2,4), (3,6)])\n",
        "s"
      ],
      "execution_count": 31,
      "outputs": [
        {
          "output_type": "execute_result",
          "data": {
            "text/plain": [
              "<tf.Tensor: shape=(3, 7), dtype=int32, numpy=\n",
              "array([[52, 82, 66, 55, 17, 86, 14],\n",
              "       [99, 94, 46, 70,  1, 63, 41],\n",
              "       [46, 83, 70, 80, 90, 85, 17]], dtype=int32)>"
            ]
          },
          "metadata": {
            "tags": []
          },
          "execution_count": 31
        }
      ]
    },
    {
      "cell_type": "code",
      "metadata": {
        "colab": {
          "base_uri": "https://localhost:8080/"
        },
        "id": "c_w9as9U7Exh",
        "outputId": "2984b44f-f22e-4a3e-fdc1-dfbc974640bc"
      },
      "source": [
        "p = tf.boolean_mask(scores, [True, False, False, False, False,\n",
        "                             True,False,False,False,True], axis=1)\n",
        "tf.print(p)"
      ],
      "execution_count": 32,
      "outputs": [
        {
          "output_type": "stream",
          "text": [
            "[[[52 82 66 ... 17 86 14]\n",
            "  [24 80 70 ... 72 63 96]\n",
            "  [24 99 38 ... 97 44 74]]\n",
            "\n",
            " [[79 73 73 ... 35 3 81]\n",
            "  [46 10 94 ... 23 18 92]\n",
            "  [0 21 89 ... 53 10 90]]\n",
            "\n",
            " [[52 80 22 ... 29 25 60]\n",
            "  [19 12 23 ... 87 86 25]\n",
            "  [61 78 70 ... 7 59 21]]\n",
            "\n",
            " [[56 57 45 ... 23 15 3]\n",
            "  [6 41 79 ... 97 43 13]\n",
            "  [71 27 44 ... 0 52 16]]]\n"
          ],
          "name": "stdout"
        }
      ]
    },
    {
      "cell_type": "code",
      "metadata": {
        "colab": {
          "base_uri": "https://localhost:8080/"
        },
        "id": "c00io9xS7wnq",
        "outputId": "e6602e05-1034-416a-c8f5-ea71db211d8d"
      },
      "source": [
        "# Extract all the grades of the 0th student in the 0th class, the 4th student in the 2nd class, and the 6th student in the 3rd class.\n",
        "s = tf.boolean_mask(scores,\n",
        "    [[True,False,False,False,False,False,False,False,False,False],\n",
        "     [False,False,False,False,False,False,False,False,False,False],\n",
        "     [False,False,False,False,True,False,False,False,False,False],\n",
        "     [False,False,False,False,False,False,True,False,False,False]])\n",
        "tf.print(s)"
      ],
      "execution_count": 33,
      "outputs": [
        {
          "output_type": "stream",
          "text": [
            "[[52 82 66 ... 17 86 14]\n",
            " [99 94 46 ... 1 63 41]\n",
            " [46 83 70 ... 90 85 17]]\n"
          ],
          "name": "stdout"
        }
      ]
    },
    {
      "cell_type": "code",
      "metadata": {
        "colab": {
          "base_uri": "https://localhost:8080/"
        },
        "id": "VCcd8pJW714I",
        "outputId": "f382f285-2869-417b-8430-d8976cc9fdd6"
      },
      "source": [
        "c = tf.constant([[-1,1,-1], [2,2,-1],[3,-3,3]], dtype=tf.float32)\n",
        "tf.print(c, \"\\n\")\n",
        "\n",
        "tf.print(tf.boolean_mask(c, c<0), \"\\n\")\n",
        "tf.print(c[c<0])"
      ],
      "execution_count": 35,
      "outputs": [
        {
          "output_type": "stream",
          "text": [
            "[[-1 1 -1]\n",
            " [2 2 -1]\n",
            " [3 -3 3]] \n",
            "\n",
            "[-1 -1 -1 -3] \n",
            "\n",
            "[-1 -1 -1 -3]\n"
          ],
          "name": "stdout"
        }
      ]
    },
    {
      "cell_type": "code",
      "metadata": {
        "colab": {
          "base_uri": "https://localhost:8080/"
        },
        "id": "Lbtm9iPE8xaj",
        "outputId": "7ebe8bfc-bd80-4a3f-be31-c8b32bf402f9"
      },
      "source": [
        "# Find elements that are less than 0, create a new tensor by replacing these elements with np.nan.\n",
        "# tf.where is similar to np.where, which is the \"if\" for the tensors\n",
        "\n",
        "c = tf.constant([[-1,1,-1],[2,2,-2],[3,-3,3]],dtype=tf.float32)\n",
        "d = tf.where(c<0, tf.fill(c.shape, np.nan), c)\n",
        "d"
      ],
      "execution_count": 36,
      "outputs": [
        {
          "output_type": "execute_result",
          "data": {
            "text/plain": [
              "<tf.Tensor: shape=(3, 3), dtype=float32, numpy=\n",
              "array([[nan,  1., nan],\n",
              "       [ 2.,  2., nan],\n",
              "       [ 3., nan,  3.]], dtype=float32)>"
            ]
          },
          "metadata": {
            "tags": []
          },
          "execution_count": 36
        }
      ]
    },
    {
      "cell_type": "code",
      "metadata": {
        "colab": {
          "base_uri": "https://localhost:8080/"
        },
        "id": "9HchzL-e9Cy4",
        "outputId": "c54a7518-a36b-4551-8916-46c3d68f8cb0"
      },
      "source": [
        "# The method where returns all the coordinates that satisfy the condition if there is only one argument\n",
        "indices = tf.where(c<0)\n",
        "indices"
      ],
      "execution_count": 37,
      "outputs": [
        {
          "output_type": "execute_result",
          "data": {
            "text/plain": [
              "<tf.Tensor: shape=(4, 2), dtype=int64, numpy=\n",
              "array([[0, 0],\n",
              "       [0, 2],\n",
              "       [1, 2],\n",
              "       [2, 1]])>"
            ]
          },
          "metadata": {
            "tags": []
          },
          "execution_count": 37
        }
      ]
    },
    {
      "cell_type": "code",
      "metadata": {
        "colab": {
          "base_uri": "https://localhost:8080/"
        },
        "id": "7m-t8NdV9mEB",
        "outputId": "afc3183a-679c-4d6d-8a3a-c8a05c987d17"
      },
      "source": [
        "d = c - tf.scatter_nd([[0,0], [2,1]], [c[0,0],c[2,1]], c.shape)\n",
        "d"
      ],
      "execution_count": 38,
      "outputs": [
        {
          "output_type": "execute_result",
          "data": {
            "text/plain": [
              "<tf.Tensor: shape=(3, 3), dtype=float32, numpy=\n",
              "array([[ 0.,  1., -1.],\n",
              "       [ 2.,  2., -2.],\n",
              "       [ 3.,  0.,  3.]], dtype=float32)>"
            ]
          },
          "metadata": {
            "tags": []
          },
          "execution_count": 38
        }
      ]
    },
    {
      "cell_type": "code",
      "metadata": {
        "colab": {
          "base_uri": "https://localhost:8080/"
        },
        "id": "DdUChej1-eWn",
        "outputId": "1291a120-c17f-41f7-9c08-c1d1a236120b"
      },
      "source": [
        "indices = tf.where(c<0)\n",
        "tf.scatter_nd(indices, tf.gather_nd(c, indices), c.shape)"
      ],
      "execution_count": 40,
      "outputs": [
        {
          "output_type": "execute_result",
          "data": {
            "text/plain": [
              "<tf.Tensor: shape=(3, 3), dtype=float32, numpy=\n",
              "array([[-1.,  0., -1.],\n",
              "       [ 0.,  0., -2.],\n",
              "       [ 0., -3.,  0.]], dtype=float32)>"
            ]
          },
          "metadata": {
            "tags": []
          },
          "execution_count": 40
        }
      ]
    },
    {
      "cell_type": "code",
      "metadata": {
        "colab": {
          "base_uri": "https://localhost:8080/"
        },
        "id": "_NnLXSH5_Rwe",
        "outputId": "e5665895-a642-47fb-e823-f95fe211ffe4"
      },
      "source": [
        "a = tf.random.uniform(shape=[1,3,3,2],\n",
        "                      minval=0,maxval=255,dtype=tf.int32)\n",
        "tf.print(a.shape)\n",
        "tf.print(a)"
      ],
      "execution_count": 41,
      "outputs": [
        {
          "output_type": "stream",
          "text": [
            "TensorShape([1, 3, 3, 2])\n",
            "[[[[100 44]\n",
            "   [181 14]\n",
            "   [90 53]]\n",
            "\n",
            "  [[205 141]\n",
            "   [14 24]\n",
            "   [239 46]]\n",
            "\n",
            "  [[225 174]\n",
            "   [212 78]\n",
            "   [14 144]]]]\n"
          ],
          "name": "stdout"
        }
      ]
    },
    {
      "cell_type": "code",
      "metadata": {
        "colab": {
          "base_uri": "https://localhost:8080/"
        },
        "id": "iJC0yVPV_gJP",
        "outputId": "a1e36504-2acc-4c26-c5d7-ee0a4d77d6f6"
      },
      "source": [
        "b = tf.reshape(a, [3,6])\n",
        "tf.print(b.shape)\n",
        "tf.print(b)"
      ],
      "execution_count": 42,
      "outputs": [
        {
          "output_type": "stream",
          "text": [
            "TensorShape([3, 6])\n",
            "[[100 44 181 14 90 53]\n",
            " [205 141 14 24 239 46]\n",
            " [225 174 212 78 14 144]]\n"
          ],
          "name": "stdout"
        }
      ]
    },
    {
      "cell_type": "code",
      "metadata": {
        "colab": {
          "base_uri": "https://localhost:8080/"
        },
        "id": "LrFm_AZX_ubh",
        "outputId": "0c74e914-4053-4279-e1d7-ed0da158cafb"
      },
      "source": [
        "c = tf.reshape(b, [1, 3, 3, 2])\n",
        "tf.print(c)"
      ],
      "execution_count": 43,
      "outputs": [
        {
          "output_type": "stream",
          "text": [
            "[[[[100 44]\n",
            "   [181 14]\n",
            "   [90 53]]\n",
            "\n",
            "  [[205 141]\n",
            "   [14 24]\n",
            "   [239 46]]\n",
            "\n",
            "  [[225 174]\n",
            "   [212 78]\n",
            "   [14 144]]]]\n"
          ],
          "name": "stdout"
        }
      ]
    },
    {
      "cell_type": "code",
      "metadata": {
        "colab": {
          "base_uri": "https://localhost:8080/"
        },
        "id": "1Zm2wbY7_8MC",
        "outputId": "3be09f22-696f-44a4-9ce1-ad71981566de"
      },
      "source": [
        "s = tf.squeeze(a)\n",
        "tf.print(s.shape)\n",
        "tf.print(s)"
      ],
      "execution_count": 44,
      "outputs": [
        {
          "output_type": "stream",
          "text": [
            "TensorShape([3, 3, 2])\n",
            "[[[100 44]\n",
            "  [181 14]\n",
            "  [90 53]]\n",
            "\n",
            " [[205 141]\n",
            "  [14 24]\n",
            "  [239 46]]\n",
            "\n",
            " [[225 174]\n",
            "  [212 78]\n",
            "  [14 144]]]\n"
          ],
          "name": "stdout"
        }
      ]
    },
    {
      "cell_type": "code",
      "metadata": {
        "colab": {
          "base_uri": "https://localhost:8080/"
        },
        "id": "4QGXA9K4ANpy",
        "outputId": "581d44d9-42b7-40e0-e6a5-e4747fe7d8a9"
      },
      "source": [
        "d = tf.expand_dims(s, axis=0)\n",
        "d"
      ],
      "execution_count": 45,
      "outputs": [
        {
          "output_type": "execute_result",
          "data": {
            "text/plain": [
              "<tf.Tensor: shape=(1, 3, 3, 2), dtype=int32, numpy=\n",
              "array([[[[100,  44],\n",
              "         [181,  14],\n",
              "         [ 90,  53]],\n",
              "\n",
              "        [[205, 141],\n",
              "         [ 14,  24],\n",
              "         [239,  46]],\n",
              "\n",
              "        [[225, 174],\n",
              "         [212,  78],\n",
              "         [ 14, 144]]]], dtype=int32)>"
            ]
          },
          "metadata": {
            "tags": []
          },
          "execution_count": 45
        }
      ]
    },
    {
      "cell_type": "code",
      "metadata": {
        "colab": {
          "base_uri": "https://localhost:8080/"
        },
        "id": "Xju5EgqaAvT3",
        "outputId": "22b55fee-ed92-4956-8172-b58f320a83ca"
      },
      "source": [
        "# Batch,Height,Width,Channel\n",
        "a = tf.random.uniform(shape=[100,600,600,4],minval=0,maxval=255,dtype=tf.int32)\n",
        "tf.print(a.shape)\n",
        "\n",
        "# Transform to the order as Channel,Height,Width,Batch\n",
        "s= tf.transpose(a,perm=[3,1,2,0])\n",
        "tf.print(s.shape)"
      ],
      "execution_count": 46,
      "outputs": [
        {
          "output_type": "stream",
          "text": [
            "TensorShape([100, 600, 600, 4])\n",
            "TensorShape([4, 600, 600, 100])\n"
          ],
          "name": "stdout"
        }
      ]
    },
    {
      "cell_type": "code",
      "metadata": {
        "colab": {
          "base_uri": "https://localhost:8080/"
        },
        "id": "3UDcfU2dA95a",
        "outputId": "aeaee5da-f9cd-4f37-88c7-95d35017f5c3"
      },
      "source": [
        "a = tf.constant([[1.0, 2.0], [3.0, 4.0]])\n",
        "b = tf.constant([[5.0, 6.0], [7.0, 8.0]])\n",
        "c = tf.constant([[9.0, 10.0], [11.0, 12.0]])\n",
        "\n",
        "tf.concat([a, b, c], axis=0)"
      ],
      "execution_count": 47,
      "outputs": [
        {
          "output_type": "execute_result",
          "data": {
            "text/plain": [
              "<tf.Tensor: shape=(6, 2), dtype=float32, numpy=\n",
              "array([[ 1.,  2.],\n",
              "       [ 3.,  4.],\n",
              "       [ 5.,  6.],\n",
              "       [ 7.,  8.],\n",
              "       [ 9., 10.],\n",
              "       [11., 12.]], dtype=float32)>"
            ]
          },
          "metadata": {
            "tags": []
          },
          "execution_count": 47
        }
      ]
    },
    {
      "cell_type": "code",
      "metadata": {
        "colab": {
          "base_uri": "https://localhost:8080/"
        },
        "id": "RUw5FbWdBYLg",
        "outputId": "a3d1af58-063d-493a-cdaf-9ad9a9eed17d"
      },
      "source": [
        "tf.concat([a, b, c], axis=1)"
      ],
      "execution_count": 48,
      "outputs": [
        {
          "output_type": "execute_result",
          "data": {
            "text/plain": [
              "<tf.Tensor: shape=(2, 6), dtype=float32, numpy=\n",
              "array([[ 1.,  2.,  5.,  6.,  9., 10.],\n",
              "       [ 3.,  4.,  7.,  8., 11., 12.]], dtype=float32)>"
            ]
          },
          "metadata": {
            "tags": []
          },
          "execution_count": 48
        }
      ]
    },
    {
      "cell_type": "code",
      "metadata": {
        "colab": {
          "base_uri": "https://localhost:8080/"
        },
        "id": "lwmFkEUPBd39",
        "outputId": "704e6184-8689-4248-f652-d90f910afe5b"
      },
      "source": [
        "tf.stack([a, b, c])"
      ],
      "execution_count": 49,
      "outputs": [
        {
          "output_type": "execute_result",
          "data": {
            "text/plain": [
              "<tf.Tensor: shape=(3, 2, 2), dtype=float32, numpy=\n",
              "array([[[ 1.,  2.],\n",
              "        [ 3.,  4.]],\n",
              "\n",
              "       [[ 5.,  6.],\n",
              "        [ 7.,  8.]],\n",
              "\n",
              "       [[ 9., 10.],\n",
              "        [11., 12.]]], dtype=float32)>"
            ]
          },
          "metadata": {
            "tags": []
          },
          "execution_count": 49
        }
      ]
    },
    {
      "cell_type": "code",
      "metadata": {
        "colab": {
          "base_uri": "https://localhost:8080/"
        },
        "id": "YrFSA4o_BqQy",
        "outputId": "b902cc87-ca50-416b-dfc2-8f96b8d9f81a"
      },
      "source": [
        "tf.stack([a, b, c], axis=1)"
      ],
      "execution_count": 50,
      "outputs": [
        {
          "output_type": "execute_result",
          "data": {
            "text/plain": [
              "<tf.Tensor: shape=(2, 3, 2), dtype=float32, numpy=\n",
              "array([[[ 1.,  2.],\n",
              "        [ 5.,  6.],\n",
              "        [ 9., 10.]],\n",
              "\n",
              "       [[ 3.,  4.],\n",
              "        [ 7.,  8.],\n",
              "        [11., 12.]]], dtype=float32)>"
            ]
          },
          "metadata": {
            "tags": []
          },
          "execution_count": 50
        }
      ]
    },
    {
      "cell_type": "code",
      "metadata": {
        "id": "ioClW_IeB0gq"
      },
      "source": [
        "a = tf.constant([[1.0,2.0],[3.0,4.0]])\n",
        "b = tf.constant([[5.0,6.0],[7.0,8.0]])\n",
        "c = tf.constant([[9.0,10.0],[11.0,12.0]])\n",
        "\n",
        "c = tf.concat([a,b,c],axis = 0)"
      ],
      "execution_count": 52,
      "outputs": []
    },
    {
      "cell_type": "code",
      "metadata": {
        "colab": {
          "base_uri": "https://localhost:8080/"
        },
        "id": "aOl5nEltB_n4",
        "outputId": "f12e8b34-b73e-4716-a44a-9b6802fd26bb"
      },
      "source": [
        "tf.split(c, 3, axis=0)"
      ],
      "execution_count": 53,
      "outputs": [
        {
          "output_type": "execute_result",
          "data": {
            "text/plain": [
              "[<tf.Tensor: shape=(2, 2), dtype=float32, numpy=\n",
              " array([[1., 2.],\n",
              "        [3., 4.]], dtype=float32)>,\n",
              " <tf.Tensor: shape=(2, 2), dtype=float32, numpy=\n",
              " array([[5., 6.],\n",
              "        [7., 8.]], dtype=float32)>,\n",
              " <tf.Tensor: shape=(2, 2), dtype=float32, numpy=\n",
              " array([[ 9., 10.],\n",
              "        [11., 12.]], dtype=float32)>]"
            ]
          },
          "metadata": {
            "tags": []
          },
          "execution_count": 53
        }
      ]
    },
    {
      "cell_type": "code",
      "metadata": {
        "colab": {
          "base_uri": "https://localhost:8080/"
        },
        "id": "HLaLGuCWCMf4",
        "outputId": "2c828d04-03d4-4bad-a8fc-8fb19870a912"
      },
      "source": [
        "tf.split(c, [1,2,3], axis=0)"
      ],
      "execution_count": 57,
      "outputs": [
        {
          "output_type": "execute_result",
          "data": {
            "text/plain": [
              "[<tf.Tensor: shape=(1, 2), dtype=float32, numpy=array([[1., 2.]], dtype=float32)>,\n",
              " <tf.Tensor: shape=(2, 2), dtype=float32, numpy=\n",
              " array([[3., 4.],\n",
              "        [5., 6.]], dtype=float32)>,\n",
              " <tf.Tensor: shape=(3, 2), dtype=float32, numpy=\n",
              " array([[ 7.,  8.],\n",
              "        [ 9., 10.],\n",
              "        [11., 12.]], dtype=float32)>]"
            ]
          },
          "metadata": {
            "tags": []
          },
          "execution_count": 57
        }
      ]
    }
  ]
}