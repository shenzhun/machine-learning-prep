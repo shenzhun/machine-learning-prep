{
  "nbformat": 4,
  "nbformat_minor": 0,
  "metadata": {
    "colab": {
      "name": "day16_metrics.ipynb",
      "provenance": [],
      "authorship_tag": "ABX9TyPGtK2QkNcjSHPKQcndB0cJ",
      "include_colab_link": true
    },
    "kernelspec": {
      "name": "python3",
      "display_name": "Python 3"
    }
  },
  "cells": [
    {
      "cell_type": "markdown",
      "metadata": {
        "id": "view-in-github",
        "colab_type": "text"
      },
      "source": [
        "<a href=\"https://colab.research.google.com/github/shenzhun/machine-learning-prep/blob/master/tensorflow/day16_metrics.ipynb\" target=\"_parent\"><img src=\"https://colab.research.google.com/assets/colab-badge.svg\" alt=\"Open In Colab\"/></a>"
      ]
    },
    {
      "cell_type": "code",
      "metadata": {
        "id": "N0C8DvVmaLiN"
      },
      "source": [
        "import numpy as np\n",
        "import pandas as pd\n",
        "import tensorflow as tf\n",
        "from tensorflow.keras import layers, models, losses, metrics"
      ],
      "execution_count": 1,
      "outputs": []
    },
    {
      "cell_type": "code",
      "metadata": {
        "id": "HqR17FMJbD0x"
      },
      "source": [
        "@tf.function\n",
        "def ks(y_true, y_pred):\n",
        "  y_true = tf.reshape(y_true, (-1,))\n",
        "  y_pred = tf.reshape(y_pred, (-1,))\n",
        "  length = tf.shape(y_true)[0]\n",
        "  t = tf.math.top_k(y_pred, k=length, sorted=False)\n",
        "  y_pred_sorted = tf.gather(y_pred, t.indices)\n",
        "  y_true_sorted = tf.gather(y_true, t.indices)\n",
        "\n",
        "  cum_positive_ratio = tf.truediv(\n",
        "      tf.cumsum(y_true_sorted),\n",
        "      tf.reduce_sum(y_true_sorted)\n",
        "  )\n",
        "  cum_negative_ratio = tf.truediv(\n",
        "      tf.cumsum(1 - y_true_sorted),\n",
        "      tf.reduce_sum(1 - y_true_sorted)\n",
        "  )\n",
        "  ks_value = tf.reduce_max(tf.abs(cum_positive_ratio - cum_negative_ratio))\n",
        "  return ks_value"
      ],
      "execution_count": 9,
      "outputs": []
    },
    {
      "cell_type": "code",
      "metadata": {
        "colab": {
          "base_uri": "https://localhost:8080/"
        },
        "id": "6PBPA7UTcMgw",
        "outputId": "cc95a7e3-a910-4546-c805-9332152931c6"
      },
      "source": [
        "y_true = tf.constant([[1],[1],[1],[0],[1],[1],[1],[0],[0],[0],[1],[0],[1],[0]])\n",
        "y_pred = tf.constant([[0.6],[0.1],[0.4],[0.5],[0.7],[0.7],[0.7],\n",
        "                      [0.4],[0.4],[0.5],[0.8],[0.3],[0.5],[0.3]])\n",
        "tf.print(ks(y_true, y_pred))"
      ],
      "execution_count": 10,
      "outputs": [
        {
          "output_type": "stream",
          "text": [
            "0.625\n"
          ],
          "name": "stdout"
        }
      ]
    },
    {
      "cell_type": "code",
      "metadata": {
        "id": "a2JnxfUhcmJR"
      },
      "source": [
        "class KS(metrics.Metric):\n",
        "  def __init__(self, name='ks', **kargs):\n",
        "    super(KS, self).__init__(name=name, **kargs)\n",
        "    self.true_positives = self.add_weight(\n",
        "        name='tp',\n",
        "        shape=(101,),\n",
        "        initializer='zero'\n",
        "    )\n",
        "    self.false_positives = self.add_weight(\n",
        "        name='p',\n",
        "        shape=(101,),\n",
        "        initializer='zero'\n",
        "    )\n",
        "  \n",
        "  @tf.function\n",
        "  def update_state(self, y_true, y_pred):\n",
        "    y_true = tf.cast(tf.reshape(y_true, (-1,)), tf.bool)\n",
        "    y_pred = tf.cast(100*tf.reshape(y_pred, (-1,)), tf.int32)\n",
        "\n",
        "    for i in tf.range(0, tf.shape(y_true)[0]):\n",
        "      if y_true[i]:\n",
        "        self.true_positives[y_pred[i]].assign(\n",
        "            self.true_positives[y_pred[i]] + 1.0\n",
        "        )\n",
        "      else:\n",
        "        self.false_positives[y_pred[i]].assign(\n",
        "            self.false_positives[y_pred[i]]+1.0\n",
        "        )\n",
        "    return self.true_positives, self.false_positives\n",
        "  \n",
        "  @tf.function\n",
        "  def result(self):\n",
        "    cum_positive_ratio = tf.truediv(\n",
        "        tf.cumsum(self.true_positives),\n",
        "        tf.reduce_sum(self.true_positives)\n",
        "    )\n",
        "    cum_negative_ratio = tf.truediv(\n",
        "        tf.cumsum(self.false_positives),\n",
        "        tf.reduce_sum(self.false_positives)\n",
        "    )\n",
        "    ks_value = tf.reduce_max(tf.abs(cum_positive_ratio - cum_negative_ratio))\n",
        "    return ks_value"
      ],
      "execution_count": 13,
      "outputs": []
    },
    {
      "cell_type": "code",
      "metadata": {
        "colab": {
          "base_uri": "https://localhost:8080/"
        },
        "id": "J5O9s9KOfQ2M",
        "outputId": "176f08d9-9d3f-4482-db82-01996075fb15"
      },
      "source": [
        "y_true = tf.constant([[1],[1],[1],[0],[1],[1],[1],[0],[0],[0],[1],[0],[1],[0]])\n",
        "y_pred = tf.constant([[0.6],[0.1],[0.4],[0.5],[0.7],[0.7],\n",
        "                      [0.7],[0.4],[0.4],[0.5],[0.8],[0.3],[0.5],[0.3]])\n",
        "\n",
        "myks = KS()\n",
        "myks.update_state(y_true,y_pred)\n",
        "tf.print(myks.result())"
      ],
      "execution_count": 14,
      "outputs": [
        {
          "output_type": "stream",
          "text": [
            "0.625\n"
          ],
          "name": "stdout"
        }
      ]
    }
  ]
}