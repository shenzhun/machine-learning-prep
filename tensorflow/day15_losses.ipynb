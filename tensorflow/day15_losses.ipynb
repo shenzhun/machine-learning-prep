{
  "nbformat": 4,
  "nbformat_minor": 0,
  "metadata": {
    "colab": {
      "name": "day15_losses.ipynb",
      "provenance": [],
      "authorship_tag": "ABX9TyMGs07a407m4fhhEidCjMV9",
      "include_colab_link": true
    },
    "kernelspec": {
      "name": "python3",
      "display_name": "Python 3"
    }
  },
  "cells": [
    {
      "cell_type": "markdown",
      "metadata": {
        "id": "view-in-github",
        "colab_type": "text"
      },
      "source": [
        "<a href=\"https://colab.research.google.com/github/shenzhun/machine-learning-prep/blob/master/tensorflow/day15_losses.ipynb\" target=\"_parent\"><img src=\"https://colab.research.google.com/assets/colab-badge.svg\" alt=\"Open In Colab\"/></a>"
      ]
    },
    {
      "cell_type": "code",
      "metadata": {
        "id": "1Jg_xebGTAqd"
      },
      "source": [
        "import numpy as np\n",
        "import pandas as pd\n",
        "import tensorflow as tf\n",
        "from tensorflow.keras import layers, models, losses, regularizers, constraints"
      ],
      "execution_count": 9,
      "outputs": []
    },
    {
      "cell_type": "code",
      "metadata": {
        "colab": {
          "base_uri": "https://localhost:8080/"
        },
        "id": "Z7qkAaqGTjtK",
        "outputId": "1688c2ed-dd75-4fcd-f111-2302041f573c"
      },
      "source": [
        "tf.keras.backend.clear_session()\n",
        "model = models.Sequential()\n",
        "model.add(\n",
        "    layers.Dense(64, \n",
        "                 input_dim=64,\n",
        "                 kernel_regularizer=regularizers.l2(0.01),\n",
        "                 activity_regularizer=regularizers.l1(0.01),\n",
        "                 kernel_constraint=constraints.MaxNorm(max_value=2, axis=0)\n",
        "    )\n",
        ")\n",
        "model.add(\n",
        "    layers.Dense(10,\n",
        "                 kernel_regularizer=regularizers.l1_l2(0.01, 0.01),\n",
        "                 activation='sigmoid')\n",
        "    )\n",
        "model.compile(optimizer='rmsprop',\n",
        "              loss='binary_crossentropy',\n",
        "              metrics=['AUC']\n",
        "              )\n",
        "model.summary()"
      ],
      "execution_count": 10,
      "outputs": [
        {
          "output_type": "stream",
          "text": [
            "Model: \"sequential\"\n",
            "_________________________________________________________________\n",
            "Layer (type)                 Output Shape              Param #   \n",
            "=================================================================\n",
            "dense (Dense)                (None, 64)                4160      \n",
            "_________________________________________________________________\n",
            "dense_1 (Dense)              (None, 10)                650       \n",
            "=================================================================\n",
            "Total params: 4,810\n",
            "Trainable params: 4,810\n",
            "Non-trainable params: 0\n",
            "_________________________________________________________________\n"
          ],
          "name": "stdout"
        }
      ]
    },
    {
      "cell_type": "code",
      "metadata": {
        "id": "0U70knakVSM2"
      },
      "source": [
        "def focal_loss(gamma=2., alpha=0.75):\n",
        "  def focal_loss_fixed(y_true, y_pred):\n",
        "    bce = tf.losses.binary_crossentropy(y_true, y_pred)\n",
        "    p_t = (y_true * y_pred) + ((1 - y_true) * (1 - y_pred))\n",
        "    alpha_factor = y_true * alpha + (1 - y_true) * (1 - alpha)\n",
        "    modulating_factor = tf.pow(1.0 - p_t, gamma)\n",
        "    loss = tf.reduce_sum(alpha_factor * modulating_factor * bce, axis=-1)\n",
        "    return loss\n",
        "  return focal_loss_fixed"
      ],
      "execution_count": 11,
      "outputs": []
    },
    {
      "cell_type": "code",
      "metadata": {
        "id": "SQkLlY4eXTw4"
      },
      "source": [
        "class FocalLoss(losses.Loss):\n",
        "  def __init__(self, gamma=2.0, alpha=0.75, name=\"focal_loss\"):\n",
        "    self.gamma = gamma\n",
        "    self.alpha = alpha\n",
        "  \n",
        "  def call(self, y_true, y_pred):\n",
        "    bce = tf.losses.binary_crossentropy(y_true, y_pred)\n",
        "    p_t = (y_true * y_pred) + ((1 - y_true) * (1 - y_pred))\n",
        "    alpha_factor = y_true * self.alpha + (1 - y_true) * (1 - self.alpha)\n",
        "    modulating_factor = tf.pow(1.0 - p_t, self.gamma)\n",
        "    loss = tf.reduce_sum(alpha_factor * modulating_factor * bce, axis=-1)\n",
        "    return loss"
      ],
      "execution_count": 12,
      "outputs": []
    }
  ]
}