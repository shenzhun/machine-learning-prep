{
  "nbformat": 4,
  "nbformat_minor": 0,
  "metadata": {
    "colab": {
      "name": "day4_autograd.ipynb",
      "provenance": [],
      "authorship_tag": "ABX9TyP213qMoX5WEjkaEKPanpLe",
      "include_colab_link": true
    },
    "kernelspec": {
      "name": "python3",
      "display_name": "Python 3"
    }
  },
  "cells": [
    {
      "cell_type": "markdown",
      "metadata": {
        "id": "view-in-github",
        "colab_type": "text"
      },
      "source": [
        "<a href=\"https://colab.research.google.com/github/shenzhun/machine-learning-prep/blob/master/tensorflow/day4_autograd.ipynb\" target=\"_parent\"><img src=\"https://colab.research.google.com/assets/colab-badge.svg\" alt=\"Open In Colab\"/></a>"
      ]
    },
    {
      "cell_type": "code",
      "metadata": {
        "id": "-huJpr2ZqNHo"
      },
      "source": [
        "import tensorflow as tf\n",
        "import numpy as np"
      ],
      "execution_count": 3,
      "outputs": []
    },
    {
      "cell_type": "code",
      "metadata": {
        "colab": {
          "base_uri": "https://localhost:8080/"
        },
        "id": "p_1OcIVdqpPe",
        "outputId": "fe22d08e-76cd-4a0d-ebf1-ee3d6c9ecb35"
      },
      "source": [
        "x = tf.Variable(0.0, name = \"x\", dtype=tf.float32)\n",
        "a = tf.constant(2.0)\n",
        "b = tf.constant(-2.0)\n",
        "c = tf.constant(1.0)\n",
        "\n",
        "with tf.GradientTape() as tape:\n",
        "  y = a*tf.pow(x, 2) + b*x + c\n",
        "\n",
        "dy_dx = tape.gradient(y, x)\n",
        "print(dy_dx)"
      ],
      "execution_count": 6,
      "outputs": [
        {
          "output_type": "stream",
          "text": [
            "tf.Tensor(-2.0, shape=(), dtype=float32)\n"
          ],
          "name": "stdout"
        }
      ]
    },
    {
      "cell_type": "code",
      "metadata": {
        "colab": {
          "base_uri": "https://localhost:8080/"
        },
        "id": "Lt3me2zernb8",
        "outputId": "61fc3697-d114-42fd-f517-ff495d914f0a"
      },
      "source": [
        "with tf.GradientTape() as tape:\n",
        "  tape.watch([a,b,c])\n",
        "  y = a*tf.pow(x,2) + b*x + c\n",
        "\n",
        "dy_dx, dy_da,dy_db, dy_dc = tape.gradient(y, [x, a, b, c])\n",
        "print(dy_da)\n",
        "print(dy_dc)"
      ],
      "execution_count": 9,
      "outputs": [
        {
          "output_type": "stream",
          "text": [
            "tf.Tensor(0.0, shape=(), dtype=float32)\n",
            "tf.Tensor(1.0, shape=(), dtype=float32)\n"
          ],
          "name": "stdout"
        }
      ]
    },
    {
      "cell_type": "code",
      "metadata": {
        "colab": {
          "base_uri": "https://localhost:8080/"
        },
        "id": "FOhoN_0DsbRk",
        "outputId": "b806132d-13a3-43be-fda3-c95b54233bbc"
      },
      "source": [
        "@tf.function\n",
        "def f(x):\n",
        "  a = tf.constant(1.0)\n",
        "  b = tf.constant(-2.0)\n",
        "  c = tf.constant(1.0)\n",
        "\n",
        "  x = tf.cast(x, tf.float32)\n",
        "  with tf.GradientTape() as tape:\n",
        "    tape.watch(x)\n",
        "    y = a*tf.pow(x, 2) + b*x + c\n",
        "  dy_dx = tape.gradient(y, x)\n",
        "\n",
        "  return dy_dx, y\n",
        "\n",
        "tf.print(f(tf.constant(0.0)))\n",
        "tf.print(f(tf.constant(1.0)))\n",
        "\n"
      ],
      "execution_count": 12,
      "outputs": [
        {
          "output_type": "stream",
          "text": [
            "(-2, 1)\n",
            "(0, 0)\n"
          ],
          "name": "stdout"
        }
      ]
    },
    {
      "cell_type": "code",
      "metadata": {
        "colab": {
          "base_uri": "https://localhost:8080/"
        },
        "id": "6D7Wn2UItgPQ",
        "outputId": "f2221a61-949b-4e7c-9417-8042c41e8635"
      },
      "source": [
        "x = tf.Variable(0.0, name = \"x\", dtype= tf.float32)\n",
        "a = tf.constant(1.0)\n",
        "b = tf.constant(-2.0)\n",
        "c = tf.constant(1.0)\n",
        "\n",
        "optimizer = tf.keras.optimizers.SGD(learning_rate=0.01)\n",
        "for _ in range(1000):\n",
        "  with tf.GradientTape() as tape:\n",
        "    y = a*tf.pow(x, 2) + b*x + c\n",
        "  dy_dx = tape.gradient(y, x)\n",
        "  optimizer.apply_gradients(grads_and_vars = [(dy_dx, x)])\n",
        "\n",
        "tf.print(\"y =\", y, \"; x=\", x)"
      ],
      "execution_count": 15,
      "outputs": [
        {
          "output_type": "stream",
          "text": [
            "y = 0 ; x= 0.99999851\n"
          ],
          "name": "stdout"
        }
      ]
    },
    {
      "cell_type": "code",
      "metadata": {
        "colab": {
          "base_uri": "https://localhost:8080/"
        },
        "id": "Q3Z7no0ZxsAA",
        "outputId": "664ed6ba-35d8-48a6-bde9-0560b8551ea3"
      },
      "source": [
        "x = tf.Variable(0.0, name = \"x\", dtype= tf.float32)\n",
        "\n",
        "@tf.function\n",
        "def f():\n",
        "  a = tf.constant(1.0)\n",
        "  b = tf.constant(-2.0)\n",
        "  c = tf.constant(1.0)\n",
        "  y = a*tf.pow(x, 2) + b*x + c\n",
        "  return y\n",
        "\n",
        "optimizer = tf.keras.optimizers.SGD(learning_rate=0.01)\n",
        "for _ in range(1000):\n",
        "  optimizer.minimize(f, [x])\n",
        "\n",
        "tf.print(\"y =\", f(), \"; x= \", x)"
      ],
      "execution_count": 18,
      "outputs": [
        {
          "output_type": "stream",
          "text": [
            "y = 0 ; x=  0.99999851\n"
          ],
          "name": "stdout"
        }
      ]
    },
    {
      "cell_type": "code",
      "metadata": {
        "colab": {
          "base_uri": "https://localhost:8080/"
        },
        "id": "dACnFSsqz2WQ",
        "outputId": "e678c1d8-3e95-4c9f-adf7-703479915398"
      },
      "source": [
        "x = tf.Variable(0.0, name = \"x\", dtype= tf.float32)\n",
        "\n",
        "optimizer = tf.keras.optimizers.SGD(learning_rate=0.01)\n",
        "\n",
        "@tf.function\n",
        "def f():\n",
        "  a = tf.constant(1.0)\n",
        "  b = tf.constant(-2.0)\n",
        "  c = tf.constant(1.0)\n",
        "  y = a*tf.pow(x, 2) + b*x + c\n",
        "  return y\n",
        "\n",
        "@tf.function\n",
        "def train(epoch):\n",
        "  for _ in tf.range(epoch):\n",
        "    optimizer.minimize(f, [x])\n",
        "  return f()\n",
        "\n",
        "tf.print(train(1000))\n",
        "tf.print(x)\n"
      ],
      "execution_count": 19,
      "outputs": [
        {
          "output_type": "stream",
          "text": [
            "0\n",
            "0.99999851\n"
          ],
          "name": "stdout"
        }
      ]
    }
  ]
}