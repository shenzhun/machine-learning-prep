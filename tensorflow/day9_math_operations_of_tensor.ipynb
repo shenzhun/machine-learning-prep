{
  "nbformat": 4,
  "nbformat_minor": 0,
  "metadata": {
    "colab": {
      "name": "day9_math_operations_of_tensor.ipynb",
      "provenance": [],
      "authorship_tag": "ABX9TyMUG30KZcJcKDuiBTt8uJRL",
      "include_colab_link": true
    },
    "kernelspec": {
      "name": "python3",
      "display_name": "Python 3"
    }
  },
  "cells": [
    {
      "cell_type": "markdown",
      "metadata": {
        "id": "view-in-github",
        "colab_type": "text"
      },
      "source": [
        "<a href=\"https://colab.research.google.com/github/shenzhun/machine-learning-prep/blob/master/tensorflow/day9_math_operations_of_tensor.ipynb\" target=\"_parent\"><img src=\"https://colab.research.google.com/assets/colab-badge.svg\" alt=\"Open In Colab\"/></a>"
      ]
    },
    {
      "cell_type": "code",
      "metadata": {
        "id": "MNE6ll_7HSYz"
      },
      "source": [
        "import tensorflow as tf\n",
        "import numpy as np"
      ],
      "execution_count": 1,
      "outputs": []
    },
    {
      "cell_type": "code",
      "metadata": {
        "colab": {
          "base_uri": "https://localhost:8080/"
        },
        "id": "focUhLshHewC",
        "outputId": "80f2be7e-6196-4762-890f-e5048f3f56d5"
      },
      "source": [
        "a = tf.constant([[1.0, 2], [-3, 4.0]])\n",
        "b = tf.constant([[5.0, 6], [7.0, 8.0]])\n",
        "a + b"
      ],
      "execution_count": 3,
      "outputs": [
        {
          "output_type": "execute_result",
          "data": {
            "text/plain": [
              "<tf.Tensor: shape=(2, 2), dtype=float32, numpy=\n",
              "array([[ 6.,  8.],\n",
              "       [ 4., 12.]], dtype=float32)>"
            ]
          },
          "metadata": {
            "tags": []
          },
          "execution_count": 3
        }
      ]
    },
    {
      "cell_type": "code",
      "metadata": {
        "colab": {
          "base_uri": "https://localhost:8080/"
        },
        "id": "sBpMaOAbH2JM",
        "outputId": "79d94c3c-a3d2-4413-adaa-328da298b231"
      },
      "source": [
        "a - b"
      ],
      "execution_count": 4,
      "outputs": [
        {
          "output_type": "execute_result",
          "data": {
            "text/plain": [
              "<tf.Tensor: shape=(2, 2), dtype=float32, numpy=\n",
              "array([[ -4.,  -4.],\n",
              "       [-10.,  -4.]], dtype=float32)>"
            ]
          },
          "metadata": {
            "tags": []
          },
          "execution_count": 4
        }
      ]
    },
    {
      "cell_type": "code",
      "metadata": {
        "colab": {
          "base_uri": "https://localhost:8080/"
        },
        "id": "F7h5nSjFIGFi",
        "outputId": "93c07c7c-de32-4375-f71c-c75b668190f2"
      },
      "source": [
        "a * b"
      ],
      "execution_count": 5,
      "outputs": [
        {
          "output_type": "execute_result",
          "data": {
            "text/plain": [
              "<tf.Tensor: shape=(2, 2), dtype=float32, numpy=\n",
              "array([[  5.,  12.],\n",
              "       [-21.,  32.]], dtype=float32)>"
            ]
          },
          "metadata": {
            "tags": []
          },
          "execution_count": 5
        }
      ]
    },
    {
      "cell_type": "code",
      "metadata": {
        "colab": {
          "base_uri": "https://localhost:8080/"
        },
        "id": "A_uyqhcZIOK7",
        "outputId": "ae66e9e1-caf1-4cc9-cc45-b8f25c87bbff"
      },
      "source": [
        "a / b"
      ],
      "execution_count": 6,
      "outputs": [
        {
          "output_type": "execute_result",
          "data": {
            "text/plain": [
              "<tf.Tensor: shape=(2, 2), dtype=float32, numpy=\n",
              "array([[ 0.2       ,  0.33333334],\n",
              "       [-0.42857143,  0.5       ]], dtype=float32)>"
            ]
          },
          "metadata": {
            "tags": []
          },
          "execution_count": 6
        }
      ]
    },
    {
      "cell_type": "code",
      "metadata": {
        "colab": {
          "base_uri": "https://localhost:8080/"
        },
        "id": "a8-K7-UmIZE5",
        "outputId": "fc5e4b60-8afd-47f3-fe59-81fc0e7ba875"
      },
      "source": [
        "a ** 2"
      ],
      "execution_count": 7,
      "outputs": [
        {
          "output_type": "execute_result",
          "data": {
            "text/plain": [
              "<tf.Tensor: shape=(2, 2), dtype=float32, numpy=\n",
              "array([[ 1.,  4.],\n",
              "       [ 9., 16.]], dtype=float32)>"
            ]
          },
          "metadata": {
            "tags": []
          },
          "execution_count": 7
        }
      ]
    },
    {
      "cell_type": "code",
      "metadata": {
        "colab": {
          "base_uri": "https://localhost:8080/"
        },
        "id": "JyPSayZMIdXM",
        "outputId": "2f94de87-d4b9-4894-8351-5161b9ce90da"
      },
      "source": [
        "a ** (.5)"
      ],
      "execution_count": 8,
      "outputs": [
        {
          "output_type": "execute_result",
          "data": {
            "text/plain": [
              "<tf.Tensor: shape=(2, 2), dtype=float32, numpy=\n",
              "array([[1.       , 1.4142135],\n",
              "       [      nan, 2.       ]], dtype=float32)>"
            ]
          },
          "metadata": {
            "tags": []
          },
          "execution_count": 8
        }
      ]
    },
    {
      "cell_type": "code",
      "metadata": {
        "colab": {
          "base_uri": "https://localhost:8080/"
        },
        "id": "559Dap3OIo18",
        "outputId": "fa3009c7-c06c-439a-a4cd-6daef0302ba7"
      },
      "source": [
        "a % 3"
      ],
      "execution_count": 9,
      "outputs": [
        {
          "output_type": "execute_result",
          "data": {
            "text/plain": [
              "<tf.Tensor: shape=(2, 2), dtype=float32, numpy=\n",
              "array([[ 1.,  2.],\n",
              "       [-0.,  1.]], dtype=float32)>"
            ]
          },
          "metadata": {
            "tags": []
          },
          "execution_count": 9
        }
      ]
    },
    {
      "cell_type": "code",
      "metadata": {
        "colab": {
          "base_uri": "https://localhost:8080/"
        },
        "id": "cBJ_7tEHIwkK",
        "outputId": "97db152c-f2d6-416a-9653-3ba3c6b10cba"
      },
      "source": [
        "a // 3"
      ],
      "execution_count": 10,
      "outputs": [
        {
          "output_type": "execute_result",
          "data": {
            "text/plain": [
              "<tf.Tensor: shape=(2, 2), dtype=float32, numpy=\n",
              "array([[ 0.,  0.],\n",
              "       [-1.,  1.]], dtype=float32)>"
            ]
          },
          "metadata": {
            "tags": []
          },
          "execution_count": 10
        }
      ]
    },
    {
      "cell_type": "code",
      "metadata": {
        "colab": {
          "base_uri": "https://localhost:8080/"
        },
        "id": "7dKUDHGvI0Lx",
        "outputId": "ad4bdc31-1dcc-42e1-b9d2-cb96e707566f"
      },
      "source": [
        "a >= 2"
      ],
      "execution_count": 11,
      "outputs": [
        {
          "output_type": "execute_result",
          "data": {
            "text/plain": [
              "<tf.Tensor: shape=(2, 2), dtype=bool, numpy=\n",
              "array([[False,  True],\n",
              "       [False,  True]])>"
            ]
          },
          "metadata": {
            "tags": []
          },
          "execution_count": 11
        }
      ]
    },
    {
      "cell_type": "code",
      "metadata": {
        "colab": {
          "base_uri": "https://localhost:8080/"
        },
        "id": "S2-7EYOCI5Qm",
        "outputId": "82b0ada7-7c52-41ee-85bd-56e5dc517785"
      },
      "source": [
        "(a>=2)&(a<=3)"
      ],
      "execution_count": 12,
      "outputs": [
        {
          "output_type": "execute_result",
          "data": {
            "text/plain": [
              "<tf.Tensor: shape=(2, 2), dtype=bool, numpy=\n",
              "array([[False,  True],\n",
              "       [False, False]])>"
            ]
          },
          "metadata": {
            "tags": []
          },
          "execution_count": 12
        }
      ]
    },
    {
      "cell_type": "code",
      "metadata": {
        "colab": {
          "base_uri": "https://localhost:8080/"
        },
        "id": "VO8M4G_mI_Eg",
        "outputId": "1ea8d1ee-459b-4e7d-9244-98862d02d45f"
      },
      "source": [
        "a == 5"
      ],
      "execution_count": 13,
      "outputs": [
        {
          "output_type": "execute_result",
          "data": {
            "text/plain": [
              "<tf.Tensor: shape=(2, 2), dtype=bool, numpy=\n",
              "array([[False, False],\n",
              "       [False, False]])>"
            ]
          },
          "metadata": {
            "tags": []
          },
          "execution_count": 13
        }
      ]
    },
    {
      "cell_type": "code",
      "metadata": {
        "colab": {
          "base_uri": "https://localhost:8080/"
        },
        "id": "HPmvnV1MJNt5",
        "outputId": "5488aebd-cd30-41b9-864e-58a0361aa1f4"
      },
      "source": [
        "tf.sqrt(a)"
      ],
      "execution_count": 14,
      "outputs": [
        {
          "output_type": "execute_result",
          "data": {
            "text/plain": [
              "<tf.Tensor: shape=(2, 2), dtype=float32, numpy=\n",
              "array([[1.       , 1.4142135],\n",
              "       [      nan, 2.       ]], dtype=float32)>"
            ]
          },
          "metadata": {
            "tags": []
          },
          "execution_count": 14
        }
      ]
    },
    {
      "cell_type": "code",
      "metadata": {
        "colab": {
          "base_uri": "https://localhost:8080/"
        },
        "id": "hBtaQ5ALJU8b",
        "outputId": "1e2df7ae-9eaa-4c0d-a99d-f02d0f0045a7"
      },
      "source": [
        "a = tf.constant([1.0, 8.0])\n",
        "b = tf.constant([5.0, 6.0])\n",
        "c = tf.constant([6.0, 7.0])\n",
        "tf.add_n([a,b,c])"
      ],
      "execution_count": 15,
      "outputs": [
        {
          "output_type": "execute_result",
          "data": {
            "text/plain": [
              "<tf.Tensor: shape=(2,), dtype=float32, numpy=array([12., 21.], dtype=float32)>"
            ]
          },
          "metadata": {
            "tags": []
          },
          "execution_count": 15
        }
      ]
    },
    {
      "cell_type": "code",
      "metadata": {
        "colab": {
          "base_uri": "https://localhost:8080/"
        },
        "id": "vfaOd5WVJqQT",
        "outputId": "84324984-dbbe-4701-d3fb-2a728c76f68c"
      },
      "source": [
        "tf.print(tf.minimum(a, b, c))"
      ],
      "execution_count": 17,
      "outputs": [
        {
          "output_type": "stream",
          "text": [
            "[1 6]\n"
          ],
          "name": "stdout"
        }
      ]
    },
    {
      "cell_type": "code",
      "metadata": {
        "colab": {
          "base_uri": "https://localhost:8080/"
        },
        "id": "iIYT5dqXJ_f2",
        "outputId": "1eb1b3f1-d534-4870-b9a6-6c46ca48e2a9"
      },
      "source": [
        "#clip value\n",
        "x = tf.constant([0.9, -0.8, 100.0, -20.0, 0.7])\n",
        "y = tf.clip_by_value(x, clip_value_min=-1, clip_value_max=1)\n",
        "z = tf.clip_by_norm(x, clip_norm=3)\n",
        "\n",
        "tf.print(y)\n",
        "tf.print(z)"
      ],
      "execution_count": 18,
      "outputs": [
        {
          "output_type": "stream",
          "text": [
            "[0.9 -0.8 1 -1 0.7]\n",
            "[0.0264732055 -0.0235317405 2.94146752 -0.588293493 0.0205902718]\n"
          ],
          "name": "stdout"
        }
      ]
    },
    {
      "cell_type": "markdown",
      "metadata": {
        "id": "Tck5v2tLKmCv"
      },
      "source": [
        "Vector Operation"
      ]
    },
    {
      "cell_type": "code",
      "metadata": {
        "colab": {
          "base_uri": "https://localhost:8080/"
        },
        "id": "x6AVG95vKqYS",
        "outputId": "1e260863-f153-4854-d5ff-84e3fa9ecc46"
      },
      "source": [
        "a = tf.range(1, 10)\n",
        "tf.print(tf.reduce_sum(a))\n",
        "tf.print(tf.reduce_mean(a))\n",
        "tf.print(tf.reduce_max(a))\n",
        "tf.print(tf.reduce_min(a))\n",
        "tf.print(tf.reduce_prod(a))"
      ],
      "execution_count": 19,
      "outputs": [
        {
          "output_type": "stream",
          "text": [
            "45\n",
            "5\n",
            "9\n",
            "1\n",
            "362880\n"
          ],
          "name": "stdout"
        }
      ]
    },
    {
      "cell_type": "code",
      "metadata": {
        "colab": {
          "base_uri": "https://localhost:8080/"
        },
        "id": "HYzoMDidK8_8",
        "outputId": "1dd39135-9236-4082-c552-688fca14cc70"
      },
      "source": [
        "b = tf.reshape(a, (3, 3))\n",
        "tf.print(b)\n",
        "tf.print(tf.reduce_sum(b, axis=1, keepdims=True))\n",
        "tf.print(tf.reduce_sum(b, axis=0, keepdims=True))"
      ],
      "execution_count": 21,
      "outputs": [
        {
          "output_type": "stream",
          "text": [
            "[[1 2 3]\n",
            " [4 5 6]\n",
            " [7 8 9]]\n",
            "[[6]\n",
            " [15]\n",
            " [24]]\n",
            "[[12 15 18]]\n"
          ],
          "name": "stdout"
        }
      ]
    },
    {
      "cell_type": "code",
      "metadata": {
        "colab": {
          "base_uri": "https://localhost:8080/"
        },
        "id": "8H4Cq3yXLdmb",
        "outputId": "76cca382-2c09-46fe-d5fd-156724b23299"
      },
      "source": [
        "# reduce for bool type\n",
        "p = tf.constant([True, False, False])\n",
        "q = tf.constant([False, False, True])\n",
        "tf.print(tf.reduce_all(p))\n",
        "tf.print(tf.reduce_any(q))"
      ],
      "execution_count": 22,
      "outputs": [
        {
          "output_type": "stream",
          "text": [
            "0\n",
            "1\n"
          ],
          "name": "stdout"
        }
      ]
    },
    {
      "cell_type": "code",
      "metadata": {
        "colab": {
          "base_uri": "https://localhost:8080/"
        },
        "id": "aEiTZN1VL1_n",
        "outputId": "c4300c26-a4fb-4207-87da-4fd57cbc8895"
      },
      "source": [
        "s = tf.foldr(lambda a, b:a+b, tf.range(10))\n",
        "tf.print(s)"
      ],
      "execution_count": 23,
      "outputs": [
        {
          "output_type": "stream",
          "text": [
            "45\n"
          ],
          "name": "stdout"
        }
      ]
    },
    {
      "cell_type": "code",
      "metadata": {
        "colab": {
          "base_uri": "https://localhost:8080/"
        },
        "id": "edGN1GK2MCq4",
        "outputId": "5e366347-816d-4d54-a1bf-9f146497b8e1"
      },
      "source": [
        "# cumulative sum\n",
        "a = tf.range(1, 10)\n",
        "tf.print(tf.math.cumsum(a))\n",
        "tf.print(tf.math.cumprod(a))"
      ],
      "execution_count": 25,
      "outputs": [
        {
          "output_type": "stream",
          "text": [
            "[1 3 6 ... 28 36 45]\n",
            "[1 2 6 ... 5040 40320 362880]\n"
          ],
          "name": "stdout"
        }
      ]
    },
    {
      "cell_type": "code",
      "metadata": {
        "colab": {
          "base_uri": "https://localhost:8080/"
        },
        "id": "7OokA9bZMNoI",
        "outputId": "a544df8d-b486-4344-b990-2eb648d78e5a"
      },
      "source": [
        "a = tf.constant([1,3,7,5,4,8])\n",
        "\n",
        "values, indices = tf.math.top_k(a, 3, sorted=True)\n",
        "tf.print(values)\n",
        "tf.print(indices)"
      ],
      "execution_count": 26,
      "outputs": [
        {
          "output_type": "stream",
          "text": [
            "[8 7 5]\n",
            "[5 2 3]\n"
          ],
          "name": "stdout"
        }
      ]
    },
    {
      "cell_type": "markdown",
      "metadata": {
        "id": "K0vJJbuSM_dH"
      },
      "source": [
        "Matrix Operation"
      ]
    },
    {
      "cell_type": "code",
      "metadata": {
        "colab": {
          "base_uri": "https://localhost:8080/"
        },
        "id": "B69xECw1M7WM",
        "outputId": "eade910a-c588-4bb2-e044-951d378cee43"
      },
      "source": [
        "a = tf.constant([[1,2], [3,4]])\n",
        "b = tf.constant([[2,0], [0,2]])\n",
        "a@b"
      ],
      "execution_count": 28,
      "outputs": [
        {
          "output_type": "execute_result",
          "data": {
            "text/plain": [
              "<tf.Tensor: shape=(2, 2), dtype=int32, numpy=\n",
              "array([[2, 4],\n",
              "       [6, 8]], dtype=int32)>"
            ]
          },
          "metadata": {
            "tags": []
          },
          "execution_count": 28
        }
      ]
    },
    {
      "cell_type": "code",
      "metadata": {
        "colab": {
          "base_uri": "https://localhost:8080/"
        },
        "id": "V97m5QRYOaVE",
        "outputId": "4288e1e5-9549-4539-a363-83d7d1835a47"
      },
      "source": [
        "# matrix trace\n",
        "a = tf.constant([[1.0, 2], [3,4]])\n",
        "\n",
        "tf.transpose(a)"
      ],
      "execution_count": 30,
      "outputs": [
        {
          "output_type": "execute_result",
          "data": {
            "text/plain": [
              "<tf.Tensor: shape=(2, 2), dtype=float32, numpy=\n",
              "array([[1., 3.],\n",
              "       [2., 4.]], dtype=float32)>"
            ]
          },
          "metadata": {
            "tags": []
          },
          "execution_count": 30
        }
      ]
    },
    {
      "cell_type": "code",
      "metadata": {
        "colab": {
          "base_uri": "https://localhost:8080/"
        },
        "id": "mUMuPTo7O1Tj",
        "outputId": "8e7a5e66-5c00-44f9-cdbe-da2279a0ee2b"
      },
      "source": [
        "# matrix inverse\n",
        "a = tf.constant([[1.0, 2], [3,4]],dtype = tf.float32)\n",
        "tf.linalg.inv(a)"
      ],
      "execution_count": 31,
      "outputs": [
        {
          "output_type": "execute_result",
          "data": {
            "text/plain": [
              "<tf.Tensor: shape=(2, 2), dtype=float32, numpy=\n",
              "array([[-2.0000002 ,  1.0000001 ],\n",
              "       [ 1.5000001 , -0.50000006]], dtype=float32)>"
            ]
          },
          "metadata": {
            "tags": []
          },
          "execution_count": 31
        }
      ]
    },
    {
      "cell_type": "code",
      "metadata": {
        "colab": {
          "base_uri": "https://localhost:8080/"
        },
        "id": "kIfJpq2dPHZ0",
        "outputId": "d0568e24-2265-45ed-8c15-ab262aec2dfa"
      },
      "source": [
        "# matrix trace\n",
        "a = tf.constant([[1.0, 2], [3,4]])\n",
        "tf.linalg.trace(a)"
      ],
      "execution_count": 32,
      "outputs": [
        {
          "output_type": "execute_result",
          "data": {
            "text/plain": [
              "<tf.Tensor: shape=(), dtype=float32, numpy=5.0>"
            ]
          },
          "metadata": {
            "tags": []
          },
          "execution_count": 32
        }
      ]
    },
    {
      "cell_type": "code",
      "metadata": {
        "colab": {
          "base_uri": "https://localhost:8080/"
        },
        "id": "nlxlsb-OPeWh",
        "outputId": "0ec77ab3-d970-4394-b841-4fd0ede53ddd"
      },
      "source": [
        "# matrix norm\n",
        "a = tf.constant([[1.0, 2], [3, 4]])\n",
        "tf.linalg.norm(a)"
      ],
      "execution_count": 33,
      "outputs": [
        {
          "output_type": "execute_result",
          "data": {
            "text/plain": [
              "<tf.Tensor: shape=(), dtype=float32, numpy=5.477226>"
            ]
          },
          "metadata": {
            "tags": []
          },
          "execution_count": 33
        }
      ]
    },
    {
      "cell_type": "code",
      "metadata": {
        "colab": {
          "base_uri": "https://localhost:8080/"
        },
        "id": "6lrRnnyGPtdr",
        "outputId": "da7411d6-57b0-4064-e854-45d75c57baef"
      },
      "source": [
        "# determinant\n",
        "a = tf.constant([[1.0, 2], [3, 4]])\n",
        "tf.linalg.det(a)"
      ],
      "execution_count": 34,
      "outputs": [
        {
          "output_type": "execute_result",
          "data": {
            "text/plain": [
              "<tf.Tensor: shape=(), dtype=float32, numpy=-2.0>"
            ]
          },
          "metadata": {
            "tags": []
          },
          "execution_count": 34
        }
      ]
    },
    {
      "cell_type": "code",
      "metadata": {
        "colab": {
          "base_uri": "https://localhost:8080/"
        },
        "id": "SQCYn-GYP6Pd",
        "outputId": "561814b2-ced2-4eb0-8d66-23bdf4e1683d"
      },
      "source": [
        "# eigenvalues\n",
        "a = tf.constant([[1.0, 2], [5, 4]])\n",
        "tf.linalg.eigvals(a)"
      ],
      "execution_count": 35,
      "outputs": [
        {
          "output_type": "execute_result",
          "data": {
            "text/plain": [
              "<tf.Tensor: shape=(2,), dtype=complex64, numpy=array([-0.99999994+0.j,  5.9999995 +0.j], dtype=complex64)>"
            ]
          },
          "metadata": {
            "tags": []
          },
          "execution_count": 35
        }
      ]
    },
    {
      "cell_type": "code",
      "metadata": {
        "colab": {
          "base_uri": "https://localhost:8080/"
        },
        "id": "t2U_0C2aQPYH",
        "outputId": "a3502fad-1047-433f-fe3e-8bf400c37cf0"
      },
      "source": [
        "# QR decomposition\n",
        "a = tf.constant([[1.0, 2.0],[3.0, 4.0]], dtype=tf.float32)\n",
        "q, r = tf.linalg.qr(a)\n",
        "tf.print(q)\n",
        "tf.print(r)\n",
        "tf.print(q@r)"
      ],
      "execution_count": 36,
      "outputs": [
        {
          "output_type": "stream",
          "text": [
            "[[-0.316227794 -0.948683321]\n",
            " [-0.948683321 0.316227764]]\n",
            "[[-3.1622777 -4.4271884]\n",
            " [0 -0.632455409]]\n",
            "[[1.00000012 1.99999988]\n",
            " [3 3.99999976]]\n"
          ],
          "name": "stdout"
        }
      ]
    },
    {
      "cell_type": "code",
      "metadata": {
        "colab": {
          "base_uri": "https://localhost:8080/"
        },
        "id": "xu_mRdfGQrMo",
        "outputId": "7628ee12-9ba7-44fc-b4f6-ed4a202c0df2"
      },
      "source": [
        "# SVD decomposition\n",
        "a = tf.constant([[1.0, 2.0], [3.0, 4], [5.0, 6.0]], dtype=tf.float32)\n",
        "s, u, v = tf.linalg.svd(a)\n",
        "tf.print(u, \"\\n\")\n",
        "tf.print(s, \"\\n\")\n",
        "tf.print(v, \"\\n\")\n",
        "tf.print(u@tf.linalg.diag(s)@tf.transpose(v))"
      ],
      "execution_count": 37,
      "outputs": [
        {
          "output_type": "stream",
          "text": [
            "[[0.229847804 -0.883461118]\n",
            " [0.524744928 -0.240782872]\n",
            " [0.819642 0.401896209]] \n",
            "\n",
            "[9.52552 0.514300048] \n",
            "\n",
            "[[0.619629562 0.784894466]\n",
            " [0.784894466 -0.619629562]] \n",
            "\n",
            "[[1.00000155 2.00000095]\n",
            " [3.00000167 4.00000191]\n",
            " [5.00000191 6.00000191]]\n"
          ],
          "name": "stdout"
        }
      ]
    },
    {
      "cell_type": "code",
      "metadata": {
        "id": "STNcaKraRu6c"
      },
      "source": [
        "Brodcasting Matrix"
      ],
      "execution_count": null,
      "outputs": []
    },
    {
      "cell_type": "code",
      "metadata": {
        "colab": {
          "base_uri": "https://localhost:8080/"
        },
        "id": "dtcaKAmcRxRv",
        "outputId": "889f7965-2f7e-44fb-8d37-51e440c93b5a"
      },
      "source": [
        "a = tf.constant([1,2,3])\n",
        "b = tf.constant([[0,0,0],[1,1,1],[2,2,2]])\n",
        "b + a  # Identical to b + tf.broadcast_to(a,b.shape)"
      ],
      "execution_count": 38,
      "outputs": [
        {
          "output_type": "execute_result",
          "data": {
            "text/plain": [
              "<tf.Tensor: shape=(3, 3), dtype=int32, numpy=\n",
              "array([[1, 2, 3],\n",
              "       [2, 3, 4],\n",
              "       [3, 4, 5]], dtype=int32)>"
            ]
          },
          "metadata": {
            "tags": []
          },
          "execution_count": 38
        }
      ]
    },
    {
      "cell_type": "code",
      "metadata": {
        "colab": {
          "base_uri": "https://localhost:8080/"
        },
        "id": "BQo3xZ6MR4c6",
        "outputId": "666d70d5-1265-4432-846c-2077efd9fd13"
      },
      "source": [
        "tf.broadcast_to(a,b.shape)"
      ],
      "execution_count": 39,
      "outputs": [
        {
          "output_type": "execute_result",
          "data": {
            "text/plain": [
              "<tf.Tensor: shape=(3, 3), dtype=int32, numpy=\n",
              "array([[1, 2, 3],\n",
              "       [1, 2, 3],\n",
              "       [1, 2, 3]], dtype=int32)>"
            ]
          },
          "metadata": {
            "tags": []
          },
          "execution_count": 39
        }
      ]
    },
    {
      "cell_type": "code",
      "metadata": {
        "colab": {
          "base_uri": "https://localhost:8080/"
        },
        "id": "x7h3BUnvSKJX",
        "outputId": "2d6f77ef-c907-453b-c55f-c7d45d72f4ef"
      },
      "source": [
        "# Shape after broadcasting using static shape, requires arguments in TensorShape type\n",
        "tf.broadcast_static_shape(a.shape,b.shape)"
      ],
      "execution_count": 40,
      "outputs": [
        {
          "output_type": "execute_result",
          "data": {
            "text/plain": [
              "TensorShape([3, 3])"
            ]
          },
          "metadata": {
            "tags": []
          },
          "execution_count": 40
        }
      ]
    },
    {
      "cell_type": "code",
      "metadata": {
        "colab": {
          "base_uri": "https://localhost:8080/"
        },
        "id": "IIdYNfJISW47",
        "outputId": "1e9505d6-1794-44ef-cf64-dcc185026b9b"
      },
      "source": [
        "# Shape after broadcasting using dynamic shape, requires arguments in Tensor type\n",
        "c = tf.constant([1,2,3])\n",
        "d = tf.constant([[1],[2],[3]])\n",
        "tf.broadcast_dynamic_shape(tf.shape(c),tf.shape(d))"
      ],
      "execution_count": 41,
      "outputs": [
        {
          "output_type": "execute_result",
          "data": {
            "text/plain": [
              "<tf.Tensor: shape=(2,), dtype=int32, numpy=array([3, 3], dtype=int32)>"
            ]
          },
          "metadata": {
            "tags": []
          },
          "execution_count": 41
        }
      ]
    },
    {
      "cell_type": "code",
      "metadata": {
        "colab": {
          "base_uri": "https://localhost:8080/"
        },
        "id": "C0msmi2YTcJF",
        "outputId": "e353b22d-4622-4a57-e981-50f061c2d06f"
      },
      "source": [
        "c+d"
      ],
      "execution_count": 42,
      "outputs": [
        {
          "output_type": "execute_result",
          "data": {
            "text/plain": [
              "<tf.Tensor: shape=(3, 3), dtype=int32, numpy=\n",
              "array([[2, 3, 4],\n",
              "       [3, 4, 5],\n",
              "       [4, 5, 6]], dtype=int32)>"
            ]
          },
          "metadata": {
            "tags": []
          },
          "execution_count": 42
        }
      ]
    }
  ]
}