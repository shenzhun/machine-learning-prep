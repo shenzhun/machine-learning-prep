{
  "nbformat": 4,
  "nbformat_minor": 0,
  "metadata": {
    "colab": {
      "name": "embedding.ipynb",
      "provenance": [],
      "collapsed_sections": [],
      "toc_visible": true,
      "authorship_tag": "ABX9TyOIzx1oDgWORgDEuUVrcQpk",
      "include_colab_link": true
    },
    "kernelspec": {
      "name": "python3",
      "display_name": "Python 3"
    },
    "accelerator": "GPU"
  },
  "cells": [
    {
      "cell_type": "markdown",
      "metadata": {
        "id": "view-in-github",
        "colab_type": "text"
      },
      "source": [
        "<a href=\"https://colab.research.google.com/github/shenzhun/machine-learning-brushup/blob/master/embedding.ipynb\" target=\"_parent\"><img src=\"https://colab.research.google.com/assets/colab-badge.svg\" alt=\"Open In Colab\"/></a>"
      ]
    },
    {
      "cell_type": "markdown",
      "metadata": {
        "id": "5jT75YKRa7eJ",
        "colab_type": "text"
      },
      "source": [
        "# Gensim: Word2Vector"
      ]
    },
    {
      "cell_type": "code",
      "metadata": {
        "id": "SFwNZ5lPYulk",
        "colab_type": "code",
        "colab": {}
      },
      "source": [
        "from gensim.test.utils import datapath\n",
        "from gensim import utils\n",
        "\n",
        "class MyCorpus:\n",
        "\n",
        "  def __iter__(self):\n",
        "    corpus_path = datapath('lee_background.cor')\n",
        "    for line in open(corpus_path):\n",
        "      yield utils.simple_preprocess(line)"
      ],
      "execution_count": 0,
      "outputs": []
    },
    {
      "cell_type": "code",
      "metadata": {
        "id": "eNdcCvusZJby",
        "colab_type": "code",
        "colab": {}
      },
      "source": [
        "import gensim.models\n",
        "\n",
        "sentences = MyCorpus()\n",
        "model = gensim.models.Word2Vec(sentences=sentences, size=10, min_count=5, workers=5)"
      ],
      "execution_count": 0,
      "outputs": []
    },
    {
      "cell_type": "code",
      "metadata": {
        "id": "O69_Lv73alEi",
        "colab_type": "code",
        "outputId": "e98319fb-13db-4c4c-e265-8afa22167340",
        "colab": {
          "base_uri": "https://localhost:8080/",
          "height": 190
        }
      },
      "source": [
        "model.evaluate_word_pairs(datapath('wordsim353.tsv'))\n"
      ],
      "execution_count": 4,
      "outputs": [
        {
          "output_type": "stream",
          "text": [
            "/usr/local/lib/python3.6/dist-packages/ipykernel_launcher.py:1: DeprecationWarning: Call to deprecated `evaluate_word_pairs` (Method will be removed in 4.0.0, use self.wv.evaluate_word_pairs() instead).\n",
            "  \"\"\"Entry point for launching an IPython kernel.\n",
            "/usr/local/lib/python3.6/dist-packages/smart_open/smart_open_lib.py:402: UserWarning: This function is deprecated, use smart_open.open instead. See the migration notes for details: https://github.com/RaRe-Technologies/smart_open/blob/master/README.rst#migrating-to-the-new-open-function\n",
            "  'See the migration notes for details: %s' % _MIGRATION_NOTES_URL\n",
            "/usr/local/lib/python3.6/dist-packages/gensim/matutils.py:737: FutureWarning: Conversion of the second argument of issubdtype from `int` to `np.signedinteger` is deprecated. In future, it will be treated as `np.int64 == np.dtype(int).type`.\n",
            "  if np.issubdtype(vec.dtype, np.int):\n"
          ],
          "name": "stderr"
        },
        {
          "output_type": "execute_result",
          "data": {
            "text/plain": [
              "((0.18464737384606258, 0.15784323802123645),\n",
              " SpearmanrResult(correlation=0.219813812668275, pvalue=0.09149532313160862),\n",
              " 83.0028328611898)"
            ]
          },
          "metadata": {
            "tags": []
          },
          "execution_count": 4
        }
      ]
    },
    {
      "cell_type": "code",
      "metadata": {
        "id": "TWFJvisGZdv7",
        "colab_type": "code",
        "outputId": "28009c80-f8a9-42fe-dc0b-ca15537a6e43",
        "colab": {
          "base_uri": "https://localhost:8080/",
          "height": 51
        }
      },
      "source": [
        "vec_king = model.wv['king']\n",
        "print(vec_king)"
      ],
      "execution_count": 5,
      "outputs": [
        {
          "output_type": "stream",
          "text": [
            "[-0.0343412  -0.12522192  0.1887372   0.11908275 -0.09099519 -0.04378742\n",
            "  0.12093972  0.03999998  0.12022121  0.12861031]\n"
          ],
          "name": "stdout"
        }
      ]
    },
    {
      "cell_type": "code",
      "metadata": {
        "id": "hCPZgFO9Zrej",
        "colab_type": "code",
        "outputId": "9478c6a1-7922-4f0c-934f-eeb893cdac10",
        "colab": {
          "base_uri": "https://localhost:8080/",
          "height": 187
        }
      },
      "source": [
        "for i, word in enumerate(model.wv.vocab):\n",
        "  if i == 10:\n",
        "    break\n",
        "  print(word)"
      ],
      "execution_count": 6,
      "outputs": [
        {
          "output_type": "stream",
          "text": [
            "hundreds\n",
            "of\n",
            "people\n",
            "have\n",
            "been\n",
            "forced\n",
            "to\n",
            "their\n",
            "homes\n",
            "in\n"
          ],
          "name": "stdout"
        }
      ]
    },
    {
      "cell_type": "code",
      "metadata": {
        "id": "UH9jSACib_rI",
        "colab_type": "code",
        "colab": {
          "base_uri": "https://localhost:8080/",
          "height": 156
        },
        "outputId": "8ba7902b-9fd2-4dc7-d330-2166c4581984"
      },
      "source": [
        "model.wv.similarity('people', 'forced')\n",
        "model.wv.most_similar_cosmul('king')[:5]"
      ],
      "execution_count": 16,
      "outputs": [
        {
          "output_type": "stream",
          "text": [
            "/usr/local/lib/python3.6/dist-packages/gensim/matutils.py:737: FutureWarning: Conversion of the second argument of issubdtype from `int` to `np.signedinteger` is deprecated. In future, it will be treated as `np.int64 == np.dtype(int).type`.\n",
            "  if np.issubdtype(vec.dtype, np.int):\n"
          ],
          "name": "stderr"
        },
        {
          "output_type": "execute_result",
          "data": {
            "text/plain": [
              "[('adequate', 0.9948822259902954),\n",
              " ('resolution', 0.9936676025390625),\n",
              " ('nauru', 0.9935019612312317),\n",
              " ('infected', 0.9932862520217896),\n",
              " ('rise', 0.9932282567024231)]"
            ]
          },
          "metadata": {
            "tags": []
          },
          "execution_count": 16
        }
      ]
    },
    {
      "cell_type": "markdown",
      "metadata": {
        "id": "kUeyKlkNVsYE",
        "colab_type": "text"
      },
      "source": [
        "# PyTorch: Embedding and Lookup"
      ]
    },
    {
      "cell_type": "code",
      "metadata": {
        "id": "73QiSPR6C4dL",
        "colab_type": "code",
        "outputId": "af6fd176-aba5-4d5e-b9df-9ce854229293",
        "colab": {
          "base_uri": "https://localhost:8080/",
          "height": 34
        }
      },
      "source": [
        "import torch\n",
        "import torch.nn as nn\n",
        "import torch.nn.functional as F\n",
        "import torch.optim as optim\n",
        "\n",
        "torch.manual_seed(42)"
      ],
      "execution_count": 0,
      "outputs": [
        {
          "output_type": "execute_result",
          "data": {
            "text/plain": [
              "<torch._C.Generator at 0x7fe14bd233f0>"
            ]
          },
          "metadata": {
            "tags": []
          },
          "execution_count": 3
        }
      ]
    },
    {
      "cell_type": "code",
      "metadata": {
        "id": "vJITfgB-GMcP",
        "colab_type": "code",
        "outputId": "98f27863-b225-497c-fc6c-dae98fbb13cb",
        "colab": {
          "base_uri": "https://localhost:8080/",
          "height": 51
        }
      },
      "source": [
        "word_to_idx = {'hello': 0, 'world': 1}\n",
        "embeds = nn.Embedding(2, 5) # pretrained embedding model\n",
        "lookup_tensor = torch.tensor([word_to_idx[\"hello\"]], dtype=torch.long)\n",
        "hello_embed = embeds(lookup_tensor)\n",
        "print(hello_embed)"
      ],
      "execution_count": 0,
      "outputs": [
        {
          "output_type": "stream",
          "text": [
            "tensor([[ 0.3367,  0.1288,  0.2345,  0.2303, -1.1229]],\n",
            "       grad_fn=<EmbeddingBackward>)\n"
          ],
          "name": "stdout"
        }
      ]
    },
    {
      "cell_type": "markdown",
      "metadata": {
        "id": "92995PDRV5n6",
        "colab_type": "text"
      },
      "source": [
        "# N-Gram Language Modeling"
      ]
    },
    {
      "cell_type": "code",
      "metadata": {
        "id": "l0qwVpCMTLqd",
        "colab_type": "code",
        "colab": {}
      },
      "source": [
        "CONTEXT_SIZE = 2\n",
        "EMBEDDING_DIM = 10"
      ],
      "execution_count": 0,
      "outputs": []
    },
    {
      "cell_type": "code",
      "metadata": {
        "id": "BseHlGDmHop9",
        "colab_type": "code",
        "outputId": "c46110e0-7cd7-4f2e-c18c-428ca16bfd5f",
        "colab": {
          "base_uri": "https://localhost:8080/",
          "height": 34
        }
      },
      "source": [
        "test_sentence = \"\"\"When forty winters shall besiege thy brow,\n",
        "And dig deep trenches in thy beauty's field,\n",
        "Thy youth's proud livery so gazed on now,\n",
        "Will be a totter'd weed of small worth held:\n",
        "Then being asked, where all thy beauty lies,\n",
        "Where all the treasure of thy lusty days;\n",
        "To say, within thine own deep sunken eyes,\n",
        "Were an all-eating shame, and thriftless praise.\n",
        "How much more praise deserv'd thy beauty's use,\n",
        "If thou couldst answer 'This fair child of mine\n",
        "Shall sum my count, and make my old excuse,'\n",
        "Proving his beauty by succession thine!\n",
        "This were to be new made when thou art old,\n",
        "And see thy blood warm when thou feel'st it cold.\"\"\".split()\n",
        "\n",
        "trigrams = [([test_sentence[i], test_sentence[i+1]], test_sentence[i+2]) for i in range(len(test_sentence) - 2)]\n",
        "print(trigrams[:3])\n",
        "\n",
        "vocab = set(test_sentence)\n",
        "word_to_idx = {word: i for i, word in enumerate(vocab)}"
      ],
      "execution_count": 0,
      "outputs": [
        {
          "output_type": "stream",
          "text": [
            "[(['When', 'forty'], 'winters'), (['forty', 'winters'], 'shall'), (['winters', 'shall'], 'besiege')]\n"
          ],
          "name": "stdout"
        }
      ]
    },
    {
      "cell_type": "code",
      "metadata": {
        "id": "6p3ELltSPlX8",
        "colab_type": "code",
        "colab": {}
      },
      "source": [
        "class NGramLanguageModeler(nn.Module):\n",
        "  def __init__(self, vocab_size, embedding_dim, context_size):\n",
        "    super().__init__()\n",
        "    self.embeddings = nn.Embedding(vocab_size, embedding_dim)\n",
        "    self.linear1 = nn.Linear(context_size * embedding_dim, 128)\n",
        "    self.linear2 = nn.Linear(128, vocab_size)\n",
        "  \n",
        "  def forward(self, inputs):\n",
        "    embeds = self.embeddings(inputs).view((1, -1))\n",
        "    out = F.relu(self.linear1(embeds))\n",
        "    out = self.linear2(out)\n",
        "    log_probs = F.log_softmax(out, dim=1)\n",
        "    return log_probs\n",
        "  \n",
        "losses = []\n",
        "loss_function = nn.NLLLoss()\n",
        "model = NGramLanguageModeler(len(vocab), EMBEDDING_DIM, CONTEXT_SIZE)\n",
        "optimizer = optim.SGD(model.parameters(), lr=0.001)"
      ],
      "execution_count": 0,
      "outputs": []
    },
    {
      "cell_type": "code",
      "metadata": {
        "id": "TckF02d3TY0Z",
        "colab_type": "code",
        "outputId": "70c8099d-78c1-4246-ca91-9f4f7d3f1821",
        "colab": {
          "base_uri": "https://localhost:8080/",
          "height": 54
        }
      },
      "source": [
        "for epoch in range(10):\n",
        "  total_loss = 0\n",
        "  for context, target in trigrams:\n",
        "    context_idxs = torch.tensor([word_to_idx[w] for w in context], dtype=torch.long)\n",
        "    model.zero_grad()\n",
        "\n",
        "    log_probs = model(context_idxs)\n",
        "\n",
        "    loss = loss_function(log_probs, torch.tensor([word_to_idx[target]], dtype=torch.long))\n",
        "\n",
        "    loss.backward()\n",
        "    optimizer.step()\n",
        "\n",
        "    total_loss += loss.item()\n",
        "  losses.append(total_loss)\n",
        "print(losses)"
      ],
      "execution_count": 0,
      "outputs": [
        {
          "output_type": "stream",
          "text": [
            "[524.0827550888062, 521.2776417732239, 518.4930958747864, 515.7282702922821, 512.9818377494812, 510.2534718513489, 507.5416853427887, 504.8449203968048, 502.162556886673, 499.4929676055908, 496.8344533443451, 494.1861078739166]\n"
          ],
          "name": "stdout"
        }
      ]
    }
  ]
}