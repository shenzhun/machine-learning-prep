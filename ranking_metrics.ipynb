{
  "nbformat": 4,
  "nbformat_minor": 0,
  "metadata": {
    "colab": {
      "name": "ranking_metrics.ipynb",
      "provenance": [],
      "collapsed_sections": [],
      "toc_visible": true,
      "authorship_tag": "ABX9TyPJdCM9CEcmNahRCV5AsrEz",
      "include_colab_link": true
    },
    "kernelspec": {
      "name": "python3",
      "display_name": "Python 3"
    }
  },
  "cells": [
    {
      "cell_type": "markdown",
      "metadata": {
        "id": "view-in-github",
        "colab_type": "text"
      },
      "source": [
        "<a href=\"https://colab.research.google.com/github/shenzhun/machine-learning-brushup/blob/master/ranking_metrics.ipynb\" target=\"_parent\"><img src=\"https://colab.research.google.com/assets/colab-badge.svg\" alt=\"Open In Colab\"/></a>"
      ]
    },
    {
      "cell_type": "code",
      "metadata": {
        "id": "e4R1nTSQbD5t",
        "colab_type": "code",
        "colab": {}
      },
      "source": [
        "from math import log2\n",
        "import itertools as it\n",
        "from operator import add"
      ],
      "execution_count": 0,
      "outputs": []
    },
    {
      "cell_type": "markdown",
      "metadata": {
        "id": "4wIc0-NFNTN8",
        "colab_type": "text"
      },
      "source": [
        "Mean Reciprocal Rank (MRR)"
      ]
    },
    {
      "cell_type": "code",
      "metadata": {
        "id": "Xz39dZYQITE0",
        "colab_type": "code",
        "colab": {
          "base_uri": "https://localhost:8080/",
          "height": 34
        },
        "outputId": "496452df-a9e4-49dd-f2f5-b620dd87264d"
      },
      "source": [
        "def mean_reciprocal_rank(relevances):\n",
        "  m = len(relevances)\n",
        "  return sum(1 / i for i, r in enumerate(relevances, start=1) if sum(r) > 0) / m\n",
        "\n",
        "rels = [[0, 0, 0], \n",
        "      [0, 1, 0], \n",
        "      [1, 0, 0]]\n",
        "\n",
        "print(mean_reciprocal_rank(rels))"
      ],
      "execution_count": 14,
      "outputs": [
        {
          "output_type": "stream",
          "text": [
            "0.27777777777777773\n"
          ],
          "name": "stdout"
        }
      ]
    },
    {
      "cell_type": "markdown",
      "metadata": {
        "id": "EE32UpJXNdnC",
        "colab_type": "text"
      },
      "source": [
        "Average Precision (AP)"
      ]
    },
    {
      "cell_type": "code",
      "metadata": {
        "id": "hBUl4xi3NsoK",
        "colab_type": "code",
        "colab": {
          "base_uri": "https://localhost:8080/",
          "height": 34
        },
        "outputId": "17e462f3-27ff-4093-e754-d5244ea223d4"
      },
      "source": [
        "def average_precision(rels):\n",
        "  \"\"\"Score is average precision (area under PR curve)\n",
        "\n",
        "  Relavance is binary\n",
        "  \n",
        "  \"\"\"\n",
        "  return sum([sum(rels[:x]) / x for x, y in enumerate(rels, start=1) if y]) / sum(rels) if sum(rels) > 0 else 0\n",
        "\n",
        "rels = [1, 1, 0, 1, 0, 1, 0, 0, 0, 1]\n",
        "\n",
        "print(average_precision(rels))\n"
      ],
      "execution_count": 12,
      "outputs": [
        {
          "output_type": "stream",
          "text": [
            "0.7833333333333333\n"
          ],
          "name": "stdout"
        }
      ]
    },
    {
      "cell_type": "markdown",
      "metadata": {
        "id": "zH-CBTMyPhIG",
        "colab_type": "text"
      },
      "source": [
        "Mean Average Precision (MAP)"
      ]
    },
    {
      "cell_type": "code",
      "metadata": {
        "id": "lMthTmWUPuX0",
        "colab_type": "code",
        "colab": {
          "base_uri": "https://localhost:8080/",
          "height": 34
        },
        "outputId": "71d8248a-9583-4b94-9553-274d4750c876"
      },
      "source": [
        "def mean_average_precision(rels):\n",
        "  return sum(average_precision(r) for r in rels) / len(rels)\n",
        "\n",
        "user_rels = [[1, 1, 0, 1, 0, 1, 0, 0, 0, 1], [0, 0, 0, 0, 0, 0, 0, 0, 0, 0]]\n",
        "print(mean_average_precision(user_rels))\n"
      ],
      "execution_count": 13,
      "outputs": [
        {
          "output_type": "stream",
          "text": [
            "0.39166666666666666\n"
          ],
          "name": "stdout"
        }
      ]
    },
    {
      "cell_type": "markdown",
      "metadata": {
        "id": "P_mJAb2fSK6R",
        "colab_type": "text"
      },
      "source": [
        "Precision at k"
      ]
    },
    {
      "cell_type": "code",
      "metadata": {
        "id": "VZoo1mBQSKOY",
        "colab_type": "code",
        "colab": {
          "base_uri": "https://localhost:8080/",
          "height": 34
        },
        "outputId": "93a14ad6-b7ee-450d-bd60-6e6ce7adf19b"
      },
      "source": [
        "def precision_at_k(rels, k=5):\n",
        "  return sum(rels[:k]) / k\n",
        "\n",
        "rels = [1, 1, 0, 1, 0, 1, 0, 0, 0, 1]\n",
        "print(precision_at_k(rels))"
      ],
      "execution_count": 15,
      "outputs": [
        {
          "output_type": "stream",
          "text": [
            "0.6\n"
          ],
          "name": "stdout"
        }
      ]
    },
    {
      "cell_type": "code",
      "metadata": {
        "id": "snJFIzJAbUGc",
        "colab_type": "code",
        "colab": {}
      },
      "source": [
        "relevances = [3, 2, 3, 0, 0, 1, 2, 2, 3, 0]"
      ],
      "execution_count": 0,
      "outputs": []
    },
    {
      "cell_type": "markdown",
      "metadata": {
        "id": "PNoppuTIX5Rw",
        "colab_type": "text"
      },
      "source": [
        "DCG"
      ]
    },
    {
      "cell_type": "code",
      "metadata": {
        "id": "m6wyVBhRX2iz",
        "colab_type": "code",
        "colab": {}
      },
      "source": [
        "\n",
        "def dcg_at_k(relevances, method=0):\n",
        "  for i, r in enumerate(relevances, start=1):\n",
        "    if method == 0:\n",
        "      return list(it.accumulate([relevances[0]] + [round(r/log2(i), 2) for i, r in enumerate(relevances[1:], start=2)], add))\n",
        "    elif method == 1:\n",
        "      return list(it.accumulate([round(r/log2(i), 2) for i, r in enumerate(relevances, start=2)], add))"
      ],
      "execution_count": 0,
      "outputs": []
    },
    {
      "cell_type": "markdown",
      "metadata": {
        "id": "2_DwSQWBa48T",
        "colab_type": "text"
      },
      "source": [
        "Ideal DCG"
      ]
    },
    {
      "cell_type": "code",
      "metadata": {
        "id": "5rPC5-J9bgxg",
        "colab_type": "code",
        "colab": {}
      },
      "source": [
        "def idcg_at_k(relevances, method=0):\n",
        "  ideal_relevances = sorted(relevances, reverse=True)\n",
        "  print(ideal_relevances)\n",
        "  return dcg_at_k(ideal_relevances)"
      ],
      "execution_count": 0,
      "outputs": []
    },
    {
      "cell_type": "markdown",
      "metadata": {
        "id": "E08t3RQebx66",
        "colab_type": "text"
      },
      "source": [
        "nDCG"
      ]
    },
    {
      "cell_type": "code",
      "metadata": {
        "id": "UeNxpbita21C",
        "colab_type": "code",
        "colab": {}
      },
      "source": [
        "def ndcg_at_k(relevances, method=0):\n",
        "  return [round(i/j, 2) for i, j in zip(dcg_at_k(relevances, method), idcg_at_k(relevances,method))]"
      ],
      "execution_count": 0,
      "outputs": []
    },
    {
      "cell_type": "code",
      "metadata": {
        "id": "0Ib71lIdcEzc",
        "colab_type": "code",
        "colab": {
          "base_uri": "https://localhost:8080/",
          "height": 88
        },
        "outputId": "be1f600d-cb4a-46cc-e23f-dff1af0c5364"
      },
      "source": [
        "print(dcg_at_k(relevances, 1), idcg_at_k(relevances, 1), ndcg_at_k(relevances, 1))"
      ],
      "execution_count": 63,
      "outputs": [
        {
          "output_type": "stream",
          "text": [
            "[3, 3, 3, 2, 2, 2, 1, 0, 0, 0]\n",
            "[3, 3, 3, 2, 2, 2, 1, 0, 0, 0]\n",
            "[3.0, 4.26, 5.76, 5.76, 5.76, 6.12, 6.79, 7.42, 8.32, 8.32] [3, 6.0, 7.89, 8.89, 9.75, 10.52, 10.879999999999999, 10.879999999999999, 10.879999999999999, 10.879999999999999] [1.0, 0.71, 0.73, 0.65, 0.59, 0.58, 0.62, 0.68, 0.76, 0.76]\n"
          ],
          "name": "stdout"
        }
      ]
    }
  ]
}