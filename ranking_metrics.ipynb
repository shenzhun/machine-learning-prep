{
  "nbformat": 4,
  "nbformat_minor": 0,
  "metadata": {
    "colab": {
      "name": "ranking_metrics.ipynb",
      "provenance": [],
      "collapsed_sections": [],
      "authorship_tag": "ABX9TyOCoGfKfdDtXH92Pv8vm+6z",
      "include_colab_link": true
    },
    "kernelspec": {
      "name": "python3",
      "display_name": "Python 3"
    }
  },
  "cells": [
    {
      "cell_type": "markdown",
      "metadata": {
        "id": "view-in-github",
        "colab_type": "text"
      },
      "source": [
        "<a href=\"https://colab.research.google.com/github/shenzhun/machine-learning-brushup/blob/master/ranking_metrics.ipynb\" target=\"_parent\"><img src=\"https://colab.research.google.com/assets/colab-badge.svg\" alt=\"Open In Colab\"/></a>"
      ]
    },
    {
      "cell_type": "code",
      "metadata": {
        "id": "e4R1nTSQbD5t",
        "colab_type": "code",
        "colab": {}
      },
      "source": [
        "from math import log2\n",
        "import itertools as it\n",
        "from operator import add"
      ],
      "execution_count": 0,
      "outputs": []
    },
    {
      "cell_type": "code",
      "metadata": {
        "id": "snJFIzJAbUGc",
        "colab_type": "code",
        "colab": {}
      },
      "source": [
        "relevances = [3, 2, 3, 0, 0, 1, 2, 2, 3, 0]"
      ],
      "execution_count": 0,
      "outputs": []
    },
    {
      "cell_type": "markdown",
      "metadata": {
        "id": "PNoppuTIX5Rw",
        "colab_type": "text"
      },
      "source": [
        "DCG"
      ]
    },
    {
      "cell_type": "code",
      "metadata": {
        "id": "m6wyVBhRX2iz",
        "colab_type": "code",
        "colab": {}
      },
      "source": [
        "\n",
        "def dcg_at_k(relevances, method=0):\n",
        "  for i, r in enumerate(relevances, start=1):\n",
        "    if method == 0:\n",
        "      return list(it.accumulate([relevances[0]] + [round(r/log2(i), 2) for i, r in enumerate(relevances[1:], start=2)], add))\n",
        "    elif method == 1:\n",
        "      return list(it.accumulate([round(r/log2(i), 2) for i, r in enumerate(relevances, start=2)], add))"
      ],
      "execution_count": 0,
      "outputs": []
    },
    {
      "cell_type": "markdown",
      "metadata": {
        "id": "2_DwSQWBa48T",
        "colab_type": "text"
      },
      "source": [
        "Ideal DCG"
      ]
    },
    {
      "cell_type": "code",
      "metadata": {
        "id": "5rPC5-J9bgxg",
        "colab_type": "code",
        "colab": {}
      },
      "source": [
        "def idcg_at_k(relevances, method=0):\n",
        "  ideal_relevances = sorted(relevances, reverse=True)\n",
        "  print(ideal_relevances)\n",
        "  return dcg_at_k(ideal_relevances)"
      ],
      "execution_count": 0,
      "outputs": []
    },
    {
      "cell_type": "markdown",
      "metadata": {
        "id": "E08t3RQebx66",
        "colab_type": "text"
      },
      "source": [
        "nDCG"
      ]
    },
    {
      "cell_type": "code",
      "metadata": {
        "id": "UeNxpbita21C",
        "colab_type": "code",
        "colab": {}
      },
      "source": [
        "def ndcg_at_k(relevances, method=0):\n",
        "  return [round(i/j, 2) for i, j in zip(dcg_at_k(relevances, method), idcg_at_k(relevances,method))]"
      ],
      "execution_count": 0,
      "outputs": []
    },
    {
      "cell_type": "code",
      "metadata": {
        "id": "0Ib71lIdcEzc",
        "colab_type": "code",
        "colab": {
          "base_uri": "https://localhost:8080/",
          "height": 88
        },
        "outputId": "be1f600d-cb4a-46cc-e23f-dff1af0c5364"
      },
      "source": [
        "print(dcg_at_k(relevances, 1), idcg_at_k(relevances, 1), ndcg_at_k(relevances, 1))"
      ],
      "execution_count": 63,
      "outputs": [
        {
          "output_type": "stream",
          "text": [
            "[3, 3, 3, 2, 2, 2, 1, 0, 0, 0]\n",
            "[3, 3, 3, 2, 2, 2, 1, 0, 0, 0]\n",
            "[3.0, 4.26, 5.76, 5.76, 5.76, 6.12, 6.79, 7.42, 8.32, 8.32] [3, 6.0, 7.89, 8.89, 9.75, 10.52, 10.879999999999999, 10.879999999999999, 10.879999999999999, 10.879999999999999] [1.0, 0.71, 0.73, 0.65, 0.59, 0.58, 0.62, 0.68, 0.76, 0.76]\n"
          ],
          "name": "stdout"
        }
      ]
    }
  ]
}