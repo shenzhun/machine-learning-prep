{
  "nbformat": 4,
  "nbformat_minor": 0,
  "metadata": {
    "colab": {
      "name": "sgd.ipynb",
      "provenance": [],
      "include_colab_link": true
    },
    "kernelspec": {
      "name": "python3",
      "display_name": "Python 3"
    },
    "accelerator": "GPU"
  },
  "cells": [
    {
      "cell_type": "markdown",
      "metadata": {
        "id": "view-in-github",
        "colab_type": "text"
      },
      "source": [
        "<a href=\"https://colab.research.google.com/github/shenzhun/CSCI-561/blob/master/sgd.ipynb\" target=\"_parent\"><img src=\"https://colab.research.google.com/assets/colab-badge.svg\" alt=\"Open In Colab\"/></a>"
      ]
    },
    {
      "cell_type": "markdown",
      "metadata": {
        "id": "Ho0xJS9gEkhj",
        "colab_type": "text"
      },
      "source": [
        "# Standard Gradient Descent"
      ]
    },
    {
      "cell_type": "code",
      "metadata": {
        "id": "OTJ0La-bA-Ps",
        "colab_type": "code",
        "colab": {}
      },
      "source": [
        "import torch\n",
        "from torch import tensor, nn"
      ],
      "execution_count": 0,
      "outputs": []
    },
    {
      "cell_type": "code",
      "metadata": {
        "id": "ke-2d7TaArBg",
        "colab_type": "code",
        "colab": {}
      },
      "source": [
        "n = 100\n",
        "a = tensor([2.,1.])"
      ],
      "execution_count": 0,
      "outputs": []
    },
    {
      "cell_type": "code",
      "metadata": {
        "id": "x8lqp18nBPp2",
        "colab_type": "code",
        "colab": {
          "base_uri": "https://localhost:8080/",
          "height": 102
        },
        "outputId": "c84f6641-9a31-4ff2-a975-bf13596a5e55"
      },
      "source": [
        "x = torch.ones(n, 2)\n",
        "x[:, 0].uniform_(-1, 1)\n",
        "x[:5]"
      ],
      "execution_count": 25,
      "outputs": [
        {
          "output_type": "execute_result",
          "data": {
            "text/plain": [
              "tensor([[-0.1783,  1.0000],\n",
              "        [-0.8236,  1.0000],\n",
              "        [-0.0129,  1.0000],\n",
              "        [-0.6885,  1.0000],\n",
              "        [-0.1275,  1.0000]])"
            ]
          },
          "metadata": {
            "tags": []
          },
          "execution_count": 25
        }
      ]
    },
    {
      "cell_type": "code",
      "metadata": {
        "id": "gxqkPy7dB4dE",
        "colab_type": "code",
        "colab": {
          "base_uri": "https://localhost:8080/",
          "height": 34
        },
        "outputId": "c56a0c76-dc76-4f8a-ff50-baaa5d458956"
      },
      "source": [
        "y = x@a + torch.rand(n)\n",
        "y[:5]"
      ],
      "execution_count": 26,
      "outputs": [
        {
          "output_type": "execute_result",
          "data": {
            "text/plain": [
              "tensor([1.0598, 0.3301, 0.9778, 0.4377, 1.1871])"
            ]
          },
          "metadata": {
            "tags": []
          },
          "execution_count": 26
        }
      ]
    },
    {
      "cell_type": "code",
      "metadata": {
        "id": "-tE9FrN3CltW",
        "colab_type": "code",
        "colab": {}
      },
      "source": [
        "def mse(y_hat, y):\n",
        "  return ((y_hat - y) ** 2).mean()"
      ],
      "execution_count": 0,
      "outputs": []
    },
    {
      "cell_type": "code",
      "metadata": {
        "id": "b9pHdvgVC5B_",
        "colab_type": "code",
        "colab": {}
      },
      "source": [
        "a = nn.Parameter(tensor([1., 1.]))\n",
        "def train():\n",
        "  y_hat = x@a\n",
        "  loss = mse(y_hat, y)\n",
        "  if epoch % 10 == 0:\n",
        "    print(loss)\n",
        "\n",
        "  loss.backward()\n",
        "  with torch.no_grad():\n",
        "    a.sub_(lr * a.grad)\n",
        "    a.grad.zero_()\n"
      ],
      "execution_count": 0,
      "outputs": []
    },
    {
      "cell_type": "code",
      "metadata": {
        "id": "7JFfDgraDyip",
        "colab_type": "code",
        "colab": {
          "base_uri": "https://localhost:8080/",
          "height": 221
        },
        "outputId": "c8264a71-f811-4659-daa5-68d830ab7ca5"
      },
      "source": [
        "lr = 0.001\n",
        "for epoch in range(100):\n",
        "  train()\n",
        "\n",
        "a"
      ],
      "execution_count": 36,
      "outputs": [
        {
          "output_type": "stream",
          "text": [
            "tensor(0.5187, grad_fn=<MeanBackward0>)\n",
            "tensor(0.5098, grad_fn=<MeanBackward0>)\n",
            "tensor(0.5011, grad_fn=<MeanBackward0>)\n",
            "tensor(0.4926, grad_fn=<MeanBackward0>)\n",
            "tensor(0.4844, grad_fn=<MeanBackward0>)\n",
            "tensor(0.4764, grad_fn=<MeanBackward0>)\n",
            "tensor(0.4686, grad_fn=<MeanBackward0>)\n",
            "tensor(0.4610, grad_fn=<MeanBackward0>)\n",
            "tensor(0.4536, grad_fn=<MeanBackward0>)\n",
            "tensor(0.4465, grad_fn=<MeanBackward0>)\n"
          ],
          "name": "stdout"
        },
        {
          "output_type": "execute_result",
          "data": {
            "text/plain": [
              "Parameter containing:\n",
              "tensor([1.1172, 1.1653], requires_grad=True)"
            ]
          },
          "metadata": {
            "tags": []
          },
          "execution_count": 36
        }
      ]
    },
    {
      "cell_type": "markdown",
      "metadata": {
        "id": "epjmAmfLErIO",
        "colab_type": "text"
      },
      "source": [
        "# SGD\n"
      ]
    }
  ]
}