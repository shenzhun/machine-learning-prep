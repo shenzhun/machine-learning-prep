{
  "nbformat": 4,
  "nbformat_minor": 0,
  "metadata": {
    "colab": {
      "name": "ranking_models.ipynb",
      "provenance": [],
      "toc_visible": true,
      "authorship_tag": "ABX9TyOOa2e1zX4vu018dl+JGLG+",
      "include_colab_link": true
    },
    "kernelspec": {
      "name": "python3",
      "display_name": "Python 3"
    }
  },
  "cells": [
    {
      "cell_type": "markdown",
      "metadata": {
        "id": "view-in-github",
        "colab_type": "text"
      },
      "source": [
        "<a href=\"https://colab.research.google.com/github/shenzhun/machine-learning-brushup/blob/master/ranking/ranking_models.ipynb\" target=\"_parent\"><img src=\"https://colab.research.google.com/assets/colab-badge.svg\" alt=\"Open In Colab\"/></a>"
      ]
    },
    {
      "cell_type": "code",
      "metadata": {
        "id": "989nC7Tia0zT",
        "colab_type": "code",
        "colab": {}
      },
      "source": [
        "import numpy as np"
      ],
      "execution_count": 0,
      "outputs": []
    },
    {
      "cell_type": "code",
      "metadata": {
        "id": "W6Zp2LU5cQ-D",
        "colab_type": "code",
        "colab": {}
      },
      "source": [
        "corpus = ['this is the first document',\n",
        "          'this document is the second document',\n",
        "          'and this is the third one',\n",
        "          'is this the first document',\n",
        "          ]"
      ],
      "execution_count": 0,
      "outputs": []
    },
    {
      "cell_type": "markdown",
      "metadata": {
        "id": "CcpukUWebaSK",
        "colab_type": "text"
      },
      "source": [
        "# TF-IDF"
      ]
    },
    {
      "cell_type": "code",
      "metadata": {
        "id": "b0B6Bn2hbxlR",
        "colab_type": "code",
        "colab": {}
      },
      "source": [
        "from collections import defaultdict, Counter\n",
        "\n",
        "corpus = [\n",
        "    'i like cats',\n",
        "    'i love dogs',\n",
        "    'i hate spiders and i love cats',\n",
        "]\n"
      ],
      "execution_count": 0,
      "outputs": []
    },
    {
      "cell_type": "code",
      "metadata": {
        "id": "vbXO8t7nfx-c",
        "colab_type": "code",
        "colab": {
          "base_uri": "https://localhost:8080/",
          "height": 119
        },
        "outputId": "0c81ebfa-1826-421c-fd78-5ffeae26b436"
      },
      "source": [
        "term_in_doc = defaultdict(set)\n",
        "\n",
        "for idx, sen in enumerate(corpus):\n",
        "    words = sen.split()\n",
        "    for w in words:\n",
        "        term_in_doc[w].add(idx)\n",
        "\n",
        "col_names = {k: i for i, k in enumerate(term_in_doc.keys())}\n",
        "\n",
        "m, n = len(corpus), len(term_in_doc)\n",
        "\n",
        "data = np.zero((m, n))\n",
        "\n",
        "# matrix = [[0 for _ in range(n)] for _ in range(m)]\n",
        "for idx, sen in enumerate(corpus):\n",
        "    words = sen.split()\n",
        "    counter = Counter(words)\n",
        "    for w, freq in counter.items():\n",
        "        col_idx = col_names[w]\n",
        "        matrix[idx][col_idx] = freq / len(term_in_doc[w])\n",
        "\n",
        "\n",
        "np.matrix(matrix)\n"
      ],
      "execution_count": 8,
      "outputs": [
        {
          "output_type": "execute_result",
          "data": {
            "text/plain": [
              "matrix([[0.33333333, 1.        , 0.5       , 0.        , 0.        ,\n",
              "         0.        , 0.        , 0.        ],\n",
              "        [0.33333333, 0.        , 0.        , 0.5       , 1.        ,\n",
              "         0.        , 0.        , 0.        ],\n",
              "        [0.66666667, 0.        , 0.5       , 0.5       , 0.        ,\n",
              "         1.        , 1.        , 1.        ]])"
            ]
          },
          "metadata": {
            "tags": []
          },
          "execution_count": 8
        }
      ]
    },
    {
      "cell_type": "markdown",
      "metadata": {
        "id": "2lScGk5dbu4X",
        "colab_type": "text"
      },
      "source": [
        "# BM25"
      ]
    }
  ]
}