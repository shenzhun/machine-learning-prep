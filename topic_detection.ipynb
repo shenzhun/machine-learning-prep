{
 "cells": [
  {
   "cell_type": "code",
   "execution_count": 21,
   "metadata": {},
   "outputs": [],
   "source": [
    "from collections import defaultdict\n",
    "from sklearn.cluster import KMeans\n",
    "import numpy as np"
   ]
  },
  {
   "cell_type": "code",
   "execution_count": 22,
   "metadata": {},
   "outputs": [],
   "source": [
    "documents = [\"this is month of february\",\n",
    "            \"lets go for it\",\n",
    "            \"This is an example doc\",\n",
    "            \"Nike says lets do it\",\n",
    "            \"This is black history month\"] "
   ]
  },
  {
   "cell_type": "code",
   "execution_count": 23,
   "metadata": {},
   "outputs": [],
   "source": [
    "def build_vocab(documents):\n",
    "    bow = {}\n",
    "    for doc in documents:\n",
    "        words = doc.lower().split()\n",
    "        for word in words:\n",
    "            if word not in bow:\n",
    "                bow[word] = 1\n",
    "    \n",
    "    return {w:i for i, w in enumerate(bow.keys())}"
   ]
  },
  {
   "cell_type": "code",
   "execution_count": 24,
   "metadata": {},
   "outputs": [],
   "source": [
    "VOCAB = build_vocab(documents)"
   ]
  },
  {
   "cell_type": "code",
   "execution_count": 33,
   "metadata": {},
   "outputs": [],
   "source": [
    "def clustering(documents, k):\n",
    "    # Return the clusters\n",
    "    matrix = encoding(documents)\n",
    "    kmeans = KMeans(n_clusters=k, max_iter=10, random_state=0).fit(matrix)        \n",
    "    \n",
    "    result = defaultdict(list)\n",
    "#     for idx, vector in enumerate(matrix):\n",
    "#         cluster_idx = kmeans.predict([vector])[0]\n",
    "#         result[cluster_idx].append(documents[idx])\n",
    "\n",
    "    preds = kmeans.predict(matrix)\n",
    "\n",
    "    for idx, doc in enumerate(documents):\n",
    "        cluster_id = preds[idx]        \n",
    "        result[cluster_id].append(documents[idx])\n",
    "    return result"
   ]
  },
  {
   "cell_type": "code",
   "execution_count": 34,
   "metadata": {},
   "outputs": [],
   "source": [
    "def encoding(documents):\n",
    "    # idea around one hot encoding\n",
    "    matrix = []\n",
    "    for doc in documents:\n",
    "        words = doc.lower().split() # assumption is we have space separated document.\n",
    "        vector = [0] * len(VOCAB)\n",
    "        for w in words:\n",
    "            if w in VOCAB:\n",
    "                idx = VOCAB[w]\n",
    "                vector[idx] += 1\n",
    "        matrix.append(vector) \n",
    "    return matrix"
   ]
  },
  {
   "cell_type": "code",
   "execution_count": 35,
   "metadata": {},
   "outputs": [
    {
     "data": {
      "text/plain": [
       "{'this': 0,\n",
       " 'is': 1,\n",
       " 'month': 2,\n",
       " 'of': 3,\n",
       " 'february': 4,\n",
       " 'lets': 5,\n",
       " 'go': 6,\n",
       " 'for': 7,\n",
       " 'it': 8,\n",
       " 'an': 9,\n",
       " 'example': 10,\n",
       " 'doc': 11,\n",
       " 'nike': 12,\n",
       " 'says': 13,\n",
       " 'do': 14,\n",
       " 'black': 15,\n",
       " 'history': 16}"
      ]
     },
     "execution_count": 35,
     "metadata": {},
     "output_type": "execute_result"
    }
   ],
   "source": [
    "VOCAB"
   ]
  },
  {
   "cell_type": "code",
   "execution_count": 36,
   "metadata": {},
   "outputs": [
    {
     "name": "stdout",
     "output_type": "stream",
     "text": [
      "defaultdict(<class 'list'>, {0: ['this is month of february', 'This is black history month'], 1: ['lets go for it', 'Nike says lets do it'], 2: ['This is an example doc']})\n"
     ]
    }
   ],
   "source": [
    "print(clustering(documents, 3))"
   ]
  }
 ],
 "metadata": {
  "kernelspec": {
   "display_name": "Python 3",
   "language": "python",
   "name": "python3"
  },
  "language_info": {
   "codemirror_mode": {
    "name": "ipython",
    "version": 3
   },
   "file_extension": ".py",
   "mimetype": "text/x-python",
   "name": "python",
   "nbconvert_exporter": "python",
   "pygments_lexer": "ipython3",
   "version": "3.7.3"
  }
 },
 "nbformat": 4,
 "nbformat_minor": 4
}
