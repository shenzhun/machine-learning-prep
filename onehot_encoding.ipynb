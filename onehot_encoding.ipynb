{
  "nbformat": 4,
  "nbformat_minor": 0,
  "metadata": {
    "colab": {
      "name": "onehot_encoding.ipynb",
      "provenance": [],
      "include_colab_link": true
    },
    "kernelspec": {
      "name": "python3",
      "display_name": "Python 3"
    },
    "accelerator": "GPU"
  },
  "cells": [
    {
      "cell_type": "markdown",
      "metadata": {
        "id": "view-in-github",
        "colab_type": "text"
      },
      "source": [
<<<<<<< HEAD
        "<a href=\"https://colab.research.google.com/github/shenzhun/CSCI-561/blob/master/onehot_encoding.ipynb\" target=\"_parent\"><img src=\"https://colab.research.google.com/assets/colab-badge.svg\" alt=\"Open In Colab\"/></a>"
=======
        "<a href=\"https://colab.research.google.com/github/shenzhun/machine-learning-brushup/blob/master/onehot_encoding.ipynb\" target=\"_parent\"><img src=\"https://colab.research.google.com/assets/colab-badge.svg\" alt=\"Open In Colab\"/></a>"
>>>>>>> 4a32440a3e6905ca5e7f29012089d2eaca29ac5d
      ]
    },
    {
      "cell_type": "code",
      "metadata": {
        "id": "Y23kG6NRMu9d",
        "colab_type": "code",
        "colab": {}
      },
      "source": [
        "from sklearn.preprocessing import OneHotEncoder"
      ],
      "execution_count": 0,
      "outputs": []
    },
    {
      "cell_type": "code",
      "metadata": {
        "id": "RqPqbUgxNEw-",
        "colab_type": "code",
        "colab": {}
      },
      "source": [
        "enc = OneHotEncoder(handle_unknown='ignore')"
      ],
      "execution_count": 0,
      "outputs": []
    },
    {
      "cell_type": "code",
      "metadata": {
        "id": "6oRp-d_jNKRx",
        "colab_type": "code",
        "colab": {}
      },
      "source": [
        "X = [['Male', 1], ['Female', 4], ['Female', 2]]"
      ],
      "execution_count": 0,
      "outputs": []
    },
    {
      "cell_type": "code",
      "metadata": {
        "id": "j_TCf8lYNWeo",
        "colab_type": "code",
        "colab": {
          "base_uri": "https://localhost:8080/",
          "height": 34
        },
        "outputId": "ddc67f63-7c09-4b85-d888-1dce555b82d1"
      },
      "source": [
        "enc.fit(X)\n",
        "enc.categories_"
      ],
      "execution_count": 16,
      "outputs": [
        {
          "output_type": "execute_result",
          "data": {
            "text/plain": [
              "[array(['Female', 'Male'], dtype=object), array([1, 2, 4], dtype=object)]"
            ]
          },
          "metadata": {
            "tags": []
          },
          "execution_count": 16
        }
      ]
    },
    {
      "cell_type": "markdown",
      "metadata": {
        "id": "cofFFXceOWR-",
        "colab_type": "text"
      },
      "source": [
        "3 is not in [1, 2, 4], so the tranformation below can not show the corresponding index"
      ]
    },
    {
      "cell_type": "code",
      "metadata": {
        "id": "8I5Y3Bk_N_w1",
        "colab_type": "code",
        "colab": {}
      },
      "source": [
        "Y = [['Male', 1], ['Female', 3]]"
      ],
      "execution_count": 0,
      "outputs": []
    },
    {
      "cell_type": "code",
      "metadata": {
        "id": "kfGL0KpKN8Lb",
        "colab_type": "code",
        "colab": {
          "base_uri": "https://localhost:8080/",
          "height": 51
        },
        "outputId": "c9246ba3-8bbd-49aa-8921-6bee8c26d460"
      },
      "source": [
        "enc.transform(Y).toarray()"
      ],
      "execution_count": 18,
      "outputs": [
        {
          "output_type": "execute_result",
          "data": {
            "text/plain": [
              "array([[0., 1., 1., 0., 0.],\n",
              "       [1., 0., 0., 0., 0.]])"
            ]
          },
          "metadata": {
            "tags": []
          },
          "execution_count": 18
        }
      ]
    },
    {
      "cell_type": "markdown",
      "metadata": {
        "id": "VtInL_dnOs6f",
        "colab_type": "text"
      },
      "source": [
        "add 3 in X dataset, it will work"
      ]
    },
    {
      "cell_type": "code",
      "metadata": {
        "id": "x44hhbaQOyBC",
        "colab_type": "code",
        "colab": {
          "base_uri": "https://localhost:8080/",
          "height": 51
        },
        "outputId": "1e65ef53-e762-4606-f790-ae2baf68fb4c"
      },
      "source": [
        "X.append(['Male', 3])\n",
        "enc.fit(X)\n",
        "enc.categories_\n",
        "enc.transform(Y).toarray()\n"
      ],
      "execution_count": 20,
      "outputs": [
        {
          "output_type": "execute_result",
          "data": {
            "text/plain": [
              "array([[0., 1., 1., 0., 0., 0.],\n",
              "       [1., 0., 0., 0., 1., 0.]])"
            ]
          },
          "metadata": {
            "tags": []
          },
          "execution_count": 20
        }
      ]
<<<<<<< HEAD
    },
    {
      "cell_type": "markdown",
      "metadata": {
        "id": "_xbjhU-JPom1",
        "colab_type": "text"
      },
      "source": [
        "# Inversion"
      ]
    },
    {
      "cell_type": "code",
      "metadata": {
        "id": "luRHwHWwPs_y",
        "colab_type": "code",
        "colab": {
          "base_uri": "https://localhost:8080/",
          "height": 51
        },
        "outputId": "e706fe10-3887-4393-a20e-62edb942f335"
      },
      "source": [
        "enc.inverse_transform([[0., 1., 1., 0., 0., 0.],[1., 0., 0., 0., 1., 0.]])"
      ],
      "execution_count": 21,
      "outputs": [
        {
          "output_type": "execute_result",
          "data": {
            "text/plain": [
              "array([['Male', 1],\n",
              "       ['Female', 3]], dtype=object)"
            ]
          },
          "metadata": {
            "tags": []
          },
          "execution_count": 21
        }
      ]
    },
    {
      "cell_type": "markdown",
      "metadata": {
        "id": "gy-GEMgAP8R7",
        "colab_type": "text"
      },
      "source": [
        "# Drop Encoder"
      ]
    },
    {
      "cell_type": "code",
      "metadata": {
        "id": "r5FjgPD_P1do",
        "colab_type": "code",
        "colab": {
          "base_uri": "https://localhost:8080/",
          "height": 51
        },
        "outputId": "1aeb7298-6dbb-44cf-a7b5-f649094a0aee"
      },
      "source": [
        "enc.get_feature_names(['gender', 'group'])"
      ],
      "execution_count": 22,
      "outputs": [
        {
          "output_type": "execute_result",
          "data": {
            "text/plain": [
              "array(['gender_Female', 'gender_Male', 'group_1', 'group_2', 'group_3',\n",
              "       'group_4'], dtype=object)"
            ]
          },
          "metadata": {
            "tags": []
          },
          "execution_count": 22
        }
      ]
    },
    {
      "cell_type": "code",
      "metadata": {
        "id": "_xWMD3BnQE4H",
        "colab_type": "code",
        "colab": {
          "base_uri": "https://localhost:8080/",
          "height": 34
        },
        "outputId": "07d8d325-7ce4-44d2-8bcb-c5bf99aa2290"
      },
      "source": [
        "drop_enc = OneHotEncoder(drop='first').fit(X)\n",
        "drop_enc.categories_"
      ],
      "execution_count": 40,
      "outputs": [
        {
          "output_type": "execute_result",
          "data": {
            "text/plain": [
              "[array(['Female', 'Male'], dtype=object), array([1, 2, 3, 4], dtype=object)]"
            ]
          },
          "metadata": {
            "tags": []
          },
          "execution_count": 40
        }
      ]
    },
    {
      "cell_type": "code",
      "metadata": {
        "id": "hF02YcnQQVO8",
        "colab_type": "code",
        "colab": {
          "base_uri": "https://localhost:8080/",
          "height": 68
        },
        "outputId": "cbd863fe-0d2f-44a3-9f65-356172422c17"
      },
      "source": [
        "drop_enc.transform([['Male', 1], ['Female', 4], ['Male', 2]]).toarray()"
      ],
      "execution_count": 42,
      "outputs": [
        {
          "output_type": "execute_result",
          "data": {
            "text/plain": [
              "array([[1., 0., 0., 0.],\n",
              "       [0., 0., 0., 1.],\n",
              "       [1., 1., 0., 0.]])"
            ]
          },
          "metadata": {
            "tags": []
          },
          "execution_count": 42
        }
      ]
=======
>>>>>>> 4a32440a3e6905ca5e7f29012089d2eaca29ac5d
    }
  ]
}